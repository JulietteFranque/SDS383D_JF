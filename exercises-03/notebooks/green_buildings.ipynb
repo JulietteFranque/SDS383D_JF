{
 "cells": [
  {
   "cell_type": "code",
   "execution_count": 1,
   "id": "affb4b45",
   "metadata": {},
   "outputs": [],
   "source": [
    "import numpy as np\n",
    "import os\n",
    "import pandas as pd\n",
    "import matplotlib.pyplot as plt\n",
    "os.chdir('/Users/juliette/Documents/repos/SDS383D_JF/exercises-03')\n",
    "from python_code import homoskedastic_model as hsk\n",
    "from python_code import gibbs_sampler as gs\n",
    "import matplotlib.style as style\n",
    "plt.rcParams.update({'axes.labelsize':16})\n",
    "plt.rcParams.update({'axes.titlesize':16})\n",
    "plt.rcParams.update({'legend.fontsize':16})\n",
    "plt.rcParams['xtick.labelsize'] = 16\n",
    "plt.rcParams['ytick.labelsize'] = 16\n",
    "plt.rcParams['lines.linewidth'] = 4\n",
    "style.use('ggplot')\n",
    "import statsmodels.api as sm\n",
    "from sklearn.linear_model import LinearRegression\n",
    "from scipy.stats import norm\n",
    "import pickle\n",
    "import scipy.stats as stats\n",
    "from scipy.stats import norm\n",
    "#plot res against market rent"
   ]
  },
  {
   "cell_type": "code",
   "execution_count": 2,
   "id": "b7a1b778",
   "metadata": {},
   "outputs": [],
   "source": [
    "df=pd.read_csv('../data/greenbuildings.csv')\n",
    "y = ((df['Rent']*df['leasing_rate'])/100).to_numpy()\n",
    "X = df[['green_rating', 'City_Market_Rent', 'age','class_a', 'class_b']].to_numpy()\n",
    "X_intercept = sm.add_constant(X)"
   ]
  },
  {
   "cell_type": "markdown",
   "id": "877cc6a4",
   "metadata": {},
   "source": [
    "## fit with sklearn"
   ]
  },
  {
   "cell_type": "code",
   "execution_count": 3,
   "id": "bc43864d",
   "metadata": {},
   "outputs": [],
   "source": [
    "reg = LinearRegression().fit(X, y)\n",
    "betas_sklearn = np.concatenate((reg.intercept_.flatten(), reg.coef_.flatten()))\n",
    "# calculate confidence interval using ex 1 (assume normal residuals)\n",
    "var  = np.var(y - X_intercept@betas_sklearn, ddof=len(betas_sklearn))\n",
    "cov_matrix = var*np.linalg.inv(X_intercept.T@X_intercept)\n",
    "se = np.sqrt(np.diag(cov_matrix))\n",
    "t_crit = norm(0, 1).ppf(1-0.025)\n",
    "conf_low = betas_sklearn -t_crit*se\n",
    "conf_up = betas_sklearn+t_crit*se"
   ]
  },
  {
   "cell_type": "markdown",
   "id": "5538c034",
   "metadata": {},
   "source": [
    "## fit with Gibbs"
   ]
  },
  {
   "cell_type": "code",
   "execution_count": 4,
   "id": "339a8b8e",
   "metadata": {},
   "outputs": [
    {
     "name": "stderr",
     "output_type": "stream",
     "text": [
      "  2%|███                                                                                                                                                                                      | 50/3000 [00:04<04:35, 10.70it/s]\n"
     ]
    },
    {
     "ename": "KeyboardInterrupt",
     "evalue": "",
     "output_type": "error",
     "traceback": [
      "\u001b[0;31m---------------------------------------------------------------------------\u001b[0m",
      "\u001b[0;31mKeyboardInterrupt\u001b[0m                         Traceback (most recent call last)",
      "\u001b[0;32m/var/folders/5t/ltqvfkd124z1n5v3ntgw77d40000gn/T/ipykernel_4133/902435775.py\u001b[0m in \u001b[0;36m<module>\u001b[0;34m\u001b[0m\n\u001b[1;32m      1\u001b[0m \u001b[0mgibbs\u001b[0m \u001b[0;34m=\u001b[0m \u001b[0mgs\u001b[0m\u001b[0;34m.\u001b[0m\u001b[0mGibbsSampler\u001b[0m\u001b[0;34m(\u001b[0m\u001b[0mX\u001b[0m\u001b[0;34m,\u001b[0m \u001b[0my\u001b[0m\u001b[0;34m,\u001b[0m \u001b[0mn_iter\u001b[0m\u001b[0;34m=\u001b[0m\u001b[0;36m3000\u001b[0m\u001b[0;34m,\u001b[0m \u001b[0mn_to_discard\u001b[0m\u001b[0;34m=\u001b[0m\u001b[0;36m100\u001b[0m\u001b[0;34m,\u001b[0m \u001b[0mfit_intercept\u001b[0m\u001b[0;34m=\u001b[0m\u001b[0;32mTrue\u001b[0m\u001b[0;34m)\u001b[0m\u001b[0;34m\u001b[0m\u001b[0;34m\u001b[0m\u001b[0m\n\u001b[0;32m----> 2\u001b[0;31m \u001b[0mgibbs\u001b[0m\u001b[0;34m.\u001b[0m\u001b[0mfit\u001b[0m\u001b[0;34m(\u001b[0m\u001b[0;34m)\u001b[0m\u001b[0;34m\u001b[0m\u001b[0;34m\u001b[0m\u001b[0m\n\u001b[0m\u001b[1;32m      3\u001b[0m \u001b[0;31m#with open('traces.pickle', 'wb') as handle:\u001b[0m\u001b[0;34m\u001b[0m\u001b[0;34m\u001b[0m\u001b[0m\n\u001b[1;32m      4\u001b[0m    \u001b[0;31m# pickle.dump(gibbs.traces, handle, protocol=pickle.HIGHEST_PROTOCOL)\u001b[0m\u001b[0;34m\u001b[0m\u001b[0;34m\u001b[0m\u001b[0m\n",
      "\u001b[0;32m~/Documents/repos/SDS383D_JF/exercises-03/python_code/gibbs_sampler.py\u001b[0m in \u001b[0;36mfit\u001b[0;34m(self)\u001b[0m\n\u001b[1;32m     62\u001b[0m         \u001b[0md_star\u001b[0m \u001b[0;34m=\u001b[0m \u001b[0mself\u001b[0m\u001b[0;34m.\u001b[0m\u001b[0m_calculate_d_star\u001b[0m\u001b[0;34m(\u001b[0m\u001b[0;34m)\u001b[0m\u001b[0;34m\u001b[0m\u001b[0;34m\u001b[0m\u001b[0m\n\u001b[1;32m     63\u001b[0m         \u001b[0;32mfor\u001b[0m \u001b[0mit\u001b[0m \u001b[0;32min\u001b[0m \u001b[0mtqdm\u001b[0m\u001b[0;34m(\u001b[0m\u001b[0mrange\u001b[0m\u001b[0;34m(\u001b[0m\u001b[0mself\u001b[0m\u001b[0;34m.\u001b[0m\u001b[0mn_iter\u001b[0m\u001b[0;34m)\u001b[0m\u001b[0;34m)\u001b[0m\u001b[0;34m:\u001b[0m\u001b[0;34m\u001b[0m\u001b[0;34m\u001b[0m\u001b[0m\n\u001b[0;32m---> 64\u001b[0;31m             \u001b[0meta_star\u001b[0m \u001b[0;34m=\u001b[0m \u001b[0mself\u001b[0m\u001b[0;34m.\u001b[0m\u001b[0m_calculate_eta_star\u001b[0m\u001b[0;34m(\u001b[0m\u001b[0;34m)\u001b[0m\u001b[0;34m\u001b[0m\u001b[0;34m\u001b[0m\u001b[0m\n\u001b[0m\u001b[1;32m     65\u001b[0m             \u001b[0mK_star\u001b[0m \u001b[0;34m=\u001b[0m \u001b[0mself\u001b[0m\u001b[0;34m.\u001b[0m\u001b[0m_calculate_K_star\u001b[0m\u001b[0;34m(\u001b[0m\u001b[0;34m)\u001b[0m\u001b[0;34m\u001b[0m\u001b[0;34m\u001b[0m\u001b[0m\n\u001b[1;32m     66\u001b[0m             \u001b[0mm_star\u001b[0m \u001b[0;34m=\u001b[0m \u001b[0mself\u001b[0m\u001b[0;34m.\u001b[0m\u001b[0m_calculate_m_star\u001b[0m\u001b[0;34m(\u001b[0m\u001b[0;34m)\u001b[0m\u001b[0;34m\u001b[0m\u001b[0;34m\u001b[0m\u001b[0m\n",
      "\u001b[0;32m~/Documents/repos/SDS383D_JF/exercises-03/python_code/homoskedastic_model.py\u001b[0m in \u001b[0;36m_calculate_eta_star\u001b[0;34m(self)\u001b[0m\n\u001b[1;32m     89\u001b[0m         \u001b[0mm_star\u001b[0m \u001b[0;34m=\u001b[0m \u001b[0mself\u001b[0m\u001b[0;34m.\u001b[0m\u001b[0m_calculate_m_star\u001b[0m\u001b[0;34m(\u001b[0m\u001b[0;34m)\u001b[0m\u001b[0;34m\u001b[0m\u001b[0;34m\u001b[0m\u001b[0m\n\u001b[1;32m     90\u001b[0m         \u001b[0mK_star\u001b[0m \u001b[0;34m=\u001b[0m \u001b[0mself\u001b[0m\u001b[0;34m.\u001b[0m\u001b[0m_calculate_K_star\u001b[0m\u001b[0;34m(\u001b[0m\u001b[0;34m)\u001b[0m\u001b[0;34m\u001b[0m\u001b[0;34m\u001b[0m\u001b[0m\n\u001b[0;32m---> 91\u001b[0;31m         \u001b[0meta_star\u001b[0m \u001b[0;34m=\u001b[0m \u001b[0mself\u001b[0m\u001b[0;34m.\u001b[0m\u001b[0meta\u001b[0m \u001b[0;34m+\u001b[0m \u001b[0mself\u001b[0m\u001b[0;34m.\u001b[0m\u001b[0my\u001b[0m\u001b[0;34m.\u001b[0m\u001b[0mT\u001b[0m \u001b[0;34m@\u001b[0m \u001b[0mself\u001b[0m\u001b[0;34m.\u001b[0m\u001b[0mlam\u001b[0m \u001b[0;34m@\u001b[0m \u001b[0mself\u001b[0m\u001b[0;34m.\u001b[0m\u001b[0my\u001b[0m \u001b[0;34m+\u001b[0m \u001b[0mself\u001b[0m\u001b[0;34m.\u001b[0m\u001b[0mm\u001b[0m\u001b[0;34m.\u001b[0m\u001b[0mT\u001b[0m \u001b[0;34m@\u001b[0m \u001b[0mself\u001b[0m\u001b[0;34m.\u001b[0m\u001b[0mK\u001b[0m \u001b[0;34m@\u001b[0m \u001b[0mself\u001b[0m\u001b[0;34m.\u001b[0m\u001b[0mm\u001b[0m \u001b[0;34m-\u001b[0m \u001b[0mm_star\u001b[0m\u001b[0;34m.\u001b[0m\u001b[0mT\u001b[0m \u001b[0;34m@\u001b[0m \u001b[0mK_star\u001b[0m \u001b[0;34m@\u001b[0m \u001b[0mm_star\u001b[0m\u001b[0;34m\u001b[0m\u001b[0;34m\u001b[0m\u001b[0m\n\u001b[0m\u001b[1;32m     92\u001b[0m         \u001b[0;32mreturn\u001b[0m \u001b[0meta_star\u001b[0m\u001b[0;34m\u001b[0m\u001b[0;34m\u001b[0m\u001b[0m\n\u001b[1;32m     93\u001b[0m \u001b[0;34m\u001b[0m\u001b[0m\n",
      "\u001b[0;31mKeyboardInterrupt\u001b[0m: "
     ]
    }
   ],
   "source": [
    "gibbs = gs.GibbsSampler(X, y, n_iter=3000, n_to_discard=100, fit_intercept=True)\n",
    "gibbs.fit()\n",
    "#with open('traces.pickle', 'wb') as handle:\n",
    "   # pickle.dump(gibbs.traces, handle, protocol=pickle.HIGHEST_PROTOCOL)"
   ]
  },
  {
   "cell_type": "code",
   "execution_count": null,
   "id": "b86f8c49",
   "metadata": {},
   "outputs": [],
   "source": [
    "for i in range(len(gibbs.coefs)):\n",
    "    plt.plot(gibbs.traces['beta_trace'][:,i], label=f'beta {i}');\n",
    "plt.legend(bbox_to_anchor = (1,1))\n",
    "plt.xlabel('iteration')\n",
    "plt.ylabel('beta value');"
   ]
  },
  {
   "cell_type": "code",
   "execution_count": null,
   "id": "d5a55f94",
   "metadata": {},
   "outputs": [],
   "source": [
    "gibbs.plot_coefs_histograms();"
   ]
  },
  {
   "cell_type": "code",
   "execution_count": null,
   "id": "f37c97c9",
   "metadata": {},
   "outputs": [],
   "source": [
    "plt.scatter(gibbs._calculate_averaged_coefficients(), betas_sklearn, s=100, marker='x')\n",
    "plt.plot([-10,10],[-10,10],color='dodgerblue', alpha=.5)\n",
    "plt.xlabel('Gibbs')\n",
    "plt.ylabel('sklearn');"
   ]
  },
  {
   "cell_type": "code",
   "execution_count": null,
   "id": "5d05b560",
   "metadata": {},
   "outputs": [],
   "source": [
    "gibbs_intervals = gibbs.calculate_confidence_intervals()\n",
    "plt.plot([-10,10],[-10,10],color='dodgerblue', alpha=.5)\n",
    "plt.scatter(conf_low, gibbs_intervals[0],s=100, marker='x', label='lower')\n",
    "plt.xlabel('lower conf sklearn')\n",
    "plt.ylabel('lower conf Gibbs')\n",
    "plt.scatter(conf_up, gibbs_intervals[1],s=100, marker='x', label='upper', color='green')\n",
    "plt.xlabel('upper conf sklearn')\n",
    "plt.ylabel('upper conf Gibbs')\n",
    "plt.legend();"
   ]
  },
  {
   "cell_type": "code",
   "execution_count": null,
   "id": "25fe25d0",
   "metadata": {},
   "outputs": [],
   "source": [
    "plt.hist(1/gibbs.traces_kept['Lambda_trace'].mean(axis=0), density=True, bins=100);\n",
    "plt.title('histogram for average of all Lambda diag terms');\n",
    "plt.xlabel('1/$\\Lambda_{ii}$');"
   ]
  },
  {
   "cell_type": "code",
   "execution_count": null,
   "id": "de177262",
   "metadata": {},
   "outputs": [],
   "source": [
    "plt.plot(1/gibbs.traces_kept['Lambda_trace'].mean(axis=0));\n",
    "plt.ylabel('1/$\\Lambda_{ii}$');\n",
    "plt.xlabel('i');"
   ]
  },
  {
   "cell_type": "code",
   "execution_count": null,
   "id": "cc0305c9",
   "metadata": {},
   "outputs": [],
   "source": [
    "residuals = -(gibbs.predict(X)-y)\n",
    "plt.hist(residuals, bins=100, density=True);\n",
    "plt.title('Gibbs residuals');"
   ]
  },
  {
   "cell_type": "code",
   "execution_count": null,
   "id": "395e835e",
   "metadata": {},
   "outputs": [],
   "source": [
    "plt.scatter(df['City_Market_Rent'], residuals, alpha =0.1, edgecolor='black')\n",
    "plt.xlabel('city market rent')\n",
    "plt.ylabel('residuals');"
   ]
  },
  {
   "cell_type": "code",
   "execution_count": null,
   "id": "cf0086f0",
   "metadata": {},
   "outputs": [],
   "source": [
    "quantiles = np.linspace(1e-2,1-1e-2,100)\n",
    "theoretical = norm(loc=residuals.mean(), scale=residuals.std()).ppf(quantiles)\n",
    "actual = np.quantile(residuals, quantiles)\n",
    "plt.scatter(theoretical,actual)\n",
    "plt.plot([actual.min(), actual.max()],[actual.min(), actual.max()], color='dodgerblue', alpha=0.5);\n",
    "plt.title('qq plot')\n",
    "plt.xlabel('data quantiles')\n",
    "plt.ylabel('normal quantiles');"
   ]
  },
  {
   "cell_type": "markdown",
   "id": "1949b11a",
   "metadata": {},
   "source": [
    "## fit with homoskedastic"
   ]
  },
  {
   "cell_type": "code",
   "execution_count": null,
   "id": "951fe5c7",
   "metadata": {},
   "outputs": [],
   "source": [
    "model = hsk.HomoskedasticModel(X, y)\n",
    "model.fit()\n",
    "model.coefs"
   ]
  },
  {
   "cell_type": "code",
   "execution_count": null,
   "id": "8f0f1032",
   "metadata": {},
   "outputs": [],
   "source": [
    "residuals = -(model.predict(X) - y)\n",
    "plt.hist(residuals, bins=100, density=True)\n",
    "plt.title('residuals');"
   ]
  },
  {
   "cell_type": "code",
   "execution_count": null,
   "id": "0d138473",
   "metadata": {},
   "outputs": [],
   "source": [
    "plt.scatter(df['City_Market_Rent'], residuals, alpha =0.1, edgecolor='black')\n",
    "plt.xlabel('city market rent')\n",
    "plt.ylabel('residuals');"
   ]
  },
  {
   "cell_type": "code",
   "execution_count": null,
   "id": "529d341e",
   "metadata": {},
   "outputs": [],
   "source": [
    "quantiles = np.linspace(1e-2,1-1e-2,100)\n",
    "theoretical = norm(loc=residuals.mean(), scale=residuals.std()).ppf(quantiles)\n",
    "actual = np.quantile(residuals, quantiles)\n",
    "plt.scatter(theoretical,actual)\n",
    "plt.plot([actual.min(), actual.max()],[actual.min(), actual.max()], color='dodgerblue', alpha=0.5);\n",
    "plt.title('qq plot')\n",
    "plt.xlabel('data quantiles')\n",
    "plt.ylabel('normal quantiles');"
   ]
  },
  {
   "cell_type": "code",
   "execution_count": null,
   "id": "b9003bd1",
   "metadata": {},
   "outputs": [],
   "source": [
    "conf_interval = model.calculate_confidence_interval(num_samples=1000)"
   ]
  },
  {
   "cell_type": "code",
   "execution_count": null,
   "id": "5f378e88",
   "metadata": {},
   "outputs": [],
   "source": [
    "plt.scatter(betas_sklearn, model.coefs, label='betas', marker='x', s=100)\n",
    "plt.plot([-10,10],[-10,10],color='dodgerblue', alpha=.5)\n",
    "plt.xlabel('sklearn')\n",
    "plt.ylabel('me')\n",
    "plt.legend();"
   ]
  },
  {
   "cell_type": "code",
   "execution_count": null,
   "id": "fd3bc016",
   "metadata": {},
   "outputs": [],
   "source": [
    "# or with statsmodels\n",
    "est = sm.OLS(y, X_intercept)\n",
    "conf = est.fit().conf_int(alpha=0.05, cols=None)"
   ]
  },
  {
   "cell_type": "code",
   "execution_count": null,
   "id": "e847d78a",
   "metadata": {},
   "outputs": [],
   "source": [
    "gibbs_intervals = gibbs.calculate_confidence_intervals()\n",
    "plt.plot([-10,10],[-10,10],color='dodgerblue', alpha=.5)\n",
    "plt.scatter(conf_low, conf_interval[0],s=100, marker='x', label='lower')\n",
    "plt.xlabel('lower conf sklearn')\n",
    "plt.ylabel('lower conf me')\n",
    "plt.scatter(conf_up, conf_interval[1],s=100, marker='x', label='upper', color='green')\n",
    "plt.xlabel('upper conf sklearn')\n",
    "plt.ylabel('upper conf me')\n",
    "plt.legend();"
   ]
  },
  {
   "cell_type": "code",
   "execution_count": null,
   "id": "791c0723",
   "metadata": {},
   "outputs": [],
   "source": []
  }
 ],
 "metadata": {
  "kernelspec": {
   "display_name": "Python 3 (ipykernel)",
   "language": "python",
   "name": "python3"
  },
  "language_info": {
   "codemirror_mode": {
    "name": "ipython",
    "version": 3
   },
   "file_extension": ".py",
   "mimetype": "text/x-python",
   "name": "python",
   "nbconvert_exporter": "python",
   "pygments_lexer": "ipython3",
   "version": "3.9.7"
  }
 },
 "nbformat": 4,
 "nbformat_minor": 5
}
