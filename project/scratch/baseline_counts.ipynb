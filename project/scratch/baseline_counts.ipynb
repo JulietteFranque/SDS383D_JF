{
 "cells": [
  {
   "cell_type": "code",
   "execution_count": 1,
   "id": "c8a53eb5",
   "metadata": {},
   "outputs": [],
   "source": [
    "import pandas as pd\n",
    "import matplotlib.pyplot as plt\n",
    "import numpy as np\n",
    "import matplotlib.style as style\n",
    "from tqdm import tqdm \n",
    "tqdm.pandas()\n",
    "plt.rcParams.update({'axes.labelsize':16})\n",
    "plt.rcParams.update({'axes.titlesize':16})\n",
    "plt.rcParams.update({'legend.fontsize':16})\n",
    "plt.rcParams['xtick.labelsize'] = 16\n",
    "plt.rcParams['ytick.labelsize'] = 16\n",
    "plt.rcParams['lines.linewidth'] = 4\n",
    "style.use('ggplot')\n",
    "import warnings\n",
    "warnings.filterwarnings('ignore')\n",
    "import datetime"
   ]
  },
  {
   "cell_type": "code",
   "execution_count": 2,
   "id": "feff2460",
   "metadata": {},
   "outputs": [],
   "source": [
    "df_2020 = pd.read_csv('../data/richmond_apparatus_data.csv')\n",
    "df_2019 = pd.read_csv('../data/richmond_apparatus_data_2019.csv')"
   ]
  },
  {
   "cell_type": "code",
   "execution_count": 3,
   "id": "f0676049",
   "metadata": {},
   "outputs": [],
   "source": [
    "df = pd.concat([df_2019, df_2020]).reset_index()"
   ]
  },
  {
   "cell_type": "code",
   "execution_count": 4,
   "id": "c03087f1",
   "metadata": {},
   "outputs": [],
   "source": [
    "df = df.dropna(subset=['apparatus_data.unit_status.arrived.timestamp'])"
   ]
  },
  {
   "cell_type": "code",
   "execution_count": 5,
   "id": "b4d472a0",
   "metadata": {},
   "outputs": [],
   "source": [
    "df = df[pd.to_datetime(df['apparatus_data.unit_status.enroute.timestamp']) < pd.to_datetime(datetime.date(2021, 3, 1), utc=True)]"
   ]
  },
  {
   "cell_type": "code",
   "execution_count": 6,
   "id": "af3d448e",
   "metadata": {},
   "outputs": [
    {
     "name": "stderr",
     "output_type": "stream",
     "text": [
      "100%|███████████████████████████████████████████████████████████████████████████████████████████████████████████████████████████████████████████████████████████████████| 84884/84884 [00:00<00:00, 278409.55it/s]\n"
     ]
    }
   ],
   "source": [
    "df['description.event_opened'] = pd.to_datetime(df['description.event_opened'])\n",
    "df['date'] = df['description.event_opened'].progress_apply(lambda x: x.strftime('%Y-%m-%d'))\n",
    "\n",
    "daily_counts = df.groupby(['date','description.type']).size().reset_index(name='count')\n",
    "#daily_counts['sum_of_last_7_days'] = daily_counts.rolling(window=7).sum()\n",
    "#daily_counts['day_of_week'] = daily_counts['date'].progress_apply(lambda x: pd.to_datetime(x).day_name())"
   ]
  },
  {
   "cell_type": "code",
   "execution_count": 7,
   "id": "b45ee9e7",
   "metadata": {},
   "outputs": [
    {
     "name": "stderr",
     "output_type": "stream",
     "text": [
      "100%|████████████████████████████████████████████████████████████████████████████████████████████████████████████████████████████████████████████████████████████████████████| 282/282 [00:00<00:00, 19089.02it/s]\n"
     ]
    }
   ],
   "source": [
    "lower_bound = pd.to_datetime(datetime.date(2021, 1, 3), utc=True)\n",
    "upper_bound = pd.to_datetime(datetime.date(2021, 2, 5), utc=True)\n",
    "\n",
    "mask = (pd.to_datetime(daily_counts['date']).dt.date > lower_bound) & (pd.to_datetime(daily_counts['date']).dt.date < upper_bound)\n",
    "\n",
    "df_for_baseline = daily_counts.loc[mask]\n",
    "df_for_baseline['day_of_the_week'] = df_for_baseline['date'].progress_apply(lambda x: pd.to_datetime(x).day_name())\n"
   ]
  },
  {
   "cell_type": "code",
   "execution_count": 8,
   "id": "1bec17f6",
   "metadata": {},
   "outputs": [],
   "source": [
    "baseline_per_day = df_for_baseline.groupby(['day_of_the_week','description.type']).median()['count'].to_frame().reset_index()\n",
    "baseline_per_day.columns = ['day_of_week','description.type', 'baseline_count']"
   ]
  },
  {
   "cell_type": "code",
   "execution_count": 9,
   "id": "08705960",
   "metadata": {},
   "outputs": [
    {
     "data": {
      "text/html": [
       "<div>\n",
       "<style scoped>\n",
       "    .dataframe tbody tr th:only-of-type {\n",
       "        vertical-align: middle;\n",
       "    }\n",
       "\n",
       "    .dataframe tbody tr th {\n",
       "        vertical-align: top;\n",
       "    }\n",
       "\n",
       "    .dataframe thead th {\n",
       "        text-align: right;\n",
       "    }\n",
       "</style>\n",
       "<table border=\"1\" class=\"dataframe\">\n",
       "  <thead>\n",
       "    <tr style=\"text-align: right;\">\n",
       "      <th></th>\n",
       "      <th>day_of_week</th>\n",
       "      <th>description.type</th>\n",
       "      <th>baseline_count</th>\n",
       "    </tr>\n",
       "  </thead>\n",
       "  <tbody>\n",
       "    <tr>\n",
       "      <th>0</th>\n",
       "      <td>Friday</td>\n",
       "      <td>ASSIST-EMS</td>\n",
       "      <td>2.5</td>\n",
       "    </tr>\n",
       "    <tr>\n",
       "      <th>1</th>\n",
       "      <td>Friday</td>\n",
       "      <td>ASSIST-POLICE</td>\n",
       "      <td>1.0</td>\n",
       "    </tr>\n",
       "    <tr>\n",
       "      <th>2</th>\n",
       "      <td>Friday</td>\n",
       "      <td>CRASH</td>\n",
       "      <td>13.0</td>\n",
       "    </tr>\n",
       "    <tr>\n",
       "      <th>3</th>\n",
       "      <td>Friday</td>\n",
       "      <td>ELEVATOR</td>\n",
       "      <td>3.0</td>\n",
       "    </tr>\n",
       "    <tr>\n",
       "      <th>4</th>\n",
       "      <td>Friday</td>\n",
       "      <td>EMS-1STRESP</td>\n",
       "      <td>43.5</td>\n",
       "    </tr>\n",
       "    <tr>\n",
       "      <th>...</th>\n",
       "      <td>...</td>\n",
       "      <td>...</td>\n",
       "      <td>...</td>\n",
       "    </tr>\n",
       "    <tr>\n",
       "      <th>95</th>\n",
       "      <td>Wednesday</td>\n",
       "      <td>SMOKE-INVEST</td>\n",
       "      <td>2.0</td>\n",
       "    </tr>\n",
       "    <tr>\n",
       "      <th>96</th>\n",
       "      <td>Wednesday</td>\n",
       "      <td>STRUCTURE-FIRE</td>\n",
       "      <td>12.0</td>\n",
       "    </tr>\n",
       "    <tr>\n",
       "      <th>97</th>\n",
       "      <td>Wednesday</td>\n",
       "      <td>TRASH-FIRE</td>\n",
       "      <td>1.0</td>\n",
       "    </tr>\n",
       "    <tr>\n",
       "      <th>98</th>\n",
       "      <td>Wednesday</td>\n",
       "      <td>UTILITY-INCIDENT</td>\n",
       "      <td>4.5</td>\n",
       "    </tr>\n",
       "    <tr>\n",
       "      <th>99</th>\n",
       "      <td>Wednesday</td>\n",
       "      <td>VEHICLE-FIRE</td>\n",
       "      <td>2.0</td>\n",
       "    </tr>\n",
       "  </tbody>\n",
       "</table>\n",
       "<p>100 rows × 3 columns</p>\n",
       "</div>"
      ],
      "text/plain": [
       "   day_of_week  description.type  baseline_count\n",
       "0       Friday        ASSIST-EMS             2.5\n",
       "1       Friday     ASSIST-POLICE             1.0\n",
       "2       Friday             CRASH            13.0\n",
       "3       Friday          ELEVATOR             3.0\n",
       "4       Friday       EMS-1STRESP            43.5\n",
       "..         ...               ...             ...\n",
       "95   Wednesday      SMOKE-INVEST             2.0\n",
       "96   Wednesday    STRUCTURE-FIRE            12.0\n",
       "97   Wednesday        TRASH-FIRE             1.0\n",
       "98   Wednesday  UTILITY-INCIDENT             4.5\n",
       "99   Wednesday      VEHICLE-FIRE             2.0\n",
       "\n",
       "[100 rows x 3 columns]"
      ]
     },
     "execution_count": 9,
     "metadata": {},
     "output_type": "execute_result"
    }
   ],
   "source": [
    "baseline_per_day"
   ]
  },
  {
   "cell_type": "code",
   "execution_count": 10,
   "id": "cbc90680",
   "metadata": {},
   "outputs": [
    {
     "data": {
      "text/html": [
       "<div>\n",
       "<style scoped>\n",
       "    .dataframe tbody tr th:only-of-type {\n",
       "        vertical-align: middle;\n",
       "    }\n",
       "\n",
       "    .dataframe tbody tr th {\n",
       "        vertical-align: top;\n",
       "    }\n",
       "\n",
       "    .dataframe thead th {\n",
       "        text-align: right;\n",
       "    }\n",
       "</style>\n",
       "<table border=\"1\" class=\"dataframe\">\n",
       "  <thead>\n",
       "    <tr style=\"text-align: right;\">\n",
       "      <th></th>\n",
       "      <th>day_of_week</th>\n",
       "      <th>description.type</th>\n",
       "      <th>baseline_count</th>\n",
       "    </tr>\n",
       "  </thead>\n",
       "  <tbody>\n",
       "    <tr>\n",
       "      <th>2</th>\n",
       "      <td>Friday</td>\n",
       "      <td>CRASH</td>\n",
       "      <td>13.0</td>\n",
       "    </tr>\n",
       "    <tr>\n",
       "      <th>15</th>\n",
       "      <td>Monday</td>\n",
       "      <td>CRASH</td>\n",
       "      <td>6.0</td>\n",
       "    </tr>\n",
       "    <tr>\n",
       "      <th>29</th>\n",
       "      <td>Saturday</td>\n",
       "      <td>CRASH</td>\n",
       "      <td>10.0</td>\n",
       "    </tr>\n",
       "    <tr>\n",
       "      <th>42</th>\n",
       "      <td>Sunday</td>\n",
       "      <td>CRASH</td>\n",
       "      <td>9.0</td>\n",
       "    </tr>\n",
       "    <tr>\n",
       "      <th>56</th>\n",
       "      <td>Thursday</td>\n",
       "      <td>CRASH</td>\n",
       "      <td>13.0</td>\n",
       "    </tr>\n",
       "    <tr>\n",
       "      <th>72</th>\n",
       "      <td>Tuesday</td>\n",
       "      <td>CRASH</td>\n",
       "      <td>9.0</td>\n",
       "    </tr>\n",
       "    <tr>\n",
       "      <th>87</th>\n",
       "      <td>Wednesday</td>\n",
       "      <td>CRASH</td>\n",
       "      <td>11.0</td>\n",
       "    </tr>\n",
       "  </tbody>\n",
       "</table>\n",
       "</div>"
      ],
      "text/plain": [
       "   day_of_week description.type  baseline_count\n",
       "2       Friday            CRASH            13.0\n",
       "15      Monday            CRASH             6.0\n",
       "29    Saturday            CRASH            10.0\n",
       "42      Sunday            CRASH             9.0\n",
       "56    Thursday            CRASH            13.0\n",
       "72     Tuesday            CRASH             9.0\n",
       "87   Wednesday            CRASH            11.0"
      ]
     },
     "execution_count": 10,
     "metadata": {},
     "output_type": "execute_result"
    }
   ],
   "source": [
    "baseline_per_day[baseline_per_day['description.type'] == 'CRASH']"
   ]
  },
  {
   "cell_type": "code",
   "execution_count": 11,
   "id": "75149e6d",
   "metadata": {},
   "outputs": [
    {
     "name": "stderr",
     "output_type": "stream",
     "text": [
      "100%|██████████████████████████████████████████████████████████████████████████████████████████████████████████████████████████████████████████████████████████████████████| 7254/7254 [00:00<00:00, 21337.86it/s]\n"
     ]
    }
   ],
   "source": [
    "daily_counts['year'] = pd.DatetimeIndex(pd.to_datetime(daily_counts['date'], utc=True)).year\n",
    "daily_counts['day'] = pd.DatetimeIndex(pd.to_datetime(daily_counts['date'], utc=True)).day\n",
    "daily_counts['month'] = pd.DatetimeIndex(pd.to_datetime(daily_counts['date'], utc=True)).month\n",
    "#daily_counts_2020 = daily_counts[daily_counts['year']==2020]\n",
    "daily_counts['day_of_week'] = daily_counts['date'].progress_apply(lambda x: pd.to_datetime(x).day_name())\n"
   ]
  },
  {
   "cell_type": "code",
   "execution_count": 12,
   "id": "e86d9d7b",
   "metadata": {},
   "outputs": [],
   "source": [
    "df_compare = pd.merge(daily_counts, baseline_per_day, on=['day_of_week','description.type'], how='inner').reset_index()\n",
    "df_compare['change_from_baseline'] = (df_compare['count'] - df_compare['baseline_count'])/df_compare['baseline_count']*100"
   ]
  },
  {
   "cell_type": "code",
   "execution_count": 13,
   "id": "1a1ed6e4",
   "metadata": {},
   "outputs": [],
   "source": [
    "df_incident_baseline_change = df_compare[['date','change_from_baseline','description.type','day_of_week']]"
   ]
  },
  {
   "cell_type": "code",
   "execution_count": 14,
   "id": "bb1c39e7",
   "metadata": {},
   "outputs": [],
   "source": [
    "df_2020_google = pd.read_csv('../data/google_data/2020_US_Region_Mobility_Report.csv')\n",
    "df_virginia = df_2020_google[df_2020_google['sub_region_1'] == 'Virginia']\n",
    "df_richmond = df_virginia[df_virginia['sub_region_2'] == 'Richmond County']"
   ]
  },
  {
   "cell_type": "code",
   "execution_count": 15,
   "id": "2bbd6987",
   "metadata": {},
   "outputs": [
    {
     "name": "stderr",
     "output_type": "stream",
     "text": [
      "100%|████████████████████████████████████████████████████████████████████████████████████████████████████████████████████████████████████████████████████████████████████████| 224/224 [00:00<00:00, 16527.82it/s]\n"
     ]
    }
   ],
   "source": [
    "\n",
    "\n",
    "mobility_df = df_richmond[['date', 'workplaces_percent_change_from_baseline']]\n",
    "mobility_df['avg_last_7_days'] = mobility_df['workplaces_percent_change_from_baseline'].rolling(window=7, min_periods=1).mean(skipna=True)\n",
    "mobility_df['day_of_week'] = mobility_df['date'].progress_apply(lambda x: pd.to_datetime(x).day_name())\n"
   ]
  },
  {
   "cell_type": "code",
   "execution_count": 16,
   "id": "f8c73851",
   "metadata": {},
   "outputs": [
    {
     "name": "stderr",
     "output_type": "stream",
     "text": [
      "100%|██████████████████████████████████████████████████████████████████████████████████████████████████████████████████████████████████████████████████████████████████████| 6147/6147 [00:00<00:00, 21562.97it/s]\n"
     ]
    }
   ],
   "source": [
    "#df_incident_baseline_change['avg_last_7_days'] = df_incident_baseline_change['change_from_baseline'].groupby('description.type').rolling(window=7, min_periods=1).mean(skipna=True)\n",
    "#df_incident_baseline_change['day_of_week'] = df_incident_baseline_change['date'].progress_apply(lambda x: pd.to_datetime(x).day_name())\n",
    "df_final = df_incident_baseline_change.groupby(['description.type','date']).rolling(window=7, min_periods=1).mean(skipna=True).reset_index()\n",
    "df_final['day_of_week'] = df_final['date'].progress_apply(lambda x: pd.to_datetime(x).day_name())"
   ]
  },
  {
   "cell_type": "code",
   "execution_count": 17,
   "id": "038dc2c9",
   "metadata": {},
   "outputs": [],
   "source": [
    "first_day_of_week = 'Monday'\n",
    "df_final = df_final[df_final['day_of_week']==first_day_of_week]"
   ]
  },
  {
   "cell_type": "code",
   "execution_count": 18,
   "id": "e4e5b12d",
   "metadata": {},
   "outputs": [
    {
     "data": {
      "text/html": [
       "<div>\n",
       "<style scoped>\n",
       "    .dataframe tbody tr th:only-of-type {\n",
       "        vertical-align: middle;\n",
       "    }\n",
       "\n",
       "    .dataframe tbody tr th {\n",
       "        vertical-align: top;\n",
       "    }\n",
       "\n",
       "    .dataframe thead th {\n",
       "        text-align: right;\n",
       "    }\n",
       "</style>\n",
       "<table border=\"1\" class=\"dataframe\">\n",
       "  <thead>\n",
       "    <tr style=\"text-align: right;\">\n",
       "      <th></th>\n",
       "      <th>date</th>\n",
       "      <th>change_from_baseline</th>\n",
       "      <th>description.type</th>\n",
       "      <th>day_of_week</th>\n",
       "    </tr>\n",
       "  </thead>\n",
       "  <tbody>\n",
       "    <tr>\n",
       "      <th>0</th>\n",
       "      <td>2018-12-31</td>\n",
       "      <td>-78.378378</td>\n",
       "      <td>EMS-1STRESP</td>\n",
       "      <td>Monday</td>\n",
       "    </tr>\n",
       "    <tr>\n",
       "      <th>1</th>\n",
       "      <td>2019-01-07</td>\n",
       "      <td>51.351351</td>\n",
       "      <td>EMS-1STRESP</td>\n",
       "      <td>Monday</td>\n",
       "    </tr>\n",
       "    <tr>\n",
       "      <th>2</th>\n",
       "      <td>2019-01-14</td>\n",
       "      <td>35.135135</td>\n",
       "      <td>EMS-1STRESP</td>\n",
       "      <td>Monday</td>\n",
       "    </tr>\n",
       "    <tr>\n",
       "      <th>3</th>\n",
       "      <td>2019-01-21</td>\n",
       "      <td>48.648649</td>\n",
       "      <td>EMS-1STRESP</td>\n",
       "      <td>Monday</td>\n",
       "    </tr>\n",
       "    <tr>\n",
       "      <th>4</th>\n",
       "      <td>2019-01-28</td>\n",
       "      <td>21.621622</td>\n",
       "      <td>EMS-1STRESP</td>\n",
       "      <td>Monday</td>\n",
       "    </tr>\n",
       "    <tr>\n",
       "      <th>...</th>\n",
       "      <td>...</td>\n",
       "      <td>...</td>\n",
       "      <td>...</td>\n",
       "      <td>...</td>\n",
       "    </tr>\n",
       "    <tr>\n",
       "      <th>6142</th>\n",
       "      <td>2021-01-17</td>\n",
       "      <td>0.000000</td>\n",
       "      <td>FIRE-STANDBY</td>\n",
       "      <td>Sunday</td>\n",
       "    </tr>\n",
       "    <tr>\n",
       "      <th>6143</th>\n",
       "      <td>2020-06-01</td>\n",
       "      <td>200.000000</td>\n",
       "      <td>FIRE-STANDBY</td>\n",
       "      <td>Monday</td>\n",
       "    </tr>\n",
       "    <tr>\n",
       "      <th>6144</th>\n",
       "      <td>2021-01-18</td>\n",
       "      <td>0.000000</td>\n",
       "      <td>FIRE-STANDBY</td>\n",
       "      <td>Monday</td>\n",
       "    </tr>\n",
       "    <tr>\n",
       "      <th>6145</th>\n",
       "      <td>2020-06-10</td>\n",
       "      <td>0.000000</td>\n",
       "      <td>FIRE-STANDBY</td>\n",
       "      <td>Wednesday</td>\n",
       "    </tr>\n",
       "    <tr>\n",
       "      <th>6146</th>\n",
       "      <td>2021-01-20</td>\n",
       "      <td>0.000000</td>\n",
       "      <td>FIRE-STANDBY</td>\n",
       "      <td>Wednesday</td>\n",
       "    </tr>\n",
       "  </tbody>\n",
       "</table>\n",
       "<p>6147 rows × 4 columns</p>\n",
       "</div>"
      ],
      "text/plain": [
       "            date  change_from_baseline description.type day_of_week\n",
       "0     2018-12-31            -78.378378      EMS-1STRESP      Monday\n",
       "1     2019-01-07             51.351351      EMS-1STRESP      Monday\n",
       "2     2019-01-14             35.135135      EMS-1STRESP      Monday\n",
       "3     2019-01-21             48.648649      EMS-1STRESP      Monday\n",
       "4     2019-01-28             21.621622      EMS-1STRESP      Monday\n",
       "...          ...                   ...              ...         ...\n",
       "6142  2021-01-17              0.000000     FIRE-STANDBY      Sunday\n",
       "6143  2020-06-01            200.000000     FIRE-STANDBY      Monday\n",
       "6144  2021-01-18              0.000000     FIRE-STANDBY      Monday\n",
       "6145  2020-06-10              0.000000     FIRE-STANDBY   Wednesday\n",
       "6146  2021-01-20              0.000000     FIRE-STANDBY   Wednesday\n",
       "\n",
       "[6147 rows x 4 columns]"
      ]
     },
     "execution_count": 18,
     "metadata": {},
     "output_type": "execute_result"
    }
   ],
   "source": [
    "df_incident_baseline_change"
   ]
  },
  {
   "cell_type": "code",
   "execution_count": 34,
   "id": "1e03002e",
   "metadata": {},
   "outputs": [],
   "source": [
    "first_day_of_week = 'Monday'\n",
    "weekly_incident_counts = daily_counts[daily_counts['day_of_week']==first_day_of_week]\n",
    "weekly_incident_counts['date'] = pd.to_datetime(weekly_incident_counts['date'])\n",
    "weekly_incident_counts = weekly_incident_counts.sort_values('date')\n",
    "weekly_incident_change = df_incident_baseline_change[df_incident_baseline_change['day_of_week']==first_day_of_week]\n",
    "weekly_incident_change['date'] = pd.to_datetime(weekly_incident_change['date'])\n",
    "\n",
    "weekly_mobility = mobility_df[mobility_df['day_of_week']==first_day_of_week]\n",
    "weekly_mobility['date'] = pd.to_datetime(weekly_mobility['date'])\n"
   ]
  },
  {
   "cell_type": "code",
   "execution_count": 35,
   "id": "34fff056",
   "metadata": {},
   "outputs": [],
   "source": [
    "grouped_df = df_final.groupby('description.type')\n",
    "groups = list(grouped_df.groups.keys())"
   ]
  },
  {
   "cell_type": "code",
   "execution_count": 36,
   "id": "ea68341f",
   "metadata": {},
   "outputs": [
    {
     "data": {
      "image/png": "[encoded data removed]",
      "text/plain": [
       "<Figure size 432x288 with 1 Axes>"
      ]
     },
     "metadata": {},
     "output_type": "display_data"
    },
    {
     "data": {
      "image/png": "[encoded data removed]",
      "text/plain": [
       "<Figure size 432x288 with 1 Axes>"
      ]
     },
     "metadata": {},
     "output_type": "display_data"
    },
    {
     "data": {
      "image/png": "[encoded data removed]",
      "text/plain": [
       "<Figure size 432x288 with 1 Axes>"
      ]
     },
     "metadata": {},
     "output_type": "display_data"
    },
    {
     "data": {
      "image/png": "[encoded data removed]",
      "text/plain": [
       "<Figure size 432x288 with 1 Axes>"
      ]
     },
     "metadata": {},
     "output_type": "display_data"
    },
    {
     "data": {
      "text/plain": [
       "<Figure size 432x288 with 0 Axes>"
      ]
     },
     "metadata": {},
     "output_type": "display_data"
    }
   ],
   "source": [
    "for group in['CRASH','EMS-1STRESP','FIRE-ALARM','STRUCTURE-FIRE']:\n",
    "    df_to_plot = grouped_df.get_group(group)\n",
    "    plt.plot(pd.to_datetime(df_to_plot['date']),df_to_plot['change_from_baseline'])\n",
    "    plt.title(group)\n",
    "    plt.figure()"
   ]
  },
  {
   "cell_type": "code",
   "execution_count": 32,
   "id": "70cdb412",
   "metadata": {},
   "outputs": [
    {
     "data": {
      "text/html": [
       "<div>\n",
       "<style scoped>\n",
       "    .dataframe tbody tr th:only-of-type {\n",
       "        vertical-align: middle;\n",
       "    }\n",
       "\n",
       "    .dataframe tbody tr th {\n",
       "        vertical-align: top;\n",
       "    }\n",
       "\n",
       "    .dataframe thead th {\n",
       "        text-align: right;\n",
       "    }\n",
       "</style>\n",
       "<table border=\"1\" class=\"dataframe\">\n",
       "  <thead>\n",
       "    <tr style=\"text-align: right;\">\n",
       "      <th></th>\n",
       "      <th>date</th>\n",
       "      <th>change_from_baseline</th>\n",
       "      <th>description.type</th>\n",
       "      <th>day_of_week</th>\n",
       "    </tr>\n",
       "  </thead>\n",
       "  <tbody>\n",
       "    <tr>\n",
       "      <th>0</th>\n",
       "      <td>2018-12-31</td>\n",
       "      <td>-78.378378</td>\n",
       "      <td>EMS-1STRESP</td>\n",
       "      <td>Monday</td>\n",
       "    </tr>\n",
       "    <tr>\n",
       "      <th>1</th>\n",
       "      <td>2019-01-07</td>\n",
       "      <td>51.351351</td>\n",
       "      <td>EMS-1STRESP</td>\n",
       "      <td>Monday</td>\n",
       "    </tr>\n",
       "    <tr>\n",
       "      <th>2</th>\n",
       "      <td>2019-01-14</td>\n",
       "      <td>35.135135</td>\n",
       "      <td>EMS-1STRESP</td>\n",
       "      <td>Monday</td>\n",
       "    </tr>\n",
       "    <tr>\n",
       "      <th>3</th>\n",
       "      <td>2019-01-21</td>\n",
       "      <td>48.648649</td>\n",
       "      <td>EMS-1STRESP</td>\n",
       "      <td>Monday</td>\n",
       "    </tr>\n",
       "    <tr>\n",
       "      <th>4</th>\n",
       "      <td>2019-01-28</td>\n",
       "      <td>21.621622</td>\n",
       "      <td>EMS-1STRESP</td>\n",
       "      <td>Monday</td>\n",
       "    </tr>\n",
       "    <tr>\n",
       "      <th>...</th>\n",
       "      <td>...</td>\n",
       "      <td>...</td>\n",
       "      <td>...</td>\n",
       "      <td>...</td>\n",
       "    </tr>\n",
       "    <tr>\n",
       "      <th>6018</th>\n",
       "      <td>2021-02-08</td>\n",
       "      <td>-50.000000</td>\n",
       "      <td>CRASH</td>\n",
       "      <td>Monday</td>\n",
       "    </tr>\n",
       "    <tr>\n",
       "      <th>6019</th>\n",
       "      <td>2021-02-15</td>\n",
       "      <td>50.000000</td>\n",
       "      <td>CRASH</td>\n",
       "      <td>Monday</td>\n",
       "    </tr>\n",
       "    <tr>\n",
       "      <th>6020</th>\n",
       "      <td>2021-02-22</td>\n",
       "      <td>50.000000</td>\n",
       "      <td>CRASH</td>\n",
       "      <td>Monday</td>\n",
       "    </tr>\n",
       "    <tr>\n",
       "      <th>6143</th>\n",
       "      <td>2020-06-01</td>\n",
       "      <td>200.000000</td>\n",
       "      <td>FIRE-STANDBY</td>\n",
       "      <td>Monday</td>\n",
       "    </tr>\n",
       "    <tr>\n",
       "      <th>6144</th>\n",
       "      <td>2021-01-18</td>\n",
       "      <td>0.000000</td>\n",
       "      <td>FIRE-STANDBY</td>\n",
       "      <td>Monday</td>\n",
       "    </tr>\n",
       "  </tbody>\n",
       "</table>\n",
       "<p>779 rows × 4 columns</p>\n",
       "</div>"
      ],
      "text/plain": [
       "           date  change_from_baseline description.type day_of_week\n",
       "0    2018-12-31            -78.378378      EMS-1STRESP      Monday\n",
       "1    2019-01-07             51.351351      EMS-1STRESP      Monday\n",
       "2    2019-01-14             35.135135      EMS-1STRESP      Monday\n",
       "3    2019-01-21             48.648649      EMS-1STRESP      Monday\n",
       "4    2019-01-28             21.621622      EMS-1STRESP      Monday\n",
       "...         ...                   ...              ...         ...\n",
       "6018 2021-02-08            -50.000000            CRASH      Monday\n",
       "6019 2021-02-15             50.000000            CRASH      Monday\n",
       "6020 2021-02-22             50.000000            CRASH      Monday\n",
       "6143 2020-06-01            200.000000     FIRE-STANDBY      Monday\n",
       "6144 2021-01-18              0.000000     FIRE-STANDBY      Monday\n",
       "\n",
       "[779 rows x 4 columns]"
      ]
     },
     "execution_count": 32,
     "metadata": {},
     "output_type": "execute_result"
    }
   ],
   "source": [
    "weekly_incident_change"
   ]
  },
  {
   "cell_type": "code",
   "execution_count": 31,
   "id": "3cbae31c",
   "metadata": {},
   "outputs": [
    {
     "ename": "KeyError",
     "evalue": "'avg_last_7_days'",
     "output_type": "error",
     "traceback": [
      "\u001b[0;31m---------------------------------------------------------------------------\u001b[0m",
      "\u001b[0;31mKeyError\u001b[0m                                  Traceback (most recent call last)",
      "\u001b[0;32m~/opt/anaconda3/lib/python3.9/site-packages/pandas/core/indexes/base.py\u001b[0m in \u001b[0;36mget_loc\u001b[0;34m(self, key, method, tolerance)\u001b[0m\n\u001b[1;32m   3360\u001b[0m             \u001b[0;32mtry\u001b[0m\u001b[0;34m:\u001b[0m\u001b[0;34m\u001b[0m\u001b[0;34m\u001b[0m\u001b[0m\n\u001b[0;32m-> 3361\u001b[0;31m                 \u001b[0;32mreturn\u001b[0m \u001b[0mself\u001b[0m\u001b[0;34m.\u001b[0m\u001b[0m_engine\u001b[0m\u001b[0;34m.\u001b[0m\u001b[0mget_loc\u001b[0m\u001b[0;34m(\u001b[0m\u001b[0mcasted_key\u001b[0m\u001b[0;34m)\u001b[0m\u001b[0;34m\u001b[0m\u001b[0;34m\u001b[0m\u001b[0m\n\u001b[0m\u001b[1;32m   3362\u001b[0m             \u001b[0;32mexcept\u001b[0m \u001b[0mKeyError\u001b[0m \u001b[0;32mas\u001b[0m \u001b[0merr\u001b[0m\u001b[0;34m:\u001b[0m\u001b[0;34m\u001b[0m\u001b[0;34m\u001b[0m\u001b[0m\n",
      "\u001b[0;32m~/opt/anaconda3/lib/python3.9/site-packages/pandas/_libs/index.pyx\u001b[0m in \u001b[0;36mpandas._libs.index.IndexEngine.get_loc\u001b[0;34m()\u001b[0m\n",
      "\u001b[0;32m~/opt/anaconda3/lib/python3.9/site-packages/pandas/_libs/index.pyx\u001b[0m in \u001b[0;36mpandas._libs.index.IndexEngine.get_loc\u001b[0;34m()\u001b[0m\n",
      "\u001b[0;32mpandas/_libs/hashtable_class_helper.pxi\u001b[0m in \u001b[0;36mpandas._libs.hashtable.PyObjectHashTable.get_item\u001b[0;34m()\u001b[0m\n",
      "\u001b[0;32mpandas/_libs/hashtable_class_helper.pxi\u001b[0m in \u001b[0;36mpandas._libs.hashtable.PyObjectHashTable.get_item\u001b[0;34m()\u001b[0m\n",
      "\u001b[0;31mKeyError\u001b[0m: 'avg_last_7_days'",
      "\nThe above exception was the direct cause of the following exception:\n",
      "\u001b[0;31mKeyError\u001b[0m                                  Traceback (most recent call last)",
      "\u001b[0;32m/var/folders/5t/ltqvfkd124z1n5v3ntgw77d40000gn/T/ipykernel_71788/3369024191.py\u001b[0m in \u001b[0;36m<module>\u001b[0;34m\u001b[0m\n\u001b[1;32m      1\u001b[0m \u001b[0mplt\u001b[0m\u001b[0;34m.\u001b[0m\u001b[0mfigure\u001b[0m\u001b[0;34m(\u001b[0m\u001b[0mfigsize\u001b[0m\u001b[0;34m=\u001b[0m\u001b[0;34m(\u001b[0m\u001b[0;36m7\u001b[0m\u001b[0;34m,\u001b[0m \u001b[0;36m5\u001b[0m\u001b[0;34m)\u001b[0m\u001b[0;34m,\u001b[0m \u001b[0mdpi\u001b[0m\u001b[0;34m=\u001b[0m\u001b[0;36m80\u001b[0m\u001b[0;34m)\u001b[0m\u001b[0;34m\u001b[0m\u001b[0;34m\u001b[0m\u001b[0m\n\u001b[1;32m      2\u001b[0m \u001b[0max1\u001b[0m \u001b[0;34m=\u001b[0m \u001b[0mplt\u001b[0m\u001b[0;34m.\u001b[0m\u001b[0msubplot\u001b[0m\u001b[0;34m(\u001b[0m\u001b[0;34m)\u001b[0m\u001b[0;34m\u001b[0m\u001b[0;34m\u001b[0m\u001b[0m\n\u001b[0;32m----> 3\u001b[0;31m \u001b[0ml1\u001b[0m\u001b[0;34m,\u001b[0m \u001b[0;34m=\u001b[0m \u001b[0max1\u001b[0m\u001b[0;34m.\u001b[0m\u001b[0mplot\u001b[0m\u001b[0;34m(\u001b[0m\u001b[0mweekly_incident_change\u001b[0m\u001b[0;34m[\u001b[0m\u001b[0;34m'date'\u001b[0m\u001b[0;34m]\u001b[0m\u001b[0;34m,\u001b[0m \u001b[0mweekly_incident_change\u001b[0m\u001b[0;34m[\u001b[0m\u001b[0;34m'avg_last_7_days'\u001b[0m\u001b[0;34m]\u001b[0m\u001b[0;34m,\u001b[0m \u001b[0mcolor\u001b[0m\u001b[0;34m=\u001b[0m\u001b[0;34m'red'\u001b[0m\u001b[0;34m)\u001b[0m\u001b[0;34m;\u001b[0m\u001b[0;34m\u001b[0m\u001b[0;34m\u001b[0m\u001b[0m\n\u001b[0m\u001b[1;32m      4\u001b[0m \u001b[0max1\u001b[0m\u001b[0;34m.\u001b[0m\u001b[0mscatter\u001b[0m\u001b[0;34m(\u001b[0m\u001b[0mdf_incident_baseline_change\u001b[0m\u001b[0;34m[\u001b[0m\u001b[0;34m'date'\u001b[0m\u001b[0;34m]\u001b[0m\u001b[0;34m,\u001b[0m \u001b[0mdf_incident_baseline_change\u001b[0m\u001b[0;34m[\u001b[0m\u001b[0;34m'change_from_baseline'\u001b[0m\u001b[0;34m]\u001b[0m\u001b[0;34m,\u001b[0m \u001b[0mcolor\u001b[0m\u001b[0;34m=\u001b[0m\u001b[0;34m'red'\u001b[0m\u001b[0;34m,\u001b[0m \u001b[0malpha\u001b[0m\u001b[0;34m=\u001b[0m\u001b[0;36m.2\u001b[0m\u001b[0;34m)\u001b[0m\u001b[0;34m;\u001b[0m\u001b[0;34m\u001b[0m\u001b[0;34m\u001b[0m\u001b[0m\n\u001b[1;32m      5\u001b[0m \u001b[0;34m\u001b[0m\u001b[0m\n",
      "\u001b[0;32m~/opt/anaconda3/lib/python3.9/site-packages/pandas/core/frame.py\u001b[0m in \u001b[0;36m__getitem__\u001b[0;34m(self, key)\u001b[0m\n\u001b[1;32m   3456\u001b[0m             \u001b[0;32mif\u001b[0m \u001b[0mself\u001b[0m\u001b[0;34m.\u001b[0m\u001b[0mcolumns\u001b[0m\u001b[0;34m.\u001b[0m\u001b[0mnlevels\u001b[0m \u001b[0;34m>\u001b[0m \u001b[0;36m1\u001b[0m\u001b[0;34m:\u001b[0m\u001b[0;34m\u001b[0m\u001b[0;34m\u001b[0m\u001b[0m\n\u001b[1;32m   3457\u001b[0m                 \u001b[0;32mreturn\u001b[0m \u001b[0mself\u001b[0m\u001b[0;34m.\u001b[0m\u001b[0m_getitem_multilevel\u001b[0m\u001b[0;34m(\u001b[0m\u001b[0mkey\u001b[0m\u001b[0;34m)\u001b[0m\u001b[0;34m\u001b[0m\u001b[0;34m\u001b[0m\u001b[0m\n\u001b[0;32m-> 3458\u001b[0;31m             \u001b[0mindexer\u001b[0m \u001b[0;34m=\u001b[0m \u001b[0mself\u001b[0m\u001b[0;34m.\u001b[0m\u001b[0mcolumns\u001b[0m\u001b[0;34m.\u001b[0m\u001b[0mget_loc\u001b[0m\u001b[0;34m(\u001b[0m\u001b[0mkey\u001b[0m\u001b[0;34m)\u001b[0m\u001b[0;34m\u001b[0m\u001b[0;34m\u001b[0m\u001b[0m\n\u001b[0m\u001b[1;32m   3459\u001b[0m             \u001b[0;32mif\u001b[0m \u001b[0mis_integer\u001b[0m\u001b[0;34m(\u001b[0m\u001b[0mindexer\u001b[0m\u001b[0;34m)\u001b[0m\u001b[0;34m:\u001b[0m\u001b[0;34m\u001b[0m\u001b[0;34m\u001b[0m\u001b[0m\n\u001b[1;32m   3460\u001b[0m                 \u001b[0mindexer\u001b[0m \u001b[0;34m=\u001b[0m \u001b[0;34m[\u001b[0m\u001b[0mindexer\u001b[0m\u001b[0;34m]\u001b[0m\u001b[0;34m\u001b[0m\u001b[0;34m\u001b[0m\u001b[0m\n",
      "\u001b[0;32m~/opt/anaconda3/lib/python3.9/site-packages/pandas/core/indexes/base.py\u001b[0m in \u001b[0;36mget_loc\u001b[0;34m(self, key, method, tolerance)\u001b[0m\n\u001b[1;32m   3361\u001b[0m                 \u001b[0;32mreturn\u001b[0m \u001b[0mself\u001b[0m\u001b[0;34m.\u001b[0m\u001b[0m_engine\u001b[0m\u001b[0;34m.\u001b[0m\u001b[0mget_loc\u001b[0m\u001b[0;34m(\u001b[0m\u001b[0mcasted_key\u001b[0m\u001b[0;34m)\u001b[0m\u001b[0;34m\u001b[0m\u001b[0;34m\u001b[0m\u001b[0m\n\u001b[1;32m   3362\u001b[0m             \u001b[0;32mexcept\u001b[0m \u001b[0mKeyError\u001b[0m \u001b[0;32mas\u001b[0m \u001b[0merr\u001b[0m\u001b[0;34m:\u001b[0m\u001b[0;34m\u001b[0m\u001b[0;34m\u001b[0m\u001b[0m\n\u001b[0;32m-> 3363\u001b[0;31m                 \u001b[0;32mraise\u001b[0m \u001b[0mKeyError\u001b[0m\u001b[0;34m(\u001b[0m\u001b[0mkey\u001b[0m\u001b[0;34m)\u001b[0m \u001b[0;32mfrom\u001b[0m \u001b[0merr\u001b[0m\u001b[0;34m\u001b[0m\u001b[0;34m\u001b[0m\u001b[0m\n\u001b[0m\u001b[1;32m   3364\u001b[0m \u001b[0;34m\u001b[0m\u001b[0m\n\u001b[1;32m   3365\u001b[0m         \u001b[0;32mif\u001b[0m \u001b[0mis_scalar\u001b[0m\u001b[0;34m(\u001b[0m\u001b[0mkey\u001b[0m\u001b[0;34m)\u001b[0m \u001b[0;32mand\u001b[0m \u001b[0misna\u001b[0m\u001b[0;34m(\u001b[0m\u001b[0mkey\u001b[0m\u001b[0;34m)\u001b[0m \u001b[0;32mand\u001b[0m \u001b[0;32mnot\u001b[0m \u001b[0mself\u001b[0m\u001b[0;34m.\u001b[0m\u001b[0mhasnans\u001b[0m\u001b[0;34m:\u001b[0m\u001b[0;34m\u001b[0m\u001b[0;34m\u001b[0m\u001b[0m\n",
      "\u001b[0;31mKeyError\u001b[0m: 'avg_last_7_days'"
     ]
    },
    {
     "data": {
      "image/png": "[encoded data removed]",
      "text/plain": [
       "<Figure size 560x400 with 1 Axes>"
      ]
     },
     "metadata": {},
     "output_type": "display_data"
    }
   ],
   "source": [
    "plt.figure(figsize=(7, 5), dpi=80)\n",
    "ax1 = plt.subplot()\n",
    "l1, = ax1.plot(weekly_incident_change['date'], weekly_incident_change['avg_last_7_days'], color='red');\n",
    "ax1.scatter(df_incident_baseline_change['date'], df_incident_baseline_change['change_from_baseline'], color='red', alpha=.2);\n",
    "\n",
    "ax1.tick_params(axis='y', labelcolor='red')\n",
    "ax1.tick_params(axis='x', rotation=70)\n",
    "ax1.set_ylabel('incident count (NFORS)')\n",
    "ax2 = ax1.twinx()\n",
    "l2, = ax2.plot(weekly_mobility['date'], weekly_mobility['avg_last_7_days'], color='dodgerblue')\n",
    "ax2.tick_params(axis='y', labelcolor='dodgerblue')\n",
    "ax2.scatter(pd.to_datetime(df_richmond['date']) , df_richmond['workplaces_percent_change_from_baseline'], color='dodgerblue',alpha=.2)\n",
    "ax2.set_ylabel('% change in workplace (google)')\n",
    "\n",
    "ax1.grid(False)\n",
    "ax2.grid(False)\n",
    "plt.xlim(left=pd.to_datetime('2020-02-15'));\n"
   ]
  },
  {
   "cell_type": "code",
   "execution_count": 30,
   "id": "eb0a292e",
   "metadata": {},
   "outputs": [
    {
     "ename": "KeyError",
     "evalue": "'avg_last_7_days'",
     "output_type": "error",
     "traceback": [
      "\u001b[0;31m---------------------------------------------------------------------------\u001b[0m",
      "\u001b[0;31mKeyError\u001b[0m                                  Traceback (most recent call last)",
      "\u001b[0;32m~/opt/anaconda3/lib/python3.9/site-packages/pandas/core/indexes/base.py\u001b[0m in \u001b[0;36mget_loc\u001b[0;34m(self, key, method, tolerance)\u001b[0m\n\u001b[1;32m   3360\u001b[0m             \u001b[0;32mtry\u001b[0m\u001b[0;34m:\u001b[0m\u001b[0;34m\u001b[0m\u001b[0;34m\u001b[0m\u001b[0m\n\u001b[0;32m-> 3361\u001b[0;31m                 \u001b[0;32mreturn\u001b[0m \u001b[0mself\u001b[0m\u001b[0;34m.\u001b[0m\u001b[0m_engine\u001b[0m\u001b[0;34m.\u001b[0m\u001b[0mget_loc\u001b[0m\u001b[0;34m(\u001b[0m\u001b[0mcasted_key\u001b[0m\u001b[0;34m)\u001b[0m\u001b[0;34m\u001b[0m\u001b[0;34m\u001b[0m\u001b[0m\n\u001b[0m\u001b[1;32m   3362\u001b[0m             \u001b[0;32mexcept\u001b[0m \u001b[0mKeyError\u001b[0m \u001b[0;32mas\u001b[0m \u001b[0merr\u001b[0m\u001b[0;34m:\u001b[0m\u001b[0;34m\u001b[0m\u001b[0;34m\u001b[0m\u001b[0m\n",
      "\u001b[0;32m~/opt/anaconda3/lib/python3.9/site-packages/pandas/_libs/index.pyx\u001b[0m in \u001b[0;36mpandas._libs.index.IndexEngine.get_loc\u001b[0;34m()\u001b[0m\n",
      "\u001b[0;32m~/opt/anaconda3/lib/python3.9/site-packages/pandas/_libs/index.pyx\u001b[0m in \u001b[0;36mpandas._libs.index.IndexEngine.get_loc\u001b[0;34m()\u001b[0m\n",
      "\u001b[0;32mpandas/_libs/hashtable_class_helper.pxi\u001b[0m in \u001b[0;36mpandas._libs.hashtable.PyObjectHashTable.get_item\u001b[0;34m()\u001b[0m\n",
      "\u001b[0;32mpandas/_libs/hashtable_class_helper.pxi\u001b[0m in \u001b[0;36mpandas._libs.hashtable.PyObjectHashTable.get_item\u001b[0;34m()\u001b[0m\n",
      "\u001b[0;31mKeyError\u001b[0m: 'avg_last_7_days'",
      "\nThe above exception was the direct cause of the following exception:\n",
      "\u001b[0;31mKeyError\u001b[0m                                  Traceback (most recent call last)",
      "\u001b[0;32m/var/folders/5t/ltqvfkd124z1n5v3ntgw77d40000gn/T/ipykernel_71788/2586710468.py\u001b[0m in \u001b[0;36m<module>\u001b[0;34m\u001b[0m\n\u001b[1;32m      1\u001b[0m \u001b[0mplt\u001b[0m\u001b[0;34m.\u001b[0m\u001b[0mfigure\u001b[0m\u001b[0;34m(\u001b[0m\u001b[0mfigsize\u001b[0m\u001b[0;34m=\u001b[0m\u001b[0;34m(\u001b[0m\u001b[0;36m7\u001b[0m\u001b[0;34m,\u001b[0m \u001b[0;36m5\u001b[0m\u001b[0;34m)\u001b[0m\u001b[0;34m,\u001b[0m \u001b[0mdpi\u001b[0m\u001b[0;34m=\u001b[0m\u001b[0;36m80\u001b[0m\u001b[0;34m)\u001b[0m\u001b[0;34m\u001b[0m\u001b[0;34m\u001b[0m\u001b[0m\n\u001b[0;32m----> 2\u001b[0;31m \u001b[0mplt\u001b[0m\u001b[0;34m.\u001b[0m\u001b[0mplot\u001b[0m\u001b[0;34m(\u001b[0m\u001b[0mweekly_incident_change\u001b[0m\u001b[0;34m[\u001b[0m\u001b[0;34m'date'\u001b[0m\u001b[0;34m]\u001b[0m\u001b[0;34m,\u001b[0m \u001b[0mweekly_incident_change\u001b[0m\u001b[0;34m[\u001b[0m\u001b[0;34m'avg_last_7_days'\u001b[0m\u001b[0;34m]\u001b[0m\u001b[0;34m,\u001b[0m \u001b[0mcolor\u001b[0m\u001b[0;34m=\u001b[0m\u001b[0;34m'red'\u001b[0m\u001b[0;34m,\u001b[0m \u001b[0mlabel\u001b[0m\u001b[0;34m=\u001b[0m\u001b[0;34m'incidents'\u001b[0m\u001b[0;34m)\u001b[0m\u001b[0;34m;\u001b[0m\u001b[0;34m\u001b[0m\u001b[0;34m\u001b[0m\u001b[0m\n\u001b[0m\u001b[1;32m      3\u001b[0m \u001b[0mplt\u001b[0m\u001b[0;34m.\u001b[0m\u001b[0mscatter\u001b[0m\u001b[0;34m(\u001b[0m\u001b[0mdf_incident_baseline_change\u001b[0m\u001b[0;34m[\u001b[0m\u001b[0;34m'date'\u001b[0m\u001b[0;34m]\u001b[0m\u001b[0;34m,\u001b[0m \u001b[0mdf_incident_baseline_change\u001b[0m\u001b[0;34m[\u001b[0m\u001b[0;34m'change_from_baseline'\u001b[0m\u001b[0;34m]\u001b[0m\u001b[0;34m,\u001b[0m \u001b[0mcolor\u001b[0m\u001b[0;34m=\u001b[0m\u001b[0;34m'red'\u001b[0m\u001b[0;34m,\u001b[0m \u001b[0malpha\u001b[0m\u001b[0;34m=\u001b[0m\u001b[0;36m.2\u001b[0m\u001b[0;34m)\u001b[0m\u001b[0;34m;\u001b[0m\u001b[0;34m\u001b[0m\u001b[0;34m\u001b[0m\u001b[0m\n\u001b[1;32m      4\u001b[0m \u001b[0mplt\u001b[0m\u001b[0;34m.\u001b[0m\u001b[0mtick_params\u001b[0m\u001b[0;34m(\u001b[0m\u001b[0maxis\u001b[0m\u001b[0;34m=\u001b[0m\u001b[0;34m'x'\u001b[0m\u001b[0;34m,\u001b[0m \u001b[0mrotation\u001b[0m\u001b[0;34m=\u001b[0m\u001b[0;36m70\u001b[0m\u001b[0;34m)\u001b[0m\u001b[0;34m\u001b[0m\u001b[0;34m\u001b[0m\u001b[0m\n\u001b[1;32m      5\u001b[0m \u001b[0mplt\u001b[0m\u001b[0;34m.\u001b[0m\u001b[0mylabel\u001b[0m\u001b[0;34m(\u001b[0m\u001b[0;34m'percentage difference from baseline'\u001b[0m\u001b[0;34m)\u001b[0m\u001b[0;34m\u001b[0m\u001b[0;34m\u001b[0m\u001b[0m\n",
      "\u001b[0;32m~/opt/anaconda3/lib/python3.9/site-packages/pandas/core/frame.py\u001b[0m in \u001b[0;36m__getitem__\u001b[0;34m(self, key)\u001b[0m\n\u001b[1;32m   3456\u001b[0m             \u001b[0;32mif\u001b[0m \u001b[0mself\u001b[0m\u001b[0;34m.\u001b[0m\u001b[0mcolumns\u001b[0m\u001b[0;34m.\u001b[0m\u001b[0mnlevels\u001b[0m \u001b[0;34m>\u001b[0m \u001b[0;36m1\u001b[0m\u001b[0;34m:\u001b[0m\u001b[0;34m\u001b[0m\u001b[0;34m\u001b[0m\u001b[0m\n\u001b[1;32m   3457\u001b[0m                 \u001b[0;32mreturn\u001b[0m \u001b[0mself\u001b[0m\u001b[0;34m.\u001b[0m\u001b[0m_getitem_multilevel\u001b[0m\u001b[0;34m(\u001b[0m\u001b[0mkey\u001b[0m\u001b[0;34m)\u001b[0m\u001b[0;34m\u001b[0m\u001b[0;34m\u001b[0m\u001b[0m\n\u001b[0;32m-> 3458\u001b[0;31m             \u001b[0mindexer\u001b[0m \u001b[0;34m=\u001b[0m \u001b[0mself\u001b[0m\u001b[0;34m.\u001b[0m\u001b[0mcolumns\u001b[0m\u001b[0;34m.\u001b[0m\u001b[0mget_loc\u001b[0m\u001b[0;34m(\u001b[0m\u001b[0mkey\u001b[0m\u001b[0;34m)\u001b[0m\u001b[0;34m\u001b[0m\u001b[0;34m\u001b[0m\u001b[0m\n\u001b[0m\u001b[1;32m   3459\u001b[0m             \u001b[0;32mif\u001b[0m \u001b[0mis_integer\u001b[0m\u001b[0;34m(\u001b[0m\u001b[0mindexer\u001b[0m\u001b[0;34m)\u001b[0m\u001b[0;34m:\u001b[0m\u001b[0;34m\u001b[0m\u001b[0;34m\u001b[0m\u001b[0m\n\u001b[1;32m   3460\u001b[0m                 \u001b[0mindexer\u001b[0m \u001b[0;34m=\u001b[0m \u001b[0;34m[\u001b[0m\u001b[0mindexer\u001b[0m\u001b[0;34m]\u001b[0m\u001b[0;34m\u001b[0m\u001b[0;34m\u001b[0m\u001b[0m\n",
      "\u001b[0;32m~/opt/anaconda3/lib/python3.9/site-packages/pandas/core/indexes/base.py\u001b[0m in \u001b[0;36mget_loc\u001b[0;34m(self, key, method, tolerance)\u001b[0m\n\u001b[1;32m   3361\u001b[0m                 \u001b[0;32mreturn\u001b[0m \u001b[0mself\u001b[0m\u001b[0;34m.\u001b[0m\u001b[0m_engine\u001b[0m\u001b[0;34m.\u001b[0m\u001b[0mget_loc\u001b[0m\u001b[0;34m(\u001b[0m\u001b[0mcasted_key\u001b[0m\u001b[0;34m)\u001b[0m\u001b[0;34m\u001b[0m\u001b[0;34m\u001b[0m\u001b[0m\n\u001b[1;32m   3362\u001b[0m             \u001b[0;32mexcept\u001b[0m \u001b[0mKeyError\u001b[0m \u001b[0;32mas\u001b[0m \u001b[0merr\u001b[0m\u001b[0;34m:\u001b[0m\u001b[0;34m\u001b[0m\u001b[0;34m\u001b[0m\u001b[0m\n\u001b[0;32m-> 3363\u001b[0;31m                 \u001b[0;32mraise\u001b[0m \u001b[0mKeyError\u001b[0m\u001b[0;34m(\u001b[0m\u001b[0mkey\u001b[0m\u001b[0;34m)\u001b[0m \u001b[0;32mfrom\u001b[0m \u001b[0merr\u001b[0m\u001b[0;34m\u001b[0m\u001b[0;34m\u001b[0m\u001b[0m\n\u001b[0m\u001b[1;32m   3364\u001b[0m \u001b[0;34m\u001b[0m\u001b[0m\n\u001b[1;32m   3365\u001b[0m         \u001b[0;32mif\u001b[0m \u001b[0mis_scalar\u001b[0m\u001b[0;34m(\u001b[0m\u001b[0mkey\u001b[0m\u001b[0;34m)\u001b[0m \u001b[0;32mand\u001b[0m \u001b[0misna\u001b[0m\u001b[0;34m(\u001b[0m\u001b[0mkey\u001b[0m\u001b[0;34m)\u001b[0m \u001b[0;32mand\u001b[0m \u001b[0;32mnot\u001b[0m \u001b[0mself\u001b[0m\u001b[0;34m.\u001b[0m\u001b[0mhasnans\u001b[0m\u001b[0;34m:\u001b[0m\u001b[0;34m\u001b[0m\u001b[0;34m\u001b[0m\u001b[0m\n",
      "\u001b[0;31mKeyError\u001b[0m: 'avg_last_7_days'"
     ]
    },
    {
     "data": {
      "text/plain": [
       "<Figure size 560x400 with 0 Axes>"
      ]
     },
     "metadata": {},
     "output_type": "display_data"
    }
   ],
   "source": [
    "plt.figure(figsize=(7, 5), dpi=80)\n",
    "plt.plot(weekly_incident_change['date'], weekly_incident_change['avg_last_7_days'], color='red', label='incidents');\n",
    "plt.scatter(df_incident_baseline_change['date'], df_incident_baseline_change['change_from_baseline'], color='red', alpha=.2);\n",
    "plt.tick_params(axis='x', rotation=70)\n",
    "plt.ylabel('percentage difference from baseline')\n",
    "plt.plot(weekly_mobility['date'], weekly_mobility['avg_last_7_days'], color='dodgerblue', label='workplace mobility')\n",
    "plt.scatter(pd.to_datetime(df_richmond['date']) , df_richmond['workplaces_percent_change_from_baseline'], color='dodgerblue',alpha=.2)\n",
    "\n",
    "plt.grid(False)\n",
    "plt.grid(False)\n",
    "plt.ylim(-50, 50)\n",
    "plt.legend()\n",
    "plt.xlim(left=pd.to_datetime('2020-02-15'));"
   ]
  },
  {
   "cell_type": "code",
   "execution_count": null,
   "id": "7071946b",
   "metadata": {},
   "outputs": [],
   "source": [
    "df_new = pd.merge(weekly_mobility, weekly_incident_change, how='inner', on='date')\n",
    "plt.scatter(df_new['avg_last_7_days_x'], df_new['avg_last_7_days_y'])"
   ]
  },
  {
   "cell_type": "code",
   "execution_count": null,
   "id": "a8097986",
   "metadata": {},
   "outputs": [],
   "source": [
    "df_new.corr()"
   ]
  },
  {
   "cell_type": "code",
   "execution_count": null,
   "id": "442aba49",
   "metadata": {},
   "outputs": [],
   "source": []
  },
  {
   "cell_type": "code",
   "execution_count": null,
   "id": "6184fc31",
   "metadata": {},
   "outputs": [],
   "source": []
  },
  {
   "cell_type": "code",
   "execution_count": null,
   "id": "8c1b9545",
   "metadata": {},
   "outputs": [],
   "source": []
  },
  {
   "cell_type": "code",
   "execution_count": null,
   "id": "15d0b358",
   "metadata": {},
   "outputs": [],
   "source": []
  },
  {
   "cell_type": "code",
   "execution_count": null,
   "id": "726e8453",
   "metadata": {},
   "outputs": [],
   "source": []
  },
  {
   "cell_type": "code",
   "execution_count": null,
   "id": "d0e1507e",
   "metadata": {},
   "outputs": [],
   "source": [
    "lower = poisson(mu = Lambda).ppf(0.025)\n",
    "upper = poisson(mu = Lambda).ppf(1-0.025)"
   ]
  },
  {
   "cell_type": "code",
   "execution_count": null,
   "id": "77065228",
   "metadata": {},
   "outputs": [],
   "source": [
    "plt.plot(X_matrix[:,1], X_matrix@theta_ML, alpha=.5)\n",
    "plt.fill_between(X_matrix[:,1], np.log(lower), np.log(upper), alpha=0.5)\n",
    "plt.scatter(X_matrix[:,1], np.log(Y_matrix),color='black')\n",
    "plt.xlabel('mobility')\n",
    "plt.ylabel('log(incident_count)');"
   ]
  },
  {
   "cell_type": "code",
   "execution_count": null,
   "id": "dbb19b26",
   "metadata": {},
   "outputs": [],
   "source": [
    "plt.plot(X_matrix[:,1], np.exp(X_matrix@theta_ML), alpha=.5)\n",
    "plt.fill_between(X_matrix[:,1], lower, upper, alpha=0.5)\n",
    "plt.scatter(X_matrix[:,1], Y_matrix, color='black')\n",
    "plt.xlabel('mobility')\n",
    "plt.ylabel('incident_count');"
   ]
  },
  {
   "cell_type": "code",
   "execution_count": null,
   "id": "b5016d43",
   "metadata": {},
   "outputs": [],
   "source": [
    "y_pred = np.exp(X_matrix@theta_ML)\n",
    "plt.scatter(y_pred, Y_matrix)\n",
    "lower = poisson.ppf(q=.025, mu=y_pred)\n",
    "upper = poisson.ppf(q=.975, mu=y_pred)\n",
    "plt.fill_between(y_pred, lower, upper, alpha=.5)\n",
    "plt.ylabel('actual')\n",
    "plt.xlabel('pred');"
   ]
  },
  {
   "cell_type": "code",
   "execution_count": null,
   "id": "1bd036ad",
   "metadata": {},
   "outputs": [],
   "source": [
    "#check it gives the same\n",
    "from sklearn import linear_model\n",
    "clf = linear_model.PoissonRegressor()\n",
    "clf.fit(X_matrix[:,1].reshape(-1,1), Y_matrix.reshape(-1,1))\n",
    "clf.coef_"
   ]
  },
  {
   "cell_type": "code",
   "execution_count": null,
   "id": "fc455882",
   "metadata": {},
   "outputs": [],
   "source": [
    "clf.intercept_"
   ]
  },
  {
   "cell_type": "code",
   "execution_count": null,
   "id": "8e96f844",
   "metadata": {},
   "outputs": [],
   "source": [
    "from statsmodels.discrete.discrete_model import NegativeBinomial"
   ]
  },
  {
   "cell_type": "code",
   "execution_count": null,
   "id": "81f8aa0c",
   "metadata": {},
   "outputs": [],
   "source": [
    "Y_matrix.reshape(-1,1).shape\n",
    "#X_matrix.shape"
   ]
  },
  {
   "cell_type": "code",
   "execution_count": null,
   "id": "533ab5d4",
   "metadata": {},
   "outputs": [],
   "source": [
    "res = NegativeBinomial(Y_matrix, X_matrix).fit()"
   ]
  },
  {
   "cell_type": "code",
   "execution_count": null,
   "id": "52a2261a",
   "metadata": {},
   "outputs": [],
   "source": [
    "theta = np.array([res.params[0], res.params[1]])\n",
    "theta"
   ]
  },
  {
   "cell_type": "code",
   "execution_count": null,
   "id": "f41c6607",
   "metadata": {},
   "outputs": [],
   "source": [
    "plt.scatter(X_matrix[:,1], Y_matrix)\n",
    "plt.plot(X_matrix[:,1], np.exp(X_matrix@theta))"
   ]
  },
  {
   "cell_type": "code",
   "execution_count": null,
   "id": "2bd80197",
   "metadata": {},
   "outputs": [],
   "source": [
    "mu = np.exp(X_matrix@theta)\n",
    "var = mu + mu**2 * res.params[2]"
   ]
  },
  {
   "cell_type": "code",
   "execution_count": null,
   "id": "e7602a25",
   "metadata": {},
   "outputs": [],
   "source": [
    "from scipy.stats import nbinom"
   ]
  },
  {
   "cell_type": "code",
   "execution_count": null,
   "id": "1e20b0d7",
   "metadata": {},
   "outputs": [],
   "source": [
    "p = mu/var\n",
    "n = mu**2/(var-mu)"
   ]
  },
  {
   "cell_type": "code",
   "execution_count": null,
   "id": "a77e0949",
   "metadata": {},
   "outputs": [],
   "source": [
    "lower = nbinom(p=p,n=n).ppf(0.025)\n",
    "upper = nbinom(p=p,n=n).ppf(1-0.025)"
   ]
  },
  {
   "cell_type": "code",
   "execution_count": null,
   "id": "9f790aca",
   "metadata": {},
   "outputs": [],
   "source": [
    "plt.scatter(X_matrix[:,1], Y_matrix)\n",
    "plt.plot(X_matrix[:,1], np.exp(X_matrix@theta))\n",
    "plt.fill_between(X_matrix[:,1], lower, upper, alpha=.5)\n",
    "#Much better!!"
   ]
  },
  {
   "cell_type": "code",
   "execution_count": null,
   "id": "adb596e9",
   "metadata": {},
   "outputs": [],
   "source": []
  }
 ],
 "metadata": {
  "kernelspec": {
   "display_name": "Python 3 (ipykernel)",
   "language": "python",
   "name": "python3"
  },
  "language_info": {
   "codemirror_mode": {
    "name": "ipython",
    "version": 3
   },
   "file_extension": ".py",
   "mimetype": "text/x-python",
   "name": "python",
   "nbconvert_exporter": "python",
   "pygments_lexer": "ipython3",
   "version": "3.9.7"
  }
 },
 "nbformat": 4,
 "nbformat_minor": 5
}
