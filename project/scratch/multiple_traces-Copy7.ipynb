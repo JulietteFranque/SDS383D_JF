{
 "cells": [
  {
   "cell_type": "code",
   "execution_count": 1,
   "id": "1df82947",
   "metadata": {},
   "outputs": [],
   "source": [
    "import pandas as pd\n",
    "import matplotlib.pyplot as plt\n",
    "import numpy as np\n",
    "import matplotlib.style as style\n",
    "from tqdm import tqdm \n",
    "tqdm.pandas()\n",
    "plt.rcParams.update({'axes.labelsize':16})\n",
    "plt.rcParams.update({'axes.titlesize':16})\n",
    "plt.rcParams.update({'legend.fontsize':16})\n",
    "plt.rcParams['xtick.labelsize'] = 16\n",
    "plt.rcParams['ytick.labelsize'] = 16\n",
    "plt.rcParams['lines.linewidth'] = 4\n",
    "style.use('ggplot')\n",
    "import os\n",
    "os.chdir('../')\n",
    "from python_code import new_new_gibbs\n",
    "os.chdir('notebooks')\n",
    "from sklearn.decomposition import PCA\n",
    "import pickle"
   ]
  },
  {
   "cell_type": "code",
   "execution_count": 2,
   "id": "e24b22ca",
   "metadata": {},
   "outputs": [],
   "source": [
    "pca = PCA(n_components=2)\n",
    "df = pd.read_csv('../data/all_data.csv')\n",
    "df = df.drop(columns='transit_stations_percent_change_from_baseline')\n",
    "df = df.dropna()\n",
    "df['department_name'] = df['department_name'].apply(lambda x: \" \".join(x.split(' ')[:-1]))\n",
    "X_transformed = pca.fit_transform(df[df.columns[np.r_[1:6]]])\n",
    "df['component_1'] = X_transformed[:,0]\n",
    "df['component_2'] = X_transformed[:,1]\n",
    "df['intercept'] = 1\n",
    "grouped_df = df.groupby('department_name')\n",
    "groups = list(grouped_df.groups.keys())\n",
    "X_depts, y_depts = [], []\n",
    "pca = PCA(n_components=2)\n",
    "time_vecs = []\n",
    "date_vecs = []\n",
    "for n, dept in enumerate(groups):\n",
    "    df_dept = grouped_df.get_group(dept)\n",
    "    df_dept = df_dept.sort_values('date')\n",
    "    date_vecs.append(df_dept['date'])\n",
    "    X = df_dept[['intercept','component_1','component_2']].to_numpy()\n",
    "    y = df_dept['incidents'].to_numpy()\n",
    "    X_depts.append(X)\n",
    "    y_depts.append(y.flatten())\n",
    "    df_dept['day_of_the_year'] = pd.to_datetime(df_dept['date']).dt.day_of_year\n",
    "    time_vecs.append(df_dept['day_of_the_year'].to_numpy())"
   ]
  },
  {
   "cell_type": "code",
   "execution_count": null,
   "id": "6de20810",
   "metadata": {},
   "outputs": [
    {
     "name": "stderr",
     "output_type": "stream",
     "text": [
      "  0%|                                                                                                                                                                                                  | 0/10000 [00:00<?, ?it/s]/Users/juliette/opt/anaconda3/lib/python3.9/site-packages/scipy/stats/_multivariate.py:653: RuntimeWarning: covariance is not positive-semidefinite.\n",
      "  out = random_state.multivariate_normal(mean, cov, size)\n",
      "  6%|██████████                                                                                                                                                                            | 553/10000 [04:57<1:20:46,  1.95it/s]/Users/juliette/Documents/repos/SDS383D_JF/project/python_code/new_new_gibbs.py:126: RuntimeWarning: divide by zero encountered in true_divide\n",
      "  cov = tau_sq_1 * np.exp(-1 / 2 * (distance / bandwidth) ** 2) + tau_sq_2 * np.eye(x_1.shape[0], x_2.shape[0])\n",
      "/Users/juliette/Documents/repos/SDS383D_JF/project/python_code/new_new_gibbs.py:126: RuntimeWarning: invalid value encountered in true_divide\n",
      "  cov = tau_sq_1 * np.exp(-1 / 2 * (distance / bandwidth) ** 2) + tau_sq_2 * np.eye(x_1.shape[0], x_2.shape[0])\n"
     ]
    },
    {
     "name": "stdout",
     "output_type": "stream",
     "text": [
      "pb\n"
     ]
    },
    {
     "name": "stderr",
     "output_type": "stream",
     "text": [
      "  6%|██████████▌                                                                                                                                                                           | 579/10000 [05:11<1:28:53,  1.77it/s]"
     ]
    },
    {
     "name": "stdout",
     "output_type": "stream",
     "text": [
      "pb\n"
     ]
    },
    {
     "name": "stderr",
     "output_type": "stream",
     "text": [
      "  6%|██████████▊                                                                                                                                                                             | 590/10000 [05:16<53:12,  2.95it/s]"
     ]
    },
    {
     "name": "stdout",
     "output_type": "stream",
     "text": [
      "pb\n",
      "pb\n",
      "pb\n"
     ]
    },
    {
     "name": "stderr",
     "output_type": "stream",
     "text": [
      "\r",
      "  6%|██████████▉                                                                                                                                                                             | 592/10000 [05:16<37:14,  4.21it/s]"
     ]
    },
    {
     "name": "stdout",
     "output_type": "stream",
     "text": [
      "pb\n"
     ]
    },
    {
     "name": "stderr",
     "output_type": "stream",
     "text": [
      "  6%|██████████▉                                                                                                                                                                           | 602/10000 [05:21<1:07:26,  2.32it/s]"
     ]
    },
    {
     "name": "stdout",
     "output_type": "stream",
     "text": [
      "pb\n"
     ]
    },
    {
     "name": "stderr",
     "output_type": "stream",
     "text": [
      "  6%|███████████▏                                                                                                                                                                            | 607/10000 [05:23<50:28,  3.10it/s]"
     ]
    },
    {
     "name": "stdout",
     "output_type": "stream",
     "text": [
      "pb\n",
      "pb\n"
     ]
    },
    {
     "name": "stderr",
     "output_type": "stream",
     "text": [
      "  6%|███████████▍                                                                                                                                                                          | 630/10000 [05:36<1:22:55,  1.88it/s]"
     ]
    },
    {
     "name": "stdout",
     "output_type": "stream",
     "text": [
      "pb\n"
     ]
    },
    {
     "name": "stderr",
     "output_type": "stream",
     "text": [
      "  7%|████████████▍                                                                                                                                                                           | 679/10000 [06:00<50:04,  3.10it/s]"
     ]
    },
    {
     "name": "stdout",
     "output_type": "stream",
     "text": [
      "pb\n",
      "pb\n"
     ]
    },
    {
     "name": "stderr",
     "output_type": "stream",
     "text": [
      "  7%|████████████▌                                                                                                                                                                         | 687/10000 [06:05<1:23:02,  1.87it/s]"
     ]
    },
    {
     "name": "stdout",
     "output_type": "stream",
     "text": [
      "pb\n"
     ]
    },
    {
     "name": "stderr",
     "output_type": "stream",
     "text": [
      "  7%|████████████▋                                                                                                                                                                         | 697/10000 [06:10<1:25:09,  1.82it/s]"
     ]
    },
    {
     "name": "stdout",
     "output_type": "stream",
     "text": [
      "pb\n"
     ]
    },
    {
     "name": "stderr",
     "output_type": "stream",
     "text": [
      "  7%|█████████████                                                                                                                                                                         | 715/10000 [06:19<1:21:13,  1.91it/s]"
     ]
    },
    {
     "name": "stdout",
     "output_type": "stream",
     "text": [
      "pb\n"
     ]
    },
    {
     "name": "stderr",
     "output_type": "stream",
     "text": [
      "\r",
      "  7%|█████████████                                                                                                                                                                         | 717/10000 [06:19<1:04:45,  2.39it/s]"
     ]
    },
    {
     "name": "stdout",
     "output_type": "stream",
     "text": [
      "pb\n"
     ]
    },
    {
     "name": "stderr",
     "output_type": "stream",
     "text": [
      "  7%|█████████████▏                                                                                                                                                                        | 722/10000 [06:22<1:10:31,  2.19it/s]"
     ]
    },
    {
     "name": "stdout",
     "output_type": "stream",
     "text": [
      "pb\n"
     ]
    },
    {
     "name": "stderr",
     "output_type": "stream",
     "text": [
      "\r",
      "  7%|█████████████▏                                                                                                                                                                        | 724/10000 [06:22<1:00:06,  2.57it/s]"
     ]
    },
    {
     "name": "stdout",
     "output_type": "stream",
     "text": [
      "pb\n"
     ]
    },
    {
     "name": "stderr",
     "output_type": "stream",
     "text": [
      "  7%|█████████████▍                                                                                                                                                                        | 737/10000 [06:28<1:19:00,  1.95it/s]"
     ]
    },
    {
     "name": "stdout",
     "output_type": "stream",
     "text": [
      "pb\n"
     ]
    },
    {
     "name": "stderr",
     "output_type": "stream",
     "text": [
      "  8%|██████████████▋                                                                                                                                                                       | 806/10000 [07:05<1:19:30,  1.93it/s]"
     ]
    },
    {
     "name": "stdout",
     "output_type": "stream",
     "text": [
      "pb\n"
     ]
    },
    {
     "name": "stderr",
     "output_type": "stream",
     "text": [
      "  8%|██████████████▊                                                                                                                                                                       | 815/10000 [07:09<1:17:05,  1.99it/s]"
     ]
    },
    {
     "name": "stdout",
     "output_type": "stream",
     "text": [
      "pb\n"
     ]
    },
    {
     "name": "stderr",
     "output_type": "stream",
     "text": [
      "  9%|████████████████                                                                                                                                                                        | 870/10000 [07:38<51:37,  2.95it/s]"
     ]
    },
    {
     "name": "stdout",
     "output_type": "stream",
     "text": [
      "pb\n",
      "pb\n"
     ]
    },
    {
     "name": "stderr",
     "output_type": "stream",
     "text": [
      "  9%|████████████████▏                                                                                                                                                                       | 877/10000 [07:41<49:43,  3.06it/s]"
     ]
    },
    {
     "name": "stdout",
     "output_type": "stream",
     "text": [
      "pb\n",
      "pb\n"
     ]
    },
    {
     "name": "stderr",
     "output_type": "stream",
     "text": [
      "  9%|████████████████▊                                                                                                                                                                       | 914/10000 [07:59<49:12,  3.08it/s]"
     ]
    },
    {
     "name": "stdout",
     "output_type": "stream",
     "text": [
      "pb\n",
      "pb\n"
     ]
    },
    {
     "name": "stderr",
     "output_type": "stream",
     "text": [
      "\r",
      "  9%|████████████████▊                                                                                                                                                                       | 915/10000 [08:00<57:28,  2.63it/s]"
     ]
    },
    {
     "name": "stdout",
     "output_type": "stream",
     "text": [
      "pb\n"
     ]
    },
    {
     "name": "stderr",
     "output_type": "stream",
     "text": [
      " 10%|█████████████████▍                                                                                                                                                                    | 957/10000 [08:23<1:22:03,  1.84it/s]"
     ]
    },
    {
     "name": "stdout",
     "output_type": "stream",
     "text": [
      "pb\n"
     ]
    },
    {
     "name": "stderr",
     "output_type": "stream",
     "text": [
      " 10%|█████████████████▋                                                                                                                                                                    | 975/10000 [08:32<1:17:32,  1.94it/s]"
     ]
    },
    {
     "name": "stdout",
     "output_type": "stream",
     "text": [
      "pb\n"
     ]
    },
    {
     "name": "stderr",
     "output_type": "stream",
     "text": [
      " 10%|█████████████████▊                                                                                                                                                                    | 981/10000 [08:34<1:12:54,  2.06it/s]"
     ]
    },
    {
     "name": "stdout",
     "output_type": "stream",
     "text": [
      "pb\n"
     ]
    },
    {
     "name": "stderr",
     "output_type": "stream",
     "text": [
      " 10%|██████████████████▎                                                                                                                                                                     | 993/10000 [08:39<50:18,  2.98it/s]"
     ]
    },
    {
     "name": "stdout",
     "output_type": "stream",
     "text": [
      "pb\n",
      "pb\n"
     ]
    },
    {
     "name": "stderr",
     "output_type": "stream",
     "text": [
      " 10%|██████████████████▉                                                                                                                                                                  | 1047/10000 [09:08<1:16:38,  1.95it/s]"
     ]
    },
    {
     "name": "stdout",
     "output_type": "stream",
     "text": [
      "pb\n"
     ]
    },
    {
     "name": "stderr",
     "output_type": "stream",
     "text": [
      " 11%|███████████████████▏                                                                                                                                                                 | 1063/10000 [09:16<1:17:50,  1.91it/s]"
     ]
    },
    {
     "name": "stdout",
     "output_type": "stream",
     "text": [
      "pb\n"
     ]
    },
    {
     "name": "stderr",
     "output_type": "stream",
     "text": [
      " 11%|███████████████████▌                                                                                                                                                                   | 1071/10000 [09:19<45:43,  3.26it/s]"
     ]
    },
    {
     "name": "stdout",
     "output_type": "stream",
     "text": [
      "pb\n",
      "pb\n"
     ]
    },
    {
     "name": "stderr",
     "output_type": "stream",
     "text": [
      " 11%|███████████████████▉                                                                                                                                                                 | 1101/10000 [09:36<1:36:22,  1.54it/s]"
     ]
    },
    {
     "name": "stdout",
     "output_type": "stream",
     "text": [
      "pb\n"
     ]
    },
    {
     "name": "stderr",
     "output_type": "stream",
     "text": [
      " 11%|████████████████████▏                                                                                                                                                                | 1112/10000 [09:43<1:25:25,  1.73it/s]"
     ]
    },
    {
     "name": "stdout",
     "output_type": "stream",
     "text": [
      "pb\n"
     ]
    },
    {
     "name": "stderr",
     "output_type": "stream",
     "text": [
      "\r",
      " 11%|████████████████████▏                                                                                                                                                                | 1114/10000 [09:43<1:07:29,  2.19it/s]"
     ]
    },
    {
     "name": "stdout",
     "output_type": "stream",
     "text": [
      "pb\n"
     ]
    },
    {
     "name": "stderr",
     "output_type": "stream",
     "text": [
      " 11%|████████████████████▌                                                                                                                                                                | 1134/10000 [09:54<1:19:18,  1.86it/s]"
     ]
    },
    {
     "name": "stdout",
     "output_type": "stream",
     "text": [
      "pb\n"
     ]
    },
    {
     "name": "stderr",
     "output_type": "stream",
     "text": [
      " 11%|████████████████████▊                                                                                                                                                                  | 1138/10000 [09:55<42:59,  3.44it/s]"
     ]
    },
    {
     "name": "stdout",
     "output_type": "stream",
     "text": [
      "pb\n",
      "pb\n"
     ]
    },
    {
     "name": "stderr",
     "output_type": "stream",
     "text": [
      " 11%|████████████████████▉                                                                                                                                                                  | 1146/10000 [09:58<45:03,  3.27it/s]"
     ]
    },
    {
     "name": "stdout",
     "output_type": "stream",
     "text": [
      "pb\n",
      "pb\n"
     ]
    },
    {
     "name": "stderr",
     "output_type": "stream",
     "text": [
      " 12%|█████████████████████▍                                                                                                                                                                 | 1170/10000 [10:11<50:24,  2.92it/s]"
     ]
    },
    {
     "name": "stdout",
     "output_type": "stream",
     "text": [
      "pb\n",
      "pb\n"
     ]
    },
    {
     "name": "stderr",
     "output_type": "stream",
     "text": [
      " 12%|█████████████████████▍                                                                                                                                                               | 1185/10000 [10:19<1:15:27,  1.95it/s]"
     ]
    },
    {
     "name": "stdout",
     "output_type": "stream",
     "text": [
      "pb\n"
     ]
    },
    {
     "name": "stderr",
     "output_type": "stream",
     "text": [
      "\r",
      " 12%|█████████████████████▍                                                                                                                                                               | 1187/10000 [10:19<1:00:11,  2.44it/s]"
     ]
    },
    {
     "name": "stdout",
     "output_type": "stream",
     "text": [
      "pb\n"
     ]
    },
    {
     "name": "stderr",
     "output_type": "stream",
     "text": [
      " 12%|█████████████████████▊                                                                                                                                                               | 1206/10000 [10:29<1:22:50,  1.77it/s]"
     ]
    },
    {
     "name": "stdout",
     "output_type": "stream",
     "text": [
      "pb\n"
     ]
    },
    {
     "name": "stderr",
     "output_type": "stream",
     "text": [
      " 13%|███████████████████████▉                                                                                                                                                             | 1320/10000 [11:28<1:14:23,  1.94it/s]"
     ]
    },
    {
     "name": "stdout",
     "output_type": "stream",
     "text": [
      "pb\n"
     ]
    },
    {
     "name": "stderr",
     "output_type": "stream",
     "text": [
      " 14%|████████████████████████▊                                                                                                                                                            | 1370/10000 [11:54<1:15:47,  1.90it/s]"
     ]
    },
    {
     "name": "stdout",
     "output_type": "stream",
     "text": [
      "pb\n"
     ]
    },
    {
     "name": "stderr",
     "output_type": "stream",
     "text": [
      " 14%|█████████████████████████▏                                                                                                                                                             | 1375/10000 [11:55<44:30,  3.23it/s]"
     ]
    },
    {
     "name": "stdout",
     "output_type": "stream",
     "text": [
      "pb\n",
      "pb\n",
      "pb\n"
     ]
    },
    {
     "name": "stderr",
     "output_type": "stream",
     "text": [
      " 14%|█████████████████████████                                                                                                                                                            | 1382/10000 [11:58<1:09:46,  2.06it/s]"
     ]
    },
    {
     "name": "stdout",
     "output_type": "stream",
     "text": [
      "pb\n"
     ]
    },
    {
     "name": "stderr",
     "output_type": "stream",
     "text": [
      " 14%|█████████████████████████▍                                                                                                                                                           | 1407/10000 [12:12<1:17:32,  1.85it/s]"
     ]
    },
    {
     "name": "stdout",
     "output_type": "stream",
     "text": [
      "pb\n"
     ]
    },
    {
     "name": "stderr",
     "output_type": "stream",
     "text": [
      " 14%|█████████████████████████▉                                                                                                                                                           | 1430/10000 [12:23<1:17:11,  1.85it/s]"
     ]
    },
    {
     "name": "stdout",
     "output_type": "stream",
     "text": [
      "pb\n"
     ]
    },
    {
     "name": "stderr",
     "output_type": "stream",
     "text": [
      " 14%|██████████████████████████▎                                                                                                                                                            | 1435/10000 [12:25<44:15,  3.23it/s]"
     ]
    },
    {
     "name": "stdout",
     "output_type": "stream",
     "text": [
      "pb\n",
      "pb\n",
      "pb\n"
     ]
    },
    {
     "name": "stderr",
     "output_type": "stream",
     "text": [
      "\r",
      " 14%|██████████████████████████▎                                                                                                                                                            | 1437/10000 [12:25<32:41,  4.37it/s]"
     ]
    },
    {
     "name": "stdout",
     "output_type": "stream",
     "text": [
      "pb\n",
      "pb\n"
     ]
    },
    {
     "name": "stderr",
     "output_type": "stream",
     "text": [
      " 14%|██████████████████████████▏                                                                                                                                                          | 1445/10000 [12:29<1:12:25,  1.97it/s]"
     ]
    },
    {
     "name": "stdout",
     "output_type": "stream",
     "text": [
      "pb\n"
     ]
    },
    {
     "name": "stderr",
     "output_type": "stream",
     "text": [
      " 15%|██████████████████████████▍                                                                                                                                                          | 1462/10000 [12:37<1:15:34,  1.88it/s]"
     ]
    },
    {
     "name": "stdout",
     "output_type": "stream",
     "text": [
      "pb\n"
     ]
    },
    {
     "name": "stderr",
     "output_type": "stream",
     "text": [
      " 15%|██████████████████████████▉                                                                                                                                                          | 1490/10000 [12:52<1:15:20,  1.88it/s]"
     ]
    },
    {
     "name": "stdout",
     "output_type": "stream",
     "text": [
      "pb\n"
     ]
    },
    {
     "name": "stderr",
     "output_type": "stream",
     "text": [
      " 15%|███████████████████████████                                                                                                                                                          | 1493/10000 [12:53<1:03:33,  2.23it/s]"
     ]
    },
    {
     "name": "stdout",
     "output_type": "stream",
     "text": [
      "pb\n"
     ]
    },
    {
     "name": "stderr",
     "output_type": "stream",
     "text": [
      " 15%|███████████████████████████▏                                                                                                                                                         | 1501/10000 [12:57<1:10:32,  2.01it/s]"
     ]
    },
    {
     "name": "stdout",
     "output_type": "stream",
     "text": [
      "pb\n"
     ]
    },
    {
     "name": "stderr",
     "output_type": "stream",
     "text": [
      " 16%|████████████████████████████▏                                                                                                                                                        | 1556/10000 [13:25<1:13:56,  1.90it/s]"
     ]
    },
    {
     "name": "stdout",
     "output_type": "stream",
     "text": [
      "pb\n"
     ]
    },
    {
     "name": "stderr",
     "output_type": "stream",
     "text": [
      " 16%|████████████████████████████▎                                                                                                                                                        | 1564/10000 [13:29<1:09:50,  2.01it/s]"
     ]
    },
    {
     "name": "stdout",
     "output_type": "stream",
     "text": [
      "pb\n"
     ]
    },
    {
     "name": "stderr",
     "output_type": "stream",
     "text": [
      " 16%|████████████████████████████▌                                                                                                                                                        | 1579/10000 [13:37<1:16:45,  1.83it/s]"
     ]
    },
    {
     "name": "stdout",
     "output_type": "stream",
     "text": [
      "pb\n"
     ]
    },
    {
     "name": "stderr",
     "output_type": "stream",
     "text": [
      " 16%|████████████████████████████▊                                                                                                                                                        | 1595/10000 [13:45<1:15:34,  1.85it/s]"
     ]
    },
    {
     "name": "stdout",
     "output_type": "stream",
     "text": [
      "pb\n"
     ]
    },
    {
     "name": "stderr",
     "output_type": "stream",
     "text": [
      " 16%|█████████████████████████████▎                                                                                                                                                         | 1601/10000 [13:47<44:19,  3.16it/s]"
     ]
    },
    {
     "name": "stdout",
     "output_type": "stream",
     "text": [
      "pb\n",
      "pb\n",
      "pb\n"
     ]
    },
    {
     "name": "stderr",
     "output_type": "stream",
     "text": [
      "\r",
      " 16%|█████████████████████████████▎                                                                                                                                                         | 1603/10000 [13:47<31:41,  4.42it/s]"
     ]
    },
    {
     "name": "stdout",
     "output_type": "stream",
     "text": [
      "pb\n"
     ]
    },
    {
     "name": "stderr",
     "output_type": "stream",
     "text": [
      " 16%|█████████████████████████████▎                                                                                                                                                         | 1605/10000 [13:48<53:32,  2.61it/s]"
     ]
    },
    {
     "name": "stdout",
     "output_type": "stream",
     "text": [
      "pb\n"
     ]
    },
    {
     "name": "stderr",
     "output_type": "stream",
     "text": [
      "\r",
      " 16%|█████████████████████████████▍                                                                                                                                                         | 1607/10000 [13:49<50:49,  2.75it/s]"
     ]
    },
    {
     "name": "stdout",
     "output_type": "stream",
     "text": [
      "pb\n"
     ]
    },
    {
     "name": "stderr",
     "output_type": "stream",
     "text": [
      " 16%|█████████████████████████████▌                                                                                                                                                       | 1633/10000 [14:02<1:14:29,  1.87it/s]"
     ]
    },
    {
     "name": "stdout",
     "output_type": "stream",
     "text": [
      "pb\n"
     ]
    },
    {
     "name": "stderr",
     "output_type": "stream",
     "text": [
      " 16%|█████████████████████████████▊                                                                                                                                                       | 1646/10000 [14:09<1:16:08,  1.83it/s]"
     ]
    },
    {
     "name": "stdout",
     "output_type": "stream",
     "text": [
      "pb\n"
     ]
    },
    {
     "name": "stderr",
     "output_type": "stream",
     "text": [
      " 17%|█████████████████████████████▉                                                                                                                                                       | 1657/10000 [14:15<1:15:39,  1.84it/s]"
     ]
    },
    {
     "name": "stdout",
     "output_type": "stream",
     "text": [
      "pb\n"
     ]
    },
    {
     "name": "stderr",
     "output_type": "stream",
     "text": [
      " 17%|███████████████████████████████▏                                                                                                                                                     | 1726/10000 [14:54<1:13:34,  1.87it/s]"
     ]
    },
    {
     "name": "stdout",
     "output_type": "stream",
     "text": [
      "pb\n"
     ]
    },
    {
     "name": "stderr",
     "output_type": "stream",
     "text": [
      " 18%|███████████████████████████████▉                                                                                                                                                     | 1767/10000 [15:15<1:12:59,  1.88it/s]"
     ]
    },
    {
     "name": "stdout",
     "output_type": "stream",
     "text": [
      "pb\n"
     ]
    },
    {
     "name": "stderr",
     "output_type": "stream",
     "text": [
      " 18%|████████████████████████████████                                                                                                                                                     | 1770/10000 [15:16<1:01:39,  2.22it/s]"
     ]
    },
    {
     "name": "stdout",
     "output_type": "stream",
     "text": [
      "pb\n"
     ]
    },
    {
     "name": "stderr",
     "output_type": "stream",
     "text": [
      " 18%|████████████████████████████████▍                                                                                                                                                      | 1773/10000 [15:17<56:35,  2.42it/s]"
     ]
    },
    {
     "name": "stdout",
     "output_type": "stream",
     "text": [
      "pb\n"
     ]
    },
    {
     "name": "stderr",
     "output_type": "stream",
     "text": [
      " 18%|████████████████████████████████▌                                                                                                                                                      | 1777/10000 [15:18<36:43,  3.73it/s]"
     ]
    },
    {
     "name": "stdout",
     "output_type": "stream",
     "text": [
      "pb\n",
      "pb\n"
     ]
    },
    {
     "name": "stderr",
     "output_type": "stream",
     "text": [
      " 18%|████████████████████████████████▌                                                                                                                                                      | 1781/10000 [15:19<33:53,  4.04it/s]"
     ]
    },
    {
     "name": "stdout",
     "output_type": "stream",
     "text": [
      "pb\n",
      "pb\n"
     ]
    },
    {
     "name": "stderr",
     "output_type": "stream",
     "text": [
      " 18%|████████████████████████████████▋                                                                                                                                                      | 1784/10000 [15:21<55:13,  2.48it/s]"
     ]
    },
    {
     "name": "stdout",
     "output_type": "stream",
     "text": [
      "pb\n"
     ]
    },
    {
     "name": "stderr",
     "output_type": "stream",
     "text": [
      " 18%|████████████████████████████████▊                                                                                                                                                      | 1791/10000 [15:23<41:44,  3.28it/s]"
     ]
    },
    {
     "name": "stdout",
     "output_type": "stream",
     "text": [
      "pb\n",
      "pb\n",
      "pb\n"
     ]
    },
    {
     "name": "stderr",
     "output_type": "stream",
     "text": [
      " 18%|████████████████████████████████▌                                                                                                                                                    | 1798/10000 [15:27<1:04:37,  2.12it/s]"
     ]
    },
    {
     "name": "stdout",
     "output_type": "stream",
     "text": [
      "pb\n"
     ]
    },
    {
     "name": "stderr",
     "output_type": "stream",
     "text": [
      " 18%|████████████████████████████████▌                                                                                                                                                    | 1802/10000 [15:28<1:05:49,  2.08it/s]"
     ]
    },
    {
     "name": "stdout",
     "output_type": "stream",
     "text": [
      "pb\n"
     ]
    },
    {
     "name": "stderr",
     "output_type": "stream",
     "text": [
      " 18%|████████████████████████████████▋                                                                                                                                                    | 1807/10000 [15:31<1:06:44,  2.05it/s]"
     ]
    },
    {
     "name": "stdout",
     "output_type": "stream",
     "text": [
      "pb\n"
     ]
    },
    {
     "name": "stderr",
     "output_type": "stream",
     "text": [
      " 18%|████████████████████████████████▊                                                                                                                                                    | 1810/10000 [15:32<1:01:43,  2.21it/s]"
     ]
    },
    {
     "name": "stdout",
     "output_type": "stream",
     "text": [
      "pb\n"
     ]
    },
    {
     "name": "stderr",
     "output_type": "stream",
     "text": [
      " 19%|██████████████████████████████████▎                                                                                                                                                  | 1895/10000 [16:20<1:20:36,  1.68it/s]"
     ]
    },
    {
     "name": "stdout",
     "output_type": "stream",
     "text": [
      "pb\n"
     ]
    },
    {
     "name": "stderr",
     "output_type": "stream",
     "text": [
      " 19%|██████████████████████████████████▍                                                                                                                                                  | 1906/10000 [16:26<1:17:37,  1.74it/s]"
     ]
    },
    {
     "name": "stdout",
     "output_type": "stream",
     "text": [
      "pb\n"
     ]
    },
    {
     "name": "stderr",
     "output_type": "stream",
     "text": [
      "\r",
      " 19%|██████████████████████████████████▌                                                                                                                                                  | 1908/10000 [16:26<1:01:57,  2.18it/s]"
     ]
    },
    {
     "name": "stdout",
     "output_type": "stream",
     "text": [
      "pb\n"
     ]
    },
    {
     "name": "stderr",
     "output_type": "stream",
     "text": [
      " 19%|██████████████████████████████████▋                                                                                                                                                  | 1915/10000 [16:30<1:09:46,  1.93it/s]"
     ]
    },
    {
     "name": "stdout",
     "output_type": "stream",
     "text": [
      "pb\n"
     ]
    },
    {
     "name": "stderr",
     "output_type": "stream",
     "text": [
      " 19%|██████████████████████████████████▊                                                                                                                                                  | 1920/10000 [16:32<1:05:10,  2.07it/s]"
     ]
    },
    {
     "name": "stdout",
     "output_type": "stream",
     "text": [
      "pb\n"
     ]
    },
    {
     "name": "stderr",
     "output_type": "stream",
     "text": [
      " 19%|██████████████████████████████████▊                                                                                                                                                  | 1924/10000 [16:34<1:04:42,  2.08it/s]"
     ]
    },
    {
     "name": "stdout",
     "output_type": "stream",
     "text": [
      "pb\n"
     ]
    },
    {
     "name": "stderr",
     "output_type": "stream",
     "text": [
      " 19%|███████████████████████████████████▏                                                                                                                                                 | 1945/10000 [16:45<1:15:32,  1.78it/s]"
     ]
    },
    {
     "name": "stdout",
     "output_type": "stream",
     "text": [
      "pb\n"
     ]
    },
    {
     "name": "stderr",
     "output_type": "stream",
     "text": [
      " 19%|███████████████████████████████████▎                                                                                                                                                 | 1949/10000 [16:46<1:07:20,  1.99it/s]"
     ]
    },
    {
     "name": "stdout",
     "output_type": "stream",
     "text": [
      "pb\n"
     ]
    },
    {
     "name": "stderr",
     "output_type": "stream",
     "text": [
      "\r",
      " 20%|███████████████████████████████████▋                                                                                                                                                   | 1951/10000 [16:47<56:18,  2.38it/s]"
     ]
    },
    {
     "name": "stdout",
     "output_type": "stream",
     "text": [
      "pb\n"
     ]
    },
    {
     "name": "stderr",
     "output_type": "stream",
     "text": [
      " 20%|███████████████████████████████████▌                                                                                                                                                 | 1962/10000 [16:53<1:13:35,  1.82it/s]"
     ]
    },
    {
     "name": "stdout",
     "output_type": "stream",
     "text": [
      "pb\n"
     ]
    },
    {
     "name": "stderr",
     "output_type": "stream",
     "text": [
      " 20%|███████████████████████████████████▌                                                                                                                                                 | 1966/10000 [16:55<1:05:14,  2.05it/s]"
     ]
    },
    {
     "name": "stdout",
     "output_type": "stream",
     "text": [
      "pb\n"
     ]
    },
    {
     "name": "stderr",
     "output_type": "stream",
     "text": [
      " 20%|████████████████████████████████████                                                                                                                                                   | 1973/10000 [16:57<42:28,  3.15it/s]"
     ]
    },
    {
     "name": "stdout",
     "output_type": "stream",
     "text": [
      "pb\n",
      "pb\n",
      "pb\n"
     ]
    },
    {
     "name": "stderr",
     "output_type": "stream",
     "text": [
      "\r",
      " 20%|████████████████████████████████████▏                                                                                                                                                  | 1975/10000 [16:58<42:09,  3.17it/s]"
     ]
    },
    {
     "name": "stdout",
     "output_type": "stream",
     "text": [
      "pb\n"
     ]
    },
    {
     "name": "stderr",
     "output_type": "stream",
     "text": [
      " 20%|███████████████████████████████████▊                                                                                                                                                 | 1982/10000 [17:01<1:05:16,  2.05it/s]"
     ]
    },
    {
     "name": "stdout",
     "output_type": "stream",
     "text": [
      "pb\n"
     ]
    },
    {
     "name": "stderr",
     "output_type": "stream",
     "text": [
      " 20%|████████████████████████████████████▎                                                                                                                                                  | 1985/10000 [17:02<59:55,  2.23it/s]"
     ]
    },
    {
     "name": "stdout",
     "output_type": "stream",
     "text": [
      "pb\n"
     ]
    },
    {
     "name": "stderr",
     "output_type": "stream",
     "text": [
      " 20%|████████████████████████████████████▏                                                                                                                                                | 1998/10000 [17:09<1:13:47,  1.81it/s]"
     ]
    },
    {
     "name": "stdout",
     "output_type": "stream",
     "text": [
      "pb\n"
     ]
    },
    {
     "name": "stderr",
     "output_type": "stream",
     "text": [
      " 20%|████████████████████████████████████▎                                                                                                                                                | 2003/10000 [17:11<1:07:22,  1.98it/s]"
     ]
    },
    {
     "name": "stdout",
     "output_type": "stream",
     "text": [
      "pb\n"
     ]
    },
    {
     "name": "stderr",
     "output_type": "stream",
     "text": [
      " 20%|█████████████████████████████████████                                                                                                                                                  | 2026/10000 [17:24<50:29,  2.63it/s]"
     ]
    },
    {
     "name": "stdout",
     "output_type": "stream",
     "text": [
      "pb\n",
      "pb\n"
     ]
    },
    {
     "name": "stderr",
     "output_type": "stream",
     "text": [
      " 20%|█████████████████████████████████████▍                                                                                                                                                 | 2045/10000 [17:34<45:38,  2.90it/s]"
     ]
    },
    {
     "name": "stdout",
     "output_type": "stream",
     "text": [
      "pb\n",
      "pb\n"
     ]
    },
    {
     "name": "stderr",
     "output_type": "stream",
     "text": [
      " 21%|█████████████████████████████████████▍                                                                                                                                               | 2066/10000 [17:46<1:16:10,  1.74it/s]"
     ]
    },
    {
     "name": "stdout",
     "output_type": "stream",
     "text": [
      "pb\n"
     ]
    },
    {
     "name": "stderr",
     "output_type": "stream",
     "text": [
      " 21%|██████████████████████████████████████▎                                                                                                                                                | 2094/10000 [18:02<45:03,  2.92it/s]"
     ]
    },
    {
     "name": "stdout",
     "output_type": "stream",
     "text": [
      "pb\n",
      "pb\n"
     ]
    },
    {
     "name": "stderr",
     "output_type": "stream",
     "text": [
      " 21%|██████████████████████████████████████▏                                                                                                                                              | 2107/10000 [18:09<1:11:52,  1.83it/s]"
     ]
    },
    {
     "name": "stdout",
     "output_type": "stream",
     "text": [
      "pb\n"
     ]
    },
    {
     "name": "stderr",
     "output_type": "stream",
     "text": [
      " 21%|██████████████████████████████████████▊                                                                                                                                                | 2121/10000 [18:16<45:06,  2.91it/s]"
     ]
    },
    {
     "name": "stdout",
     "output_type": "stream",
     "text": [
      "pb\n",
      "pb\n"
     ]
    },
    {
     "name": "stderr",
     "output_type": "stream",
     "text": [
      " 21%|██████████████████████████████████████▍                                                                                                                                              | 2125/10000 [18:18<1:08:27,  1.92it/s]"
     ]
    },
    {
     "name": "stdout",
     "output_type": "stream",
     "text": [
      "pb\n"
     ]
    },
    {
     "name": "stderr",
     "output_type": "stream",
     "text": [
      "\r",
      " 21%|██████████████████████████████████████▉                                                                                                                                                | 2127/10000 [18:19<58:22,  2.25it/s]"
     ]
    },
    {
     "name": "stdout",
     "output_type": "stream",
     "text": [
      "pb\n"
     ]
    },
    {
     "name": "stderr",
     "output_type": "stream",
     "text": [
      "\r",
      " 21%|██████████████████████████████████████▉                                                                                                                                                | 2129/10000 [18:19<54:30,  2.41it/s]"
     ]
    },
    {
     "name": "stdout",
     "output_type": "stream",
     "text": [
      "pb\n"
     ]
    },
    {
     "name": "stderr",
     "output_type": "stream",
     "text": [
      " 22%|███████████████████████████████████████                                                                                                                                              | 2161/10000 [18:38<1:14:36,  1.75it/s]"
     ]
    },
    {
     "name": "stdout",
     "output_type": "stream",
     "text": [
      "pb\n"
     ]
    },
    {
     "name": "stderr",
     "output_type": "stream",
     "text": [
      " 22%|███████████████████████████████████████▌                                                                                                                                               | 2165/10000 [18:39<39:56,  3.27it/s]"
     ]
    },
    {
     "name": "stdout",
     "output_type": "stream",
     "text": [
      "pb\n",
      "pb\n"
     ]
    },
    {
     "name": "stderr",
     "output_type": "stream",
     "text": [
      " 22%|███████████████████████████████████████▎                                                                                                                                             | 2171/10000 [18:42<1:04:37,  2.02it/s]"
     ]
    },
    {
     "name": "stdout",
     "output_type": "stream",
     "text": [
      "pb\n"
     ]
    },
    {
     "name": "stderr",
     "output_type": "stream",
     "text": [
      " 22%|███████████████████████████████████████▉                                                                                                                                             | 2205/10000 [19:00<1:10:17,  1.85it/s]"
     ]
    },
    {
     "name": "stdout",
     "output_type": "stream",
     "text": [
      "pb\n"
     ]
    },
    {
     "name": "stderr",
     "output_type": "stream",
     "text": [
      " 22%|████████████████████████████████████████▏                                                                                                                                            | 2223/10000 [19:09<1:07:20,  1.92it/s]"
     ]
    },
    {
     "name": "stdout",
     "output_type": "stream",
     "text": [
      "pb\n"
     ]
    },
    {
     "name": "stderr",
     "output_type": "stream",
     "text": [
      "\r",
      " 22%|████████████████████████████████████████▋                                                                                                                                              | 2225/10000 [19:10<54:53,  2.36it/s]"
     ]
    },
    {
     "name": "stdout",
     "output_type": "stream",
     "text": [
      "pb\n"
     ]
    },
    {
     "name": "stderr",
     "output_type": "stream",
     "text": [
      " 22%|████████████████████████████████████████▊                                                                                                                                              | 2229/10000 [19:11<58:04,  2.23it/s]"
     ]
    },
    {
     "name": "stdout",
     "output_type": "stream",
     "text": [
      "pb\n"
     ]
    },
    {
     "name": "stderr",
     "output_type": "stream",
     "text": [
      " 23%|████████████████████████████████████████▊                                                                                                                                            | 2253/10000 [19:24<1:09:49,  1.85it/s]"
     ]
    },
    {
     "name": "stdout",
     "output_type": "stream",
     "text": [
      "pb\n"
     ]
    },
    {
     "name": "stderr",
     "output_type": "stream",
     "text": [
      " 23%|████████████████████████████████████████▊                                                                                                                                            | 2257/10000 [19:26<1:07:21,  1.92it/s]"
     ]
    },
    {
     "name": "stdout",
     "output_type": "stream",
     "text": [
      "pb\n"
     ]
    },
    {
     "name": "stderr",
     "output_type": "stream",
     "text": [
      " 23%|█████████████████████████████████████████▍                                                                                                                                             | 2264/10000 [19:28<45:12,  2.85it/s]"
     ]
    },
    {
     "name": "stdout",
     "output_type": "stream",
     "text": [
      "pb\n",
      "pb\n"
     ]
    },
    {
     "name": "stderr",
     "output_type": "stream",
     "text": [
      " 23%|█████████████████████████████████████████▋                                                                                                                                           | 2300/10000 [19:48<1:14:26,  1.72it/s]"
     ]
    },
    {
     "name": "stdout",
     "output_type": "stream",
     "text": [
      "pb\n"
     ]
    },
    {
     "name": "stderr",
     "output_type": "stream",
     "text": [
      " 23%|█████████████████████████████████████████▋                                                                                                                                           | 2306/10000 [19:52<1:21:32,  1.57it/s]"
     ]
    },
    {
     "name": "stdout",
     "output_type": "stream",
     "text": [
      "pb\n"
     ]
    },
    {
     "name": "stderr",
     "output_type": "stream",
     "text": [
      " 23%|█████████████████████████████████████████▉                                                                                                                                           | 2317/10000 [19:58<1:13:56,  1.73it/s]"
     ]
    },
    {
     "name": "stdout",
     "output_type": "stream",
     "text": [
      "pb\n"
     ]
    },
    {
     "name": "stderr",
     "output_type": "stream",
     "text": [
      " 24%|██████████████████████████████████████████▊                                                                                                                                          | 2366/10000 [20:26<1:06:30,  1.91it/s]"
     ]
    },
    {
     "name": "stdout",
     "output_type": "stream",
     "text": [
      "pb\n"
     ]
    },
    {
     "name": "stderr",
     "output_type": "stream",
     "text": [
      " 24%|███████████████████████████████████████████▎                                                                                                                                         | 2396/10000 [20:43<1:13:28,  1.72it/s]"
     ]
    },
    {
     "name": "stdout",
     "output_type": "stream",
     "text": [
      "pb\n"
     ]
    },
    {
     "name": "stderr",
     "output_type": "stream",
     "text": [
      " 24%|███████████████████████████████████████████▍                                                                                                                                         | 2402/10000 [20:46<1:08:10,  1.86it/s]"
     ]
    },
    {
     "name": "stdout",
     "output_type": "stream",
     "text": [
      "pb\n"
     ]
    },
    {
     "name": "stderr",
     "output_type": "stream",
     "text": [
      " 24%|████████████████████████████████████████████                                                                                                                                         | 2432/10000 [21:03<1:16:33,  1.65it/s]"
     ]
    },
    {
     "name": "stdout",
     "output_type": "stream",
     "text": [
      "pb\n"
     ]
    },
    {
     "name": "stderr",
     "output_type": "stream",
     "text": [
      " 25%|████████████████████████████████████████████▍                                                                                                                                        | 2456/10000 [21:17<1:37:10,  1.29it/s]"
     ]
    },
    {
     "name": "stdout",
     "output_type": "stream",
     "text": [
      "pb\n"
     ]
    },
    {
     "name": "stderr",
     "output_type": "stream",
     "text": [
      " 25%|█████████████████████████████████████████████                                                                                                                                          | 2460/10000 [21:18<55:38,  2.26it/s]"
     ]
    },
    {
     "name": "stdout",
     "output_type": "stream",
     "text": [
      "pb\n"
     ]
    },
    {
     "name": "stderr",
     "output_type": "stream",
     "text": [
      " 25%|█████████████████████████████████████████████▎                                                                                                                                         | 2474/10000 [21:25<43:34,  2.88it/s]"
     ]
    },
    {
     "name": "stdout",
     "output_type": "stream",
     "text": [
      "pb\n",
      "pb\n"
     ]
    },
    {
     "name": "stderr",
     "output_type": "stream",
     "text": [
      "\r",
      " 25%|█████████████████████████████████████████████▎                                                                                                                                         | 2475/10000 [21:26<50:46,  2.47it/s]"
     ]
    },
    {
     "name": "stdout",
     "output_type": "stream",
     "text": [
      "pb\n"
     ]
    },
    {
     "name": "stderr",
     "output_type": "stream",
     "text": [
      " 25%|█████████████████████████████████████████████▎                                                                                                                                         | 2479/10000 [21:27<45:31,  2.75it/s]"
     ]
    },
    {
     "name": "stdout",
     "output_type": "stream",
     "text": [
      "pb\n"
     ]
    },
    {
     "name": "stderr",
     "output_type": "stream",
     "text": [
      " 25%|█████████████████████████████████████████████▊                                                                                                                                       | 2530/10000 [21:57<1:18:45,  1.58it/s]"
     ]
    },
    {
     "name": "stdout",
     "output_type": "stream",
     "text": [
      "pb\n"
     ]
    },
    {
     "name": "stderr",
     "output_type": "stream",
     "text": [
      " 25%|██████████████████████████████████████████████▍                                                                                                                                        | 2536/10000 [22:00<59:20,  2.10it/s]"
     ]
    },
    {
     "name": "stdout",
     "output_type": "stream",
     "text": [
      "pb\n"
     ]
    },
    {
     "name": "stderr",
     "output_type": "stream",
     "text": [
      " 26%|██████████████████████████████████████████████▍                                                                                                                                      | 2568/10000 [22:20<1:25:54,  1.44it/s]"
     ]
    },
    {
     "name": "stdout",
     "output_type": "stream",
     "text": [
      "pb\n"
     ]
    },
    {
     "name": "stderr",
     "output_type": "stream",
     "text": [
      " 26%|██████████████████████████████████████████████▋                                                                                                                                      | 2576/10000 [22:26<1:35:38,  1.29it/s]"
     ]
    },
    {
     "name": "stdout",
     "output_type": "stream",
     "text": [
      "pb\n"
     ]
    },
    {
     "name": "stderr",
     "output_type": "stream",
     "text": [
      " 26%|██████████████████████████████████████████████▋                                                                                                                                      | 2579/10000 [22:28<1:19:19,  1.56it/s]"
     ]
    },
    {
     "name": "stdout",
     "output_type": "stream",
     "text": [
      "pb\n"
     ]
    },
    {
     "name": "stderr",
     "output_type": "stream",
     "text": [
      " 26%|███████████████████████████████████████████████▎                                                                                                                                     | 2611/10000 [22:46<1:07:30,  1.82it/s]"
     ]
    },
    {
     "name": "stdout",
     "output_type": "stream",
     "text": [
      "pb\n"
     ]
    },
    {
     "name": "stderr",
     "output_type": "stream",
     "text": [
      " 26%|███████████████████████████████████████████████▊                                                                                                                                       | 2615/10000 [22:47<45:34,  2.70it/s]"
     ]
    },
    {
     "name": "stdout",
     "output_type": "stream",
     "text": [
      "pb\n"
     ]
    },
    {
     "name": "stderr",
     "output_type": "stream",
     "text": [
      " 26%|███████████████████████████████████████████████▋                                                                                                                                     | 2634/10000 [22:58<1:10:17,  1.75it/s]"
     ]
    },
    {
     "name": "stdout",
     "output_type": "stream",
     "text": [
      "pb\n"
     ]
    },
    {
     "name": "stderr",
     "output_type": "stream",
     "text": [
      " 26%|███████████████████████████████████████████████▊                                                                                                                                     | 2645/10000 [23:04<1:10:15,  1.74it/s]"
     ]
    },
    {
     "name": "stdout",
     "output_type": "stream",
     "text": [
      "pb\n"
     ]
    },
    {
     "name": "stderr",
     "output_type": "stream",
     "text": [
      " 27%|████████████████████████████████████████████████▎                                                                                                                                    | 2670/10000 [23:20<1:05:44,  1.86it/s]"
     ]
    },
    {
     "name": "stdout",
     "output_type": "stream",
     "text": [
      "pb\n"
     ]
    },
    {
     "name": "stderr",
     "output_type": "stream",
     "text": [
      " 27%|████████████████████████████████████████████████▊                                                                                                                                    | 2694/10000 [23:37<1:05:59,  1.84it/s]"
     ]
    },
    {
     "name": "stdout",
     "output_type": "stream",
     "text": [
      "pb\n"
     ]
    },
    {
     "name": "stderr",
     "output_type": "stream",
     "text": [
      " 28%|█████████████████████████████████████████████████▉                                                                                                                                   | 2761/10000 [24:24<1:19:30,  1.52it/s]"
     ]
    },
    {
     "name": "stdout",
     "output_type": "stream",
     "text": [
      "pb\n"
     ]
    },
    {
     "name": "stderr",
     "output_type": "stream",
     "text": [
      "\r",
      " 28%|██████████████████████████████████████████████████                                                                                                                                   | 2763/10000 [24:25<1:03:45,  1.89it/s]"
     ]
    },
    {
     "name": "stdout",
     "output_type": "stream",
     "text": [
      "pb\n"
     ]
    },
    {
     "name": "stderr",
     "output_type": "stream",
     "text": [
      "\r",
      " 28%|██████████████████████████████████████████████████▌                                                                                                                                    | 2765/10000 [24:26<56:02,  2.15it/s]"
     ]
    },
    {
     "name": "stdout",
     "output_type": "stream",
     "text": [
      "pb\n"
     ]
    },
    {
     "name": "stderr",
     "output_type": "stream",
     "text": [
      " 28%|██████████████████████████████████████████████████▍                                                                                                                                  | 2786/10000 [24:39<1:22:51,  1.45it/s]"
     ]
    },
    {
     "name": "stdout",
     "output_type": "stream",
     "text": [
      "pb\n"
     ]
    },
    {
     "name": "stderr",
     "output_type": "stream",
     "text": [
      " 28%|██████████████████████████████████████████████████▌                                                                                                                                  | 2793/10000 [24:43<1:17:27,  1.55it/s]"
     ]
    },
    {
     "name": "stdout",
     "output_type": "stream",
     "text": [
      "pb\n"
     ]
    },
    {
     "name": "stderr",
     "output_type": "stream",
     "text": [
      " 28%|███████████████████████████████████████████████████▌                                                                                                                                   | 2816/10000 [24:57<47:41,  2.51it/s]"
     ]
    },
    {
     "name": "stdout",
     "output_type": "stream",
     "text": [
      "pb\n",
      "pb\n"
     ]
    },
    {
     "name": "stderr",
     "output_type": "stream",
     "text": [
      " 28%|███████████████████████████████████████████████████▌                                                                                                                                   | 2818/10000 [24:57<45:26,  2.63it/s]"
     ]
    },
    {
     "name": "stdout",
     "output_type": "stream",
     "text": [
      "pb\n"
     ]
    },
    {
     "name": "stderr",
     "output_type": "stream",
     "text": [
      " 28%|███████████████████████████████████████████████████                                                                                                                                  | 2820/10000 [24:59<1:02:17,  1.92it/s]"
     ]
    },
    {
     "name": "stdout",
     "output_type": "stream",
     "text": [
      "pb\n"
     ]
    },
    {
     "name": "stderr",
     "output_type": "stream",
     "text": [
      " 28%|███████████████████████████████████████████████████▋                                                                                                                                   | 2824/10000 [25:00<48:54,  2.45it/s]"
     ]
    },
    {
     "name": "stdout",
     "output_type": "stream",
     "text": [
      "pb\n"
     ]
    },
    {
     "name": "stderr",
     "output_type": "stream",
     "text": [
      " 28%|███████████████████████████████████████████████████▌                                                                                                                                 | 2850/10000 [25:18<1:16:31,  1.56it/s]"
     ]
    },
    {
     "name": "stdout",
     "output_type": "stream",
     "text": [
      "pb\n"
     ]
    },
    {
     "name": "stderr",
     "output_type": "stream",
     "text": [
      " 29%|█████████████████████████████████████████████████████                                                                                                                                  | 2898/10000 [25:50<40:51,  2.90it/s]"
     ]
    },
    {
     "name": "stdout",
     "output_type": "stream",
     "text": [
      "pb\n",
      "pb\n",
      "pb\n"
     ]
    },
    {
     "name": "stderr",
     "output_type": "stream",
     "text": [
      " 29%|████████████████████████████████████████████████████▊                                                                                                                                | 2915/10000 [26:02<1:02:48,  1.88it/s]"
     ]
    },
    {
     "name": "stdout",
     "output_type": "stream",
     "text": [
      "pb\n"
     ]
    },
    {
     "name": "stderr",
     "output_type": "stream",
     "text": [
      " 29%|█████████████████████████████████████████████████████                                                                                                                                | 2933/10000 [26:15<1:01:00,  1.93it/s]"
     ]
    },
    {
     "name": "stdout",
     "output_type": "stream",
     "text": [
      "pb\n"
     ]
    },
    {
     "name": "stderr",
     "output_type": "stream",
     "text": [
      " 29%|█████████████████████████████████████████████████████▎                                                                                                                               | 2946/10000 [26:24<1:25:41,  1.37it/s]"
     ]
    },
    {
     "name": "stdout",
     "output_type": "stream",
     "text": [
      "pb\n"
     ]
    },
    {
     "name": "stderr",
     "output_type": "stream",
     "text": [
      " 30%|██████████████████████████████████████████████████████▉                                                                                                                              | 3032/10000 [27:24<1:03:06,  1.84it/s]"
     ]
    },
    {
     "name": "stdout",
     "output_type": "stream",
     "text": [
      "pb\n"
     ]
    },
    {
     "name": "stderr",
     "output_type": "stream",
     "text": [
      " 30%|███████████████████████████████████████████████████████                                                                                                                              | 3042/10000 [27:30<1:12:17,  1.60it/s]"
     ]
    },
    {
     "name": "stdout",
     "output_type": "stream",
     "text": [
      "pb\n"
     ]
    },
    {
     "name": "stderr",
     "output_type": "stream",
     "text": [
      " 30%|███████████████████████████████████████████████████████▏                                                                                                                             | 3047/10000 [27:33<1:06:36,  1.74it/s]"
     ]
    },
    {
     "name": "stdout",
     "output_type": "stream",
     "text": [
      "pb\n"
     ]
    },
    {
     "name": "stderr",
     "output_type": "stream",
     "text": [
      " 30%|███████████████████████████████████████████████████████▊                                                                                                                               | 3050/10000 [27:34<59:42,  1.94it/s]"
     ]
    },
    {
     "name": "stdout",
     "output_type": "stream",
     "text": [
      "pb\n"
     ]
    },
    {
     "name": "stderr",
     "output_type": "stream",
     "text": [
      "\r",
      " 31%|███████████████████████████████████████████████████████▊                                                                                                                               | 3052/10000 [27:35<52:05,  2.22it/s]"
     ]
    },
    {
     "name": "stdout",
     "output_type": "stream",
     "text": [
      "pb\n"
     ]
    },
    {
     "name": "stderr",
     "output_type": "stream",
     "text": [
      " 31%|███████████████████████████████████████████████████████▍                                                                                                                             | 3060/10000 [27:39<1:08:32,  1.69it/s]"
     ]
    },
    {
     "name": "stdout",
     "output_type": "stream",
     "text": [
      "pb\n"
     ]
    },
    {
     "name": "stderr",
     "output_type": "stream",
     "text": [
      " 31%|███████████████████████████████████████████████████████▍                                                                                                                             | 3065/10000 [27:42<1:06:08,  1.75it/s]"
     ]
    },
    {
     "name": "stdout",
     "output_type": "stream",
     "text": [
      "pb\n"
     ]
    },
    {
     "name": "stderr",
     "output_type": "stream",
     "text": [
      " 31%|████████████████████████████████████████████████████████▌                                                                                                                            | 3127/10000 [28:22<1:12:54,  1.57it/s]"
     ]
    },
    {
     "name": "stdout",
     "output_type": "stream",
     "text": [
      "pb\n"
     ]
    },
    {
     "name": "stderr",
     "output_type": "stream",
     "text": [
      " 31%|█████████████████████████████████████████████████████████▍                                                                                                                             | 3137/10000 [28:27<44:50,  2.55it/s]"
     ]
    },
    {
     "name": "stdout",
     "output_type": "stream",
     "text": [
      "pb\n",
      "pb\n"
     ]
    },
    {
     "name": "stderr",
     "output_type": "stream",
     "text": [
      " 31%|█████████████████████████████████████████████████████████▍                                                                                                                             | 3141/10000 [28:29<38:16,  2.99it/s]"
     ]
    },
    {
     "name": "stdout",
     "output_type": "stream",
     "text": [
      "pb\n",
      "pb\n"
     ]
    },
    {
     "name": "stderr",
     "output_type": "stream",
     "text": [
      " 32%|█████████████████████████████████████████████████████████                                                                                                                            | 3156/10000 [28:39<1:01:26,  1.86it/s]"
     ]
    },
    {
     "name": "stdout",
     "output_type": "stream",
     "text": [
      "pb\n"
     ]
    },
    {
     "name": "stderr",
     "output_type": "stream",
     "text": [
      " 32%|█████████████████████████████████████████████████████████▋                                                                                                                           | 3184/10000 [28:59<1:15:44,  1.50it/s]"
     ]
    },
    {
     "name": "stdout",
     "output_type": "stream",
     "text": [
      "pb\n"
     ]
    },
    {
     "name": "stderr",
     "output_type": "stream",
     "text": [
      " 32%|█████████████████████████████████████████████████████████▋                                                                                                                           | 3190/10000 [29:03<1:11:50,  1.58it/s]"
     ]
    },
    {
     "name": "stdout",
     "output_type": "stream",
     "text": [
      "pb\n"
     ]
    },
    {
     "name": "stderr",
     "output_type": "stream",
     "text": [
      " 32%|██████████████████████████████████████████████████████████▎                                                                                                                          | 3219/10000 [29:30<1:11:59,  1.57it/s]"
     ]
    },
    {
     "name": "stdout",
     "output_type": "stream",
     "text": [
      "pb\n"
     ]
    },
    {
     "name": "stderr",
     "output_type": "stream",
     "text": [
      " 32%|███████████████████████████████████████████████████████████▍                                                                                                                           | 3249/10000 [29:52<55:45,  2.02it/s]"
     ]
    },
    {
     "name": "stdout",
     "output_type": "stream",
     "text": [
      "pb\n"
     ]
    },
    {
     "name": "stderr",
     "output_type": "stream",
     "text": [
      " 33%|██████████████████████████████████████████████████████████▉                                                                                                                          | 3257/10000 [29:57<1:13:15,  1.53it/s]"
     ]
    },
    {
     "name": "stdout",
     "output_type": "stream",
     "text": [
      "pb\n"
     ]
    },
    {
     "name": "stderr",
     "output_type": "stream",
     "text": [
      " 33%|████████████████████████████████████████████████████████████                                                                                                                           | 3283/10000 [30:13<43:24,  2.58it/s]"
     ]
    },
    {
     "name": "stdout",
     "output_type": "stream",
     "text": [
      "pb\n",
      "pb\n"
     ]
    },
    {
     "name": "stderr",
     "output_type": "stream",
     "text": [
      "\r",
      " 33%|████████████████████████████████████████████████████████████                                                                                                                           | 3284/10000 [30:13<34:47,  3.22it/s]"
     ]
    },
    {
     "name": "stdout",
     "output_type": "stream",
     "text": [
      "pb\n"
     ]
    },
    {
     "name": "stderr",
     "output_type": "stream",
     "text": [
      " 33%|████████████████████████████████████████████████████████████▏                                                                                                                          | 3287/10000 [30:15<41:57,  2.67it/s]"
     ]
    },
    {
     "name": "stdout",
     "output_type": "stream",
     "text": [
      "pb\n"
     ]
    },
    {
     "name": "stderr",
     "output_type": "stream",
     "text": [
      " 33%|████████████████████████████████████████████████████████████▏                                                                                                                          | 3292/10000 [30:17<40:14,  2.78it/s]"
     ]
    },
    {
     "name": "stdout",
     "output_type": "stream",
     "text": [
      "pb\n",
      "pb\n"
     ]
    },
    {
     "name": "stderr",
     "output_type": "stream",
     "text": [
      " 33%|████████████████████████████████████████████████████████████▎                                                                                                                          | 3295/10000 [30:19<49:07,  2.27it/s]"
     ]
    },
    {
     "name": "stdout",
     "output_type": "stream",
     "text": [
      "pb\n"
     ]
    },
    {
     "name": "stderr",
     "output_type": "stream",
     "text": [
      " 33%|████████████████████████████████████████████████████████████▌                                                                                                                          | 3308/10000 [30:27<55:18,  2.02it/s]"
     ]
    },
    {
     "name": "stdout",
     "output_type": "stream",
     "text": [
      "pb\n"
     ]
    },
    {
     "name": "stderr",
     "output_type": "stream",
     "text": [
      " 33%|████████████████████████████████████████████████████████████▌                                                                                                                          | 3310/10000 [30:28<46:25,  2.40it/s]"
     ]
    },
    {
     "name": "stdout",
     "output_type": "stream",
     "text": [
      "pb\n"
     ]
    },
    {
     "name": "stderr",
     "output_type": "stream",
     "text": [
      " 34%|█████████████████████████████████████████████████████████████                                                                                                                        | 3374/10000 [31:09<1:11:42,  1.54it/s]"
     ]
    },
    {
     "name": "stdout",
     "output_type": "stream",
     "text": [
      "pb\n"
     ]
    },
    {
     "name": "stderr",
     "output_type": "stream",
     "text": [
      " 34%|██████████████████████████████████████████████████████████████▍                                                                                                                        | 3412/10000 [31:34<53:00,  2.07it/s]"
     ]
    },
    {
     "name": "stdout",
     "output_type": "stream",
     "text": [
      "pb\n"
     ]
    },
    {
     "name": "stderr",
     "output_type": "stream",
     "text": [
      " 35%|███████████████████████████████████████████████████████████████                                                                                                                      | 3487/10000 [32:30<1:09:18,  1.57it/s]"
     ]
    },
    {
     "name": "stdout",
     "output_type": "stream",
     "text": [
      "pb\n"
     ]
    },
    {
     "name": "stderr",
     "output_type": "stream",
     "text": [
      " 35%|███████████████████████████████████████████████████████████████▋                                                                                                                     | 3518/10000 [32:49<1:14:41,  1.45it/s]"
     ]
    },
    {
     "name": "stdout",
     "output_type": "stream",
     "text": [
      "pb\n"
     ]
    },
    {
     "name": "stderr",
     "output_type": "stream",
     "text": [
      " 35%|███████████████████████████████████████████████████████████████▊                                                                                                                     | 3526/10000 [32:54<1:07:46,  1.59it/s]"
     ]
    },
    {
     "name": "stdout",
     "output_type": "stream",
     "text": [
      "pb\n"
     ]
    },
    {
     "name": "stderr",
     "output_type": "stream",
     "text": [
      " 35%|███████████████████████████████████████████████████████████████▉                                                                                                                     | 3530/10000 [32:56<1:00:33,  1.78it/s]"
     ]
    },
    {
     "name": "stdout",
     "output_type": "stream",
     "text": [
      "pb\n"
     ]
    },
    {
     "name": "stderr",
     "output_type": "stream",
     "text": [
      " 36%|████████████████████████████████████████████████████████████████▊                                                                                                                    | 3578/10000 [33:27<1:07:52,  1.58it/s]"
     ]
    },
    {
     "name": "stdout",
     "output_type": "stream",
     "text": [
      "pb\n"
     ]
    },
    {
     "name": "stderr",
     "output_type": "stream",
     "text": [
      " 36%|█████████████████████████████████████████████████████████████████▊                                                                                                                     | 3593/10000 [33:36<53:57,  1.98it/s]"
     ]
    },
    {
     "name": "stdout",
     "output_type": "stream",
     "text": [
      "pb\n"
     ]
    },
    {
     "name": "stderr",
     "output_type": "stream",
     "text": [
      " 36%|█████████████████████████████████████████████████████████████████▊                                                                                                                     | 3596/10000 [33:37<36:12,  2.95it/s]"
     ]
    },
    {
     "name": "stdout",
     "output_type": "stream",
     "text": [
      "pb\n",
      "pb\n"
     ]
    },
    {
     "name": "stderr",
     "output_type": "stream",
     "text": [
      " 36%|█████████████████████████████████████████████████████████████████▉                                                                                                                     | 3601/10000 [33:39<35:59,  2.96it/s]"
     ]
    },
    {
     "name": "stdout",
     "output_type": "stream",
     "text": [
      "pb\n",
      "pb\n"
     ]
    },
    {
     "name": "stderr",
     "output_type": "stream",
     "text": [
      " 36%|█████████████████████████████████████████████████████████████████▍                                                                                                                   | 3613/10000 [33:47<1:12:49,  1.46it/s]"
     ]
    },
    {
     "name": "stdout",
     "output_type": "stream",
     "text": [
      "pb\n"
     ]
    },
    {
     "name": "stderr",
     "output_type": "stream",
     "text": [
      " 36%|█████████████████████████████████████████████████████████████████▋                                                                                                                   | 3627/10000 [33:57<1:05:26,  1.62it/s]"
     ]
    },
    {
     "name": "stdout",
     "output_type": "stream",
     "text": [
      "pb\n"
     ]
    },
    {
     "name": "stderr",
     "output_type": "stream",
     "text": [
      " 36%|██████████████████████████████████████████████████████████████████▍                                                                                                                    | 3629/10000 [33:58<51:30,  2.06it/s]"
     ]
    },
    {
     "name": "stdout",
     "output_type": "stream",
     "text": [
      "pb\n"
     ]
    },
    {
     "name": "stderr",
     "output_type": "stream",
     "text": [
      " 37%|██████████████████████████████████████████████████████████████████                                                                                                                   | 3652/10000 [34:15<1:10:13,  1.51it/s]"
     ]
    },
    {
     "name": "stdout",
     "output_type": "stream",
     "text": [
      "pb\n"
     ]
    },
    {
     "name": "stderr",
     "output_type": "stream",
     "text": [
      " 37%|██████████████████████████████████████████████████████████████████▉                                                                                                                    | 3655/10000 [34:16<45:57,  2.30it/s]"
     ]
    },
    {
     "name": "stdout",
     "output_type": "stream",
     "text": [
      "pb\n"
     ]
    },
    {
     "name": "stderr",
     "output_type": "stream",
     "text": [
      " 37%|██████████████████████████████████████████████████████████████████▉                                                                                                                    | 3661/10000 [34:18<32:59,  3.20it/s]"
     ]
    },
    {
     "name": "stdout",
     "output_type": "stream",
     "text": [
      "pb\n",
      "pb\n",
      "pb\n"
     ]
    },
    {
     "name": "stderr",
     "output_type": "stream",
     "text": [
      " 37%|██████████████████████████████████████████████████████████████████▌                                                                                                                  | 3676/10000 [34:30<1:01:31,  1.71it/s]"
     ]
    },
    {
     "name": "stdout",
     "output_type": "stream",
     "text": [
      "pb\n"
     ]
    },
    {
     "name": "stderr",
     "output_type": "stream",
     "text": [
      " 37%|███████████████████████████████████████████████████████████████████▊                                                                                                                   | 3709/10000 [34:54<57:55,  1.81it/s]"
     ]
    },
    {
     "name": "stdout",
     "output_type": "stream",
     "text": [
      "pb\n"
     ]
    },
    {
     "name": "stderr",
     "output_type": "stream",
     "text": [
      " 37%|███████████████████████████████████████████████████████████████████▉                                                                                                                   | 3711/10000 [34:55<47:45,  2.19it/s]"
     ]
    },
    {
     "name": "stdout",
     "output_type": "stream",
     "text": [
      "pb\n"
     ]
    },
    {
     "name": "stderr",
     "output_type": "stream",
     "text": [
      " 37%|███████████████████████████████████████████████████████████████████▉                                                                                                                   | 3714/10000 [34:55<32:32,  3.22it/s]"
     ]
    },
    {
     "name": "stdout",
     "output_type": "stream",
     "text": [
      "pb\n",
      "pb\n"
     ]
    },
    {
     "name": "stderr",
     "output_type": "stream",
     "text": [
      " 37%|████████████████████████████████████████████████████████████████████▎                                                                                                                  | 3736/10000 [35:09<49:10,  2.12it/s]"
     ]
    },
    {
     "name": "stdout",
     "output_type": "stream",
     "text": [
      "pb\n"
     ]
    },
    {
     "name": "stderr",
     "output_type": "stream",
     "text": [
      " 37%|███████████████████████████████████████████████████████████████████▊                                                                                                                 | 3747/10000 [35:16<1:03:42,  1.64it/s]"
     ]
    },
    {
     "name": "stdout",
     "output_type": "stream",
     "text": [
      "pb\n"
     ]
    },
    {
     "name": "stderr",
     "output_type": "stream",
     "text": [
      " 38%|████████████████████████████████████████████████████████████████████▋                                                                                                                  | 3750/10000 [35:17<42:09,  2.47it/s]"
     ]
    },
    {
     "name": "stdout",
     "output_type": "stream",
     "text": [
      "pb\n"
     ]
    },
    {
     "name": "stderr",
     "output_type": "stream",
     "text": [
      " 38%|████████████████████████████████████████████████████████████████████▉                                                                                                                  | 3767/10000 [35:27<57:34,  1.80it/s]"
     ]
    },
    {
     "name": "stdout",
     "output_type": "stream",
     "text": [
      "pb\n"
     ]
    },
    {
     "name": "stderr",
     "output_type": "stream",
     "text": [
      " 38%|█████████████████████████████████████████████████████████████████████                                                                                                                  | 3773/10000 [35:29<43:06,  2.41it/s]"
     ]
    },
    {
     "name": "stdout",
     "output_type": "stream",
     "text": [
      "pb\n"
     ]
    },
    {
     "name": "stderr",
     "output_type": "stream",
     "text": [
      " 38%|█████████████████████████████████████████████████████████████████████▍                                                                                                                 | 3791/10000 [35:40<51:30,  2.01it/s]"
     ]
    },
    {
     "name": "stdout",
     "output_type": "stream",
     "text": [
      "pb\n"
     ]
    },
    {
     "name": "stderr",
     "output_type": "stream",
     "text": [
      " 38%|████████████████████████████████████████████████████████████████████▊                                                                                                                | 3799/10000 [35:46<1:20:47,  1.28it/s]"
     ]
    }
   ],
   "source": [
    "gb = new_new_gibbs.GibbsSampler(X_depts, y_depts, time_vecs, n_iter=10000, burn=1000, bandwidth_start=20, tau_sq_1_start=200, f_start=-5, sigmas_start=25, sigmas_proposal=[1,2])\n",
    "gb.fit()\n",
    "with open(f'traces1.pickle', 'wb') as handle:\n",
    "    pickle.dump(gb.traces, handle, protocol=pickle.HIGHEST_PROTOCOL)\n",
    "        "
   ]
  },
  {
   "cell_type": "code",
   "execution_count": null,
   "id": "253d487d",
   "metadata": {},
   "outputs": [],
   "source": [
    "plt.plot(gb.traces['bandwidths']);"
   ]
  },
  {
   "cell_type": "code",
   "execution_count": null,
   "id": "d9f95436",
   "metadata": {},
   "outputs": [],
   "source": [
    "plt.plot(gb.traces['accept'].mean(axis=0))"
   ]
  },
  {
   "cell_type": "code",
   "execution_count": null,
   "id": "da01ec76",
   "metadata": {},
   "outputs": [],
   "source": [
    "plt.plot(gb.traces['f'][0].T);"
   ]
  },
  {
   "cell_type": "code",
   "execution_count": null,
   "id": "c7870092",
   "metadata": {},
   "outputs": [],
   "source": [
    "from scipy.stats import uniform\n",
    "uniform(0,1).logpdf(5)"
   ]
  },
  {
   "cell_type": "code",
   "execution_count": null,
   "id": "dda941be",
   "metadata": {},
   "outputs": [],
   "source": [
    "gb.sigmas_squared"
   ]
  },
  {
   "cell_type": "code",
   "execution_count": null,
   "id": "85c72fcc",
   "metadata": {},
   "outputs": [],
   "source": [
    "plt.plot(gb.f[3])"
   ]
  },
  {
   "cell_type": "code",
   "execution_count": null,
   "id": "4232b22c",
   "metadata": {},
   "outputs": [],
   "source": [
    "plt.plot(gb.sigmas_squared)"
   ]
  },
  {
   "cell_type": "code",
   "execution_count": null,
   "id": "e144e262",
   "metadata": {},
   "outputs": [],
   "source": [
    "plt.plot(gb.bandwidths)"
   ]
  },
  {
   "cell_type": "code",
   "execution_count": null,
   "id": "1bacda1b",
   "metadata": {},
   "outputs": [],
   "source": [
    "import pickle\n",
    "with open('../python_code/traces11.pickle', 'rb') as handle:\n",
    "    traces1 = pickle.load(handle)\n",
    "with open('../python_code/traces22.pickle', 'rb') as handle:\n",
    "    traces2 = pickle.load(handle)\n",
    "#with open('../python_code/traces3.pickle', 'rb') as handle:\n",
    "   # traces3 = pickle.load(handle)\n",
    "## open('traces3.pickle', 'rb') as handle:\n",
    " #   traces4 = pickle.load(handle)"
   ]
  },
  {
   "cell_type": "code",
   "execution_count": null,
   "id": "dbb197e2",
   "metadata": {},
   "outputs": [],
   "source": [
    "#n=\n",
    "word = 'tau_sq_1s'\n",
    "plt.plot(traces1[word][:,10]);\n",
    "plt.plot(traces2[word][:,n]);\n",
    "#plt.plot(traces3[word][:,n]);\n",
    "#plt.plot(traces4[word][:,n]);\n",
    "#plt.ylim(0,400)"
   ]
  },
  {
   "cell_type": "code",
   "execution_count": null,
   "id": "662e8e8a",
   "metadata": {},
   "outputs": [],
   "source": [
    "plt.plot(traces1['betas'][:,0,7]);\n",
    "#plt.plot(traces2['betas'][:,0,41]);\n",
    "\n"
   ]
  },
  {
   "cell_type": "code",
   "execution_count": null,
   "id": "6d4713cf",
   "metadata": {},
   "outputs": [],
   "source": [
    "plt.plot(traces1['accept_bandwidth'].mean(axis=0))"
   ]
  },
  {
   "cell_type": "code",
   "execution_count": null,
   "id": "044b8083",
   "metadata": {},
   "outputs": [],
   "source": [
    "all_traces = [traces1, traces2, traces3, traces4]\n",
    "bandwidths_init = traces2['bandwidths'][-1, :] \n",
    "tau_sq_init = traces2['tau_sq_1s'][-1, :]"
   ]
  },
  {
   "cell_type": "code",
   "execution_count": null,
   "id": "a0b17b6e",
   "metadata": {},
   "outputs": [],
   "source": [
    "#plt.plot(traces2['sigmas_squared'][:,5]);\n",
    "plt.plot(traces3['sigmas_squared'][:,5]);\n",
    "\n",
    "#plt.plot(traces2['betas'][:,2,10]);\n",
    "#plt.plot(traces3['betas'][:,2,10]);\n",
    "#plt.plot(traces4['betas'][:,2,10]);\n",
    "\n",
    "\n",
    "\n",
    "#plt.xlim(2000, 7000)\n",
    "#plt.ylim(-.1,0.1)\n"
   ]
  },
  {
   "cell_type": "code",
   "execution_count": null,
   "id": "c74c4dd5",
   "metadata": {},
   "outputs": [],
   "source": [
    "import pickle\n",
    "for i in range(4):\n",
    "    gb = new_gibbs.GibbsSampler(X_depts, y_depts, time_vecs, n_iter=10000, burn=0, bandwidth_start=bandwidths_init, tau_sq_1_start=tau_sq_init, f_start=5)\n",
    "    gb.fit()\n",
    "    with open(f'traces{i}.pickle', 'wb') as handle:\n",
    "        pickle.dump(gb.traces, handle, protocol=pickle.HIGHEST_PROTOCOL)"
   ]
  },
  {
   "cell_type": "code",
   "execution_count": null,
   "id": "13fdc2de",
   "metadata": {},
   "outputs": [],
   "source": []
  },
  {
   "cell_type": "code",
   "execution_count": null,
   "id": "7588a2b2",
   "metadata": {
    "scrolled": true
   },
   "outputs": [],
   "source": [
    "plt.plot(gb.accept_bandwidth.mean(axis=0))\n",
    "plt.plot(gb.accept_tau.mean(axis=0))"
   ]
  },
  {
   "cell_type": "code",
   "execution_count": null,
   "id": "00d996e3",
   "metadata": {},
   "outputs": [],
   "source": [
    "plt.plot(gb.traces['bandwidths'][:,18], alpha=.7);"
   ]
  },
  {
   "cell_type": "code",
   "execution_count": null,
   "id": "77561002",
   "metadata": {},
   "outputs": [],
   "source": [
    "n_groups = 42"
   ]
  },
  {
   "cell_type": "code",
   "execution_count": null,
   "id": "b40420cb",
   "metadata": {},
   "outputs": [],
   "source": [
    "all_traces = [traces1, traces2, traces3, traces4]\n"
   ]
  },
  {
   "cell_type": "code",
   "execution_count": null,
   "id": "879a9fc2",
   "metadata": {},
   "outputs": [],
   "source": [
    "def get_means(traces, n_groups):\n",
    "    f = [pd.DataFrame(traces['f'][n][5000:]).dropna(axis=1).mean(axis=1).to_numpy() for n in range(n_groups)]\n",
    "    betas = np.nanmean(traces['betas'][5000:], axis=0)\n",
    "    mu = np.nanmean(traces['mu'][5000:], axis=0)\n",
    "    return f, betas, mu\n",
    "    "
   ]
  },
  {
   "cell_type": "markdown",
   "id": "48e0da13",
   "metadata": {},
   "source": [
    "f1, betas1, mu1 = get_means(traces1, n_groups)\n",
    "f2, betas2, mu2 = get_means(traces2, n_groups)\n",
    "f3, betas3, mu3 = get_means(traces3, n_groups)\n",
    "f4, betas4, mu4 = get_means(traces4, n_groups)"
   ]
  },
  {
   "cell_type": "code",
   "execution_count": null,
   "id": "9649efeb",
   "metadata": {},
   "outputs": [],
   "source": [
    "traces2['taus'][2,:]"
   ]
  },
  {
   "cell_type": "code",
   "execution_count": null,
   "id": "91ce1387",
   "metadata": {},
   "outputs": [],
   "source": [
    "(traces4['bandwidths'] > 150).sum()"
   ]
  },
  {
   "cell_type": "code",
   "execution_count": null,
   "id": "2c7cbd88",
   "metadata": {},
   "outputs": [],
   "source": [
    "#plt.plot(traces1['sigmas_squared'][:,15], alpha=.7);\n",
    "plt.plot(traces2['bandwidths'][:,10], alpha=.7);\n",
    "plt.plot(traces3['bandwidths'][:,10], alpha=.7);\n",
    "plt.plot(traces1['bandwidths'][:,10], alpha=.7);\n",
    "plt.plot(traces4['bandwidths'][:,10], alpha=.7);\n",
    "#plt.plot(traces4['sigmas_squared'][:,15], alpha=.7);\n",
    "#plt.ylim(0,500);"
   ]
  },
  {
   "cell_type": "code",
   "execution_count": null,
   "id": "b67847a0",
   "metadata": {},
   "outputs": [],
   "source": [
    "## plt.plot(traces1['mu'][:,2]);\n",
    "plt.plot(traces2['mu'][:,2]);\n",
    "plt.plot(traces3['mu'][:,2]);\n",
    "plt.plot(traces4['mu'][:,2]);"
   ]
  },
  {
   "cell_type": "code",
   "execution_count": null,
   "id": "a2572d55",
   "metadata": {},
   "outputs": [],
   "source": [
    "def calculate_gelman_rubin_stat(four_traces):\n",
    "    L = len(four_traces[0])\n",
    "    J = 4\n",
    "    chain_means = [np.nanmean(trace) for trace in four_traces]\n",
    "    grand_mean = np.mean(chain_means)\n",
    "    B = L*np.var(chain_means, ddof=1)\n",
    "    within_var = [np.nanvar(trace, ddof=1) for trace in four_traces]\n",
    "    W = np.mean(within_var)\n",
    "    return (((L-1)/L * W) + 1/L * B)/W"
   ]
  },
  {
   "cell_type": "code",
   "execution_count": null,
   "id": "0b8c093a",
   "metadata": {},
   "outputs": [],
   "source": [
    "four_traces = [trace['mu'][5000:,2] for trace in all_traces]\n",
    "calculate_gelman_rubin_stat(four_traces)\n"
   ]
  },
  {
   "cell_type": "code",
   "execution_count": null,
   "id": "c785113c",
   "metadata": {},
   "outputs": [],
   "source": [
    "four_traces = [trace['bandwidths'][5000:, 40] for trace in all_traces]\n",
    "calculate_gelman_rubin_stat(four_traces)"
   ]
  },
  {
   "cell_type": "code",
   "execution_count": null,
   "id": "dca64d7c",
   "metadata": {},
   "outputs": [],
   "source": [
    "four_traces = [traces['f'][12][8, :] for traces in all_traces]\n",
    "calculate_gelman_rubin_stat(four_traces)"
   ]
  },
  {
   "cell_type": "code",
   "execution_count": null,
   "id": "65e45ab2",
   "metadata": {},
   "outputs": [],
   "source": [
    "traces1['f'][0].shape"
   ]
  },
  {
   "cell_type": "code",
   "execution_count": null,
   "id": "fe1dc410",
   "metadata": {},
   "outputs": [],
   "source": [
    "L=20000\n",
    "J = 4"
   ]
  },
  {
   "cell_type": "code",
   "execution_count": null,
   "id": "3fbd11cb",
   "metadata": {},
   "outputs": [],
   "source": [
    "var = [np.nanvar(traces['mu'][5000:,], ddof=1) for traces in all_traces]\n",
    "W = np.mean(var)"
   ]
  },
  {
   "cell_type": "code",
   "execution_count": null,
   "id": "5ffc870d",
   "metadata": {},
   "outputs": [],
   "source": []
  },
  {
   "cell_type": "code",
   "execution_count": null,
   "id": "6920f9a6",
   "metadata": {},
   "outputs": [],
   "source": [
    "gb = new_gibbs.GibbsSampler(X_depts, y_depts, time_vecs, n_iter=3000, burn=0, bandwidth_start=9, tau_sq_1_start=3000, f_start=0)\n",
    "gb.fit()"
   ]
  },
  {
   "cell_type": "code",
   "execution_count": null,
   "id": "861ef896",
   "metadata": {},
   "outputs": [],
   "source": [
    "gb.traces['bandwidths'][gb.traces['bandwidths'] > 100]"
   ]
  },
  {
   "cell_type": "code",
   "execution_count": null,
   "id": "759d17d1",
   "metadata": {},
   "outputs": [],
   "source": [
    "plt.plot(gb.traces['bandwidths']);"
   ]
  },
  {
   "cell_type": "code",
   "execution_count": null,
   "id": "2ea06cc1",
   "metadata": {},
   "outputs": [],
   "source": [
    "plt.plot(gb.accept_bandwidth.mean(axis=0))\n",
    "plt.plot(gb.accept_tau.mean(axis=0))"
   ]
  },
  {
   "cell_type": "code",
   "execution_count": null,
   "id": "a9664147",
   "metadata": {},
   "outputs": [],
   "source": [
    "np.log(1/0)"
   ]
  },
  {
   "cell_type": "code",
   "execution_count": null,
   "id": "0b9b084f",
   "metadata": {},
   "outputs": [],
   "source": [
    "np.log(0) + 1"
   ]
  },
  {
   "cell_type": "code",
   "execution_count": null,
   "id": "972fa1c3",
   "metadata": {},
   "outputs": [],
   "source": [
    "np.log(0) - np.log(0)"
   ]
  },
  {
   "cell_type": "code",
   "execution_count": null,
   "id": "e97e5b4e",
   "metadata": {},
   "outputs": [],
   "source": [
    "from scipy.stats import uniform"
   ]
  },
  {
   "cell_type": "code",
   "execution_count": null,
   "id": "0541efb4",
   "metadata": {},
   "outputs": [],
   "source": [
    "np.log(uniform.rvs()) > -np.inf"
   ]
  },
  {
   "cell_type": "code",
   "execution_count": null,
   "id": "6e3b1eb8",
   "metadata": {},
   "outputs": [],
   "source": []
  }
 ],
 "metadata": {
  "kernelspec": {
   "display_name": "Python 3 (ipykernel)",
   "language": "python",
   "name": "python3"
  },
  "language_info": {
   "codemirror_mode": {
    "name": "ipython",
    "version": 3
   },
   "file_extension": ".py",
   "mimetype": "text/x-python",
   "name": "python",
   "nbconvert_exporter": "python",
   "pygments_lexer": "ipython3",
   "version": "3.9.7"
  }
 },
 "nbformat": 4,
 "nbformat_minor": 5
}
