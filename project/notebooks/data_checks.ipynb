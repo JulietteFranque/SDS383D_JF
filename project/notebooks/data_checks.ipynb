{
 "cells": [
  {
   "cell_type": "code",
   "execution_count": 1,
   "id": "8f0fe416",
   "metadata": {},
   "outputs": [],
   "source": [
    "import pandas as pd\n",
    "import matplotlib.pyplot as plt\n",
    "import numpy as np\n",
    "import matplotlib.style as style\n",
    "from tqdm import tqdm \n",
    "tqdm.pandas()\n",
    "plt.rcParams.update({'axes.labelsize':16})\n",
    "plt.rcParams.update({'axes.titlesize':16})\n",
    "plt.rcParams.update({'legend.fontsize':16})\n",
    "plt.rcParams['xtick.labelsize'] = 16\n",
    "plt.rcParams['ytick.labelsize'] = 16\n",
    "plt.rcParams['lines.linewidth'] = 4\n",
    "style.use('ggplot')\n",
    "import warnings\n",
    "warnings.filterwarnings('ignore')"
   ]
  },
  {
   "cell_type": "code",
   "execution_count": 3,
   "id": "6d771055",
   "metadata": {},
   "outputs": [],
   "source": [
    "df_fips = pd.read_csv('../data/census_counts.csv')\n",
    "df_all = pd.read_csv('../data/all_depts.csv')\n",
    "df_richmond = pd.read_csv('../data/richmond_apparatus_data.csv')"
   ]
  },
  {
   "cell_type": "code",
   "execution_count": 14,
   "id": "a9809aaa",
   "metadata": {},
   "outputs": [],
   "source": [
    "df_1 = df_fips[['department_name','incident_count']].groupby('department_name').sum('incident_count').reset_index()"
   ]
  },
  {
   "cell_type": "code",
   "execution_count": 15,
   "id": "d8939dfe",
   "metadata": {},
   "outputs": [],
   "source": [
    "df_2 = df_all[['department_name','count']].groupby('department_name').sum('count').reset_index()"
   ]
  },
  {
   "cell_type": "code",
   "execution_count": 20,
   "id": "a2094ce2",
   "metadata": {},
   "outputs": [],
   "source": [
    "df_all = pd.merge(df_1, df_2, on='department_name', how='inner')"
   ]
  },
  {
   "cell_type": "code",
   "execution_count": 23,
   "id": "4fab1c80",
   "metadata": {},
   "outputs": [
    {
     "data": {
      "text/plain": [
       "<matplotlib.collections.PathCollection at 0x7fd38e9bbfd0>"
      ]
     },
     "execution_count": 23,
     "metadata": {},
     "output_type": "execute_result"
    },
    {
     "data": {
      "image/png": "[encoded data removed]",
      "text/plain": [
       "<Figure size 432x288 with 1 Axes>"
      ]
     },
     "metadata": {},
     "output_type": "display_data"
    }
   ],
   "source": [
    "plt.scatter(df_all['incident_count'], df_all['count'])"
   ]
  },
  {
   "cell_type": "code",
   "execution_count": 71,
   "id": "4e96111c",
   "metadata": {},
   "outputs": [
    {
     "data": {
      "text/plain": [
       "51760    61468\n",
       "51041      143\n",
       "51087      103\n",
       "Name: address.location.social_vulnerability_2016.general.fips, dtype: int64"
      ]
     },
     "execution_count": 71,
     "metadata": {},
     "output_type": "execute_result"
    }
   ],
   "source": [
    "df_richmond.dropna(subset=['address.location.social_vulnerability_2016.general.fips'])['address.location.social_vulnerability_2016.general.fips'].apply(lambda x: str(x)[0:5]).astype(int).value_counts()[0:10]\n",
    "\n",
    "\n",
    "\n"
   ]
  },
  {
   "cell_type": "code",
   "execution_count": 76,
   "id": "fcea7dcf",
   "metadata": {},
   "outputs": [],
   "source": [
    "df_fips['address.location.social_vulnerability_2016.general.fips'] = df_fips['address.location.social_vulnerability_2016.general.fips'].apply(lambda x: str(x)[0:5]).astype(int)"
   ]
  },
  {
   "cell_type": "code",
   "execution_count": 79,
   "id": "976b8aff",
   "metadata": {},
   "outputs": [
    {
     "data": {
      "text/html": [
       "<div>\n",
       "<style scoped>\n",
       "    .dataframe tbody tr th:only-of-type {\n",
       "        vertical-align: middle;\n",
       "    }\n",
       "\n",
       "    .dataframe tbody tr th {\n",
       "        vertical-align: top;\n",
       "    }\n",
       "\n",
       "    .dataframe thead th {\n",
       "        text-align: right;\n",
       "    }\n",
       "</style>\n",
       "<table border=\"1\" class=\"dataframe\">\n",
       "  <thead>\n",
       "    <tr style=\"text-align: right;\">\n",
       "      <th></th>\n",
       "      <th>address.location.social_vulnerability_2016.general.fips</th>\n",
       "    </tr>\n",
       "  </thead>\n",
       "  <tbody>\n",
       "    <tr>\n",
       "      <th>9894</th>\n",
       "      <td>51760</td>\n",
       "    </tr>\n",
       "    <tr>\n",
       "      <th>9895</th>\n",
       "      <td>51760</td>\n",
       "    </tr>\n",
       "    <tr>\n",
       "      <th>9896</th>\n",
       "      <td>51760</td>\n",
       "    </tr>\n",
       "    <tr>\n",
       "      <th>9897</th>\n",
       "      <td>51760</td>\n",
       "    </tr>\n",
       "    <tr>\n",
       "      <th>9898</th>\n",
       "      <td>51760</td>\n",
       "    </tr>\n",
       "    <tr>\n",
       "      <th>...</th>\n",
       "      <td>...</td>\n",
       "    </tr>\n",
       "    <tr>\n",
       "      <th>10001</th>\n",
       "      <td>51087</td>\n",
       "    </tr>\n",
       "    <tr>\n",
       "      <th>10002</th>\n",
       "      <td>51087</td>\n",
       "    </tr>\n",
       "    <tr>\n",
       "      <th>10003</th>\n",
       "      <td>51087</td>\n",
       "    </tr>\n",
       "    <tr>\n",
       "      <th>10004</th>\n",
       "      <td>51101</td>\n",
       "    </tr>\n",
       "    <tr>\n",
       "      <th>10005</th>\n",
       "      <td>51145</td>\n",
       "    </tr>\n",
       "  </tbody>\n",
       "</table>\n",
       "<p>112 rows × 1 columns</p>\n",
       "</div>"
      ],
      "text/plain": [
       "       address.location.social_vulnerability_2016.general.fips\n",
       "9894                                               51760      \n",
       "9895                                               51760      \n",
       "9896                                               51760      \n",
       "9897                                               51760      \n",
       "9898                                               51760      \n",
       "...                                                  ...      \n",
       "10001                                              51087      \n",
       "10002                                              51087      \n",
       "10003                                              51087      \n",
       "10004                                              51101      \n",
       "10005                                              51145      \n",
       "\n",
       "[112 rows x 1 columns]"
      ]
     },
     "execution_count": 79,
     "metadata": {},
     "output_type": "execute_result"
    }
   ],
   "source": [
    "df_fips[df_fips['department_name'] == 'Richmond Fire and Emergency Services (93345)'].sort_values('incident_count', ascending=False)['address.location.social_vulnerability_2016.general.fips'].to_frame()\n",
    "\n"
   ]
  },
  {
   "cell_type": "code",
   "execution_count": 46,
   "id": "3088e1f2",
   "metadata": {},
   "outputs": [
    {
     "data": {
      "text/plain": [
       "[]"
      ]
     },
     "execution_count": 46,
     "metadata": {},
     "output_type": "execute_result"
    }
   ],
   "source": [
    "[col for col in df_fips.columns if 'Richmond' in col]"
   ]
  },
  {
   "cell_type": "code",
   "execution_count": 39,
   "id": "b8533728",
   "metadata": {},
   "outputs": [
    {
     "ename": "AttributeError",
     "evalue": "'str' object has no attribute 'isin'",
     "output_type": "error",
     "traceback": [
      "\u001b[0;31m---------------------------------------------------------------------------\u001b[0m",
      "\u001b[0;31mAttributeError\u001b[0m                            Traceback (most recent call last)",
      "\u001b[0;32m/var/folders/5t/ltqvfkd124z1n5v3ntgw77d40000gn/T/ipykernel_2349/1948401289.py\u001b[0m in \u001b[0;36m<module>\u001b[0;34m\u001b[0m\n\u001b[0;32m----> 1\u001b[0;31m \u001b[0;34m(\u001b[0m\u001b[0;34m'Richmond'\u001b[0m\u001b[0;34m)\u001b[0m\u001b[0;34m.\u001b[0m\u001b[0misin\u001b[0m\u001b[0;34m(\u001b[0m\u001b[0mdf_fips\u001b[0m\u001b[0;34m[\u001b[0m\u001b[0;34m'department_name'\u001b[0m\u001b[0;34m]\u001b[0m\u001b[0;34m)\u001b[0m\u001b[0;34m\u001b[0m\u001b[0;34m\u001b[0m\u001b[0m\n\u001b[0m",
      "\u001b[0;31mAttributeError\u001b[0m: 'str' object has no attribute 'isin'"
     ]
    }
   ],
   "source": [
    "('Richmond').isin(df_fips['department_name'])"
   ]
  },
  {
   "cell_type": "code",
   "execution_count": 40,
   "id": "7283e425",
   "metadata": {},
   "outputs": [
    {
     "data": {
      "text/plain": [
       "False"
      ]
     },
     "execution_count": 40,
     "metadata": {},
     "output_type": "execute_result"
    }
   ],
   "source": [
    "'Richmond' in df_fips['department_name']"
   ]
  },
  {
   "cell_type": "code",
   "execution_count": 42,
   "id": "59d56f68",
   "metadata": {},
   "outputs": [
    {
     "data": {
      "text/plain": [
       "['Richmond Fire and Emergency Services (93345)',\n",
       " 'Richmond Fire and Emergency Services (93345)',\n",
       " 'Richmond Fire and Emergency Services (93345)',\n",
       " 'Richmond Fire and Emergency Services (93345)',\n",
       " 'Richmond Fire and Emergency Services (93345)',\n",
       " 'Richmond Fire and Emergency Services (93345)',\n",
       " 'Richmond Fire and Emergency Services (93345)',\n",
       " 'Richmond Fire and Emergency Services (93345)',\n",
       " 'Richmond Fire and Emergency Services (93345)',\n",
       " 'Richmond Fire and Emergency Services (93345)',\n",
       " 'Richmond Fire and Emergency Services (93345)',\n",
       " 'Richmond Fire and Emergency Services (93345)',\n",
       " 'Richmond Fire and Emergency Services (93345)',\n",
       " 'Richmond Fire and Emergency Services (93345)',\n",
       " 'Richmond Fire and Emergency Services (93345)',\n",
       " 'Richmond Fire and Emergency Services (93345)',\n",
       " 'Richmond Fire and Emergency Services (93345)',\n",
       " 'Richmond Fire and Emergency Services (93345)',\n",
       " 'Richmond Fire and Emergency Services (93345)',\n",
       " 'Richmond Fire and Emergency Services (93345)',\n",
       " 'Richmond Fire and Emergency Services (93345)',\n",
       " 'Richmond Fire and Emergency Services (93345)',\n",
       " 'Richmond Fire and Emergency Services (93345)',\n",
       " 'Richmond Fire and Emergency Services (93345)',\n",
       " 'Richmond Fire and Emergency Services (93345)',\n",
       " 'Richmond Fire and Emergency Services (93345)',\n",
       " 'Richmond Fire and Emergency Services (93345)',\n",
       " 'Richmond Fire and Emergency Services (93345)',\n",
       " 'Richmond Fire and Emergency Services (93345)',\n",
       " 'Richmond Fire and Emergency Services (93345)',\n",
       " 'Richmond Fire and Emergency Services (93345)',\n",
       " 'Richmond Fire and Emergency Services (93345)',\n",
       " 'Richmond Fire and Emergency Services (93345)',\n",
       " 'Richmond Fire and Emergency Services (93345)',\n",
       " 'Richmond Fire and Emergency Services (93345)',\n",
       " 'Richmond Fire and Emergency Services (93345)',\n",
       " 'Richmond Fire and Emergency Services (93345)',\n",
       " 'Richmond Fire and Emergency Services (93345)',\n",
       " 'Richmond Fire and Emergency Services (93345)',\n",
       " 'Richmond Fire and Emergency Services (93345)',\n",
       " 'Richmond Fire and Emergency Services (93345)',\n",
       " 'Richmond Fire and Emergency Services (93345)',\n",
       " 'Richmond Fire and Emergency Services (93345)',\n",
       " 'Richmond Fire and Emergency Services (93345)',\n",
       " 'Richmond Fire and Emergency Services (93345)',\n",
       " 'Richmond Fire and Emergency Services (93345)',\n",
       " 'Richmond Fire and Emergency Services (93345)',\n",
       " 'Richmond Fire and Emergency Services (93345)',\n",
       " 'Richmond Fire and Emergency Services (93345)',\n",
       " 'Richmond Fire and Emergency Services (93345)',\n",
       " 'Richmond Fire and Emergency Services (93345)',\n",
       " 'Richmond Fire and Emergency Services (93345)',\n",
       " 'Richmond Fire and Emergency Services (93345)',\n",
       " 'Richmond Fire and Emergency Services (93345)',\n",
       " 'Richmond Fire and Emergency Services (93345)',\n",
       " 'Richmond Fire and Emergency Services (93345)',\n",
       " 'Richmond Fire and Emergency Services (93345)',\n",
       " 'Richmond Fire and Emergency Services (93345)',\n",
       " 'Richmond Fire and Emergency Services (93345)',\n",
       " 'Richmond Fire and Emergency Services (93345)',\n",
       " 'Richmond Fire and Emergency Services (93345)',\n",
       " 'Richmond Fire and Emergency Services (93345)',\n",
       " 'Richmond Fire and Emergency Services (93345)',\n",
       " 'Richmond Fire and Emergency Services (93345)',\n",
       " 'Richmond Fire and Emergency Services (93345)',\n",
       " 'Richmond Fire and Emergency Services (93345)',\n",
       " 'Richmond Fire and Emergency Services (93345)',\n",
       " 'Richmond Fire and Emergency Services (93345)',\n",
       " 'Richmond Fire and Emergency Services (93345)',\n",
       " 'Richmond Fire and Emergency Services (93345)',\n",
       " 'Richmond Fire and Emergency Services (93345)',\n",
       " 'Richmond Fire and Emergency Services (93345)',\n",
       " 'Richmond Fire and Emergency Services (93345)',\n",
       " 'Richmond Fire and Emergency Services (93345)',\n",
       " 'Richmond Fire and Emergency Services (93345)',\n",
       " 'Richmond Fire and Emergency Services (93345)',\n",
       " 'Richmond Fire and Emergency Services (93345)',\n",
       " 'Richmond Fire and Emergency Services (93345)',\n",
       " 'Richmond Fire and Emergency Services (93345)',\n",
       " 'Richmond Fire and Emergency Services (93345)',\n",
       " 'Richmond Fire and Emergency Services (93345)',\n",
       " 'Richmond Fire and Emergency Services (93345)',\n",
       " 'Richmond Fire and Emergency Services (93345)',\n",
       " 'Richmond Fire and Emergency Services (93345)',\n",
       " 'Richmond Fire and Emergency Services (93345)',\n",
       " 'Richmond Fire and Emergency Services (93345)',\n",
       " 'Richmond Fire and Emergency Services (93345)',\n",
       " 'Richmond Fire and Emergency Services (93345)',\n",
       " 'Richmond Fire and Emergency Services (93345)',\n",
       " 'Richmond Fire and Emergency Services (93345)',\n",
       " 'Richmond Fire and Emergency Services (93345)',\n",
       " 'Richmond Fire and Emergency Services (93345)',\n",
       " 'Richmond Fire and Emergency Services (93345)',\n",
       " 'Richmond Fire and Emergency Services (93345)',\n",
       " 'Richmond Fire and Emergency Services (93345)',\n",
       " 'Richmond Fire and Emergency Services (93345)',\n",
       " 'Richmond Fire and Emergency Services (93345)',\n",
       " 'Richmond Fire and Emergency Services (93345)',\n",
       " 'Richmond Fire and Emergency Services (93345)',\n",
       " 'Richmond Fire and Emergency Services (93345)',\n",
       " 'Richmond Fire and Emergency Services (93345)',\n",
       " 'Richmond Fire and Emergency Services (93345)',\n",
       " 'Richmond Fire and Emergency Services (93345)',\n",
       " 'Richmond Fire and Emergency Services (93345)',\n",
       " 'Richmond Fire and Emergency Services (93345)',\n",
       " 'Richmond Fire and Emergency Services (93345)',\n",
       " 'Richmond Fire and Emergency Services (93345)',\n",
       " 'Richmond Fire and Emergency Services (93345)',\n",
       " 'Richmond Fire and Emergency Services (93345)',\n",
       " 'Richmond Fire and Emergency Services (93345)',\n",
       " 'Richmond Fire and Emergency Services (93345)',\n",
       " 'Richmond Fire and Emergency Services (93345)']"
      ]
     },
     "execution_count": 42,
     "metadata": {},
     "output_type": "execute_result"
    }
   ],
   "source": [
    "[i for i in df_fips['department_name'] if 'Richmond' in i]"
   ]
  },
  {
   "cell_type": "code",
   "execution_count": null,
   "id": "ee6c9ab6",
   "metadata": {},
   "outputs": [],
   "source": []
  }
 ],
 "metadata": {
  "kernelspec": {
   "display_name": "Python 3 (ipykernel)",
   "language": "python",
   "name": "python3"
  },
  "language_info": {
   "codemirror_mode": {
    "name": "ipython",
    "version": 3
   },
   "file_extension": ".py",
   "mimetype": "text/x-python",
   "name": "python",
   "nbconvert_exporter": "python",
   "pygments_lexer": "ipython3",
   "version": "3.9.7"
  }
 },
 "nbformat": 4,
 "nbformat_minor": 5
}
