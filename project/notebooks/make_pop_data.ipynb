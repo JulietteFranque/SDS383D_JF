{
 "cells": [
  {
   "cell_type": "code",
   "execution_count": 1,
   "id": "54fb92fd",
   "metadata": {},
   "outputs": [],
   "source": [
    "import numpy as np\n",
    "import pandas as pd"
   ]
  },
  {
   "cell_type": "code",
   "execution_count": 2,
   "id": "ca5388d5",
   "metadata": {},
   "outputs": [],
   "source": [
    "df = pd.read_csv('../data/pop_data_raw.csv',encoding = \"ISO-8859-1\")"
   ]
  },
  {
   "cell_type": "code",
   "execution_count": 15,
   "id": "48334002",
   "metadata": {},
   "outputs": [],
   "source": [
    "def make_fips_code(state, county):\n",
    "    state_full = state.apply(lambda x: int(2-len(str(x))) * '0' + str(x)) \n",
    "    county_full = county.apply(lambda x: int(3-len(str(x))) * '0' + str(x)) \n",
    "    whole_df = (state_full + county_full).to_frame()\n",
    "    return whole_df\n",
    "    "
   ]
  },
  {
   "cell_type": "code",
   "execution_count": 16,
   "id": "c62a0d88",
   "metadata": {},
   "outputs": [],
   "source": [
    "fips = make_fips_code(df['STATE'], df['COUNTY'])"
   ]
  },
  {
   "cell_type": "code",
   "execution_count": 22,
   "id": "1fab8ba8",
   "metadata": {},
   "outputs": [],
   "source": [
    "df['fips'] = fips.astype(str)"
   ]
  },
  {
   "cell_type": "code",
   "execution_count": 23,
   "id": "ed727017",
   "metadata": {},
   "outputs": [],
   "source": [
    "df_keep = df[['fips', 'CENSUS2010POP']]"
   ]
  },
  {
   "cell_type": "code",
   "execution_count": 35,
   "id": "f28875b8",
   "metadata": {},
   "outputs": [],
   "source": [
    "df_keep.to_csv('../data/pop_data.csv', index=False)"
   ]
  }
 ],
 "metadata": {
  "kernelspec": {
   "display_name": "Python 3 (ipykernel)",
   "language": "python",
   "name": "python3"
  },
  "language_info": {
   "codemirror_mode": {
    "name": "ipython",
    "version": 3
   },
   "file_extension": ".py",
   "mimetype": "text/x-python",
   "name": "python",
   "nbconvert_exporter": "python",
   "pygments_lexer": "ipython3",
   "version": "3.9.7"
  }
 },
 "nbformat": 4,
 "nbformat_minor": 5
}
