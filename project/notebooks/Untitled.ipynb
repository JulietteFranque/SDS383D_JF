{
 "cells": [
  {
   "cell_type": "code",
   "execution_count": 1,
   "id": "b8b53ad0",
   "metadata": {},
   "outputs": [
    {
     "name": "stdout",
     "output_type": "stream",
     "text": [
      "<class 'python_code.simple_gibbs.GibbsSampler'>\n"
     ]
    }
   ],
   "source": [
    "import pandas as pd\n",
    "import matplotlib.pyplot as plt\n",
    "import numpy as np\n",
    "import matplotlib.style as style\n",
    "from tqdm import tqdm \n",
    "tqdm.pandas()\n",
    "plt.rcParams.update({'axes.labelsize':16})\n",
    "plt.rcParams.update({'axes.titlesize':16})\n",
    "plt.rcParams.update({'legend.fontsize':16})\n",
    "plt.rcParams['xtick.labelsize'] = 16\n",
    "plt.rcParams['ytick.labelsize'] = 16\n",
    "plt.rcParams['lines.linewidth'] = 4\n",
    "style.use('ggplot')\n",
    "import os\n",
    "os.chdir('../')\n",
    "from python_code import simple_gibbs, gp_gibbs\n",
    "os.chdir('notebooks')\n",
    "from sklearn.decomposition import PCA"
   ]
  },
  {
   "cell_type": "code",
   "execution_count": 5,
   "id": "8d182e64",
   "metadata": {},
   "outputs": [
    {
     "data": {
      "text/plain": [
       "array([[1., 0., 0., 0.],\n",
       "       [0., 2., 0., 0.],\n",
       "       [0., 0., 3., 0.],\n",
       "       [0., 0., 0., 4.]])"
      ]
     },
     "execution_count": 5,
     "metadata": {},
     "output_type": "execute_result"
    }
   ],
   "source": [
    "np.array([1,2,3,4]) * np.eye(4)"
   ]
  },
  {
   "cell_type": "code",
   "execution_count": 23,
   "id": "db3b78eb",
   "metadata": {},
   "outputs": [],
   "source": [
    "eyes = np.tile(np.eye(4)[:, :, None], 10)"
   ]
  },
  {
   "cell_type": "code",
   "execution_count": 30,
   "id": "7aec5255",
   "metadata": {},
   "outputs": [],
   "source": [
    "ni = np.array([5,4,5])"
   ]
  },
  {
   "cell_type": "code",
   "execution_count": 39,
   "id": "5d025100",
   "metadata": {},
   "outputs": [],
   "source": [
    "sigs = np.linspace(1,100,5)"
   ]
  },
  {
   "cell_type": "code",
   "execution_count": 40,
   "id": "664d20ba",
   "metadata": {},
   "outputs": [
    {
     "ename": "ValueError",
     "evalue": "operands could not be broadcast together with shapes (4,4,10) (5,) ",
     "output_type": "error",
     "traceback": [
      "\u001b[0;31m---------------------------------------------------------------------------\u001b[0m",
      "\u001b[0;31mValueError\u001b[0m                                Traceback (most recent call last)",
      "\u001b[0;32m/var/folders/5t/ltqvfkd124z1n5v3ntgw77d40000gn/T/ipykernel_11320/19201145.py\u001b[0m in \u001b[0;36m<module>\u001b[0;34m\u001b[0m\n\u001b[0;32m----> 1\u001b[0;31m \u001b[0;34m(\u001b[0m\u001b[0meyes\u001b[0m\u001b[0;34m*\u001b[0m\u001b[0msigs\u001b[0m\u001b[0;34m)\u001b[0m\u001b[0;34m[\u001b[0m\u001b[0;34m:\u001b[0m\u001b[0;34m,\u001b[0m\u001b[0;34m:\u001b[0m\u001b[0;34m,\u001b[0m\u001b[0;36m2\u001b[0m\u001b[0;34m]\u001b[0m\u001b[0;34m\u001b[0m\u001b[0;34m\u001b[0m\u001b[0m\n\u001b[0m",
      "\u001b[0;31mValueError\u001b[0m: operands could not be broadcast together with shapes (4,4,10) (5,) "
     ]
    }
   ],
   "source": [
    "(eyes*sigs)[:,:,2]"
   ]
  },
  {
   "cell_type": "code",
   "execution_count": 42,
   "id": "6a31f244",
   "metadata": {},
   "outputs": [
    {
     "data": {
      "text/plain": [
       "[array([[1., 0., 0., 0., 0.],\n",
       "        [0., 1., 0., 0., 0.],\n",
       "        [0., 0., 1., 0., 0.],\n",
       "        [0., 0., 0., 1., 0.],\n",
       "        [0., 0., 0., 0., 1.]]),\n",
       " array([[25.75,  0.  ,  0.  ,  0.  ],\n",
       "        [ 0.  , 25.75,  0.  ,  0.  ],\n",
       "        [ 0.  ,  0.  , 25.75,  0.  ],\n",
       "        [ 0.  ,  0.  ,  0.  , 25.75]]),\n",
       " array([[50.5,  0. ,  0. ,  0. ,  0. ],\n",
       "        [ 0. , 50.5,  0. ,  0. ,  0. ],\n",
       "        [ 0. ,  0. , 50.5,  0. ,  0. ],\n",
       "        [ 0. ,  0. ,  0. , 50.5,  0. ],\n",
       "        [ 0. ,  0. ,  0. ,  0. , 50.5]])]"
      ]
     },
     "execution_count": 42,
     "metadata": {},
     "output_type": "execute_result"
    }
   ],
   "source": [
    "[sigs[n] * np.eye(val) for n, val in enumerate(ni)]"
   ]
  },
  {
   "cell_type": "code",
   "execution_count": null,
   "id": "bd8f9db1",
   "metadata": {},
   "outputs": [],
   "source": []
  }
 ],
 "metadata": {
  "kernelspec": {
   "display_name": "Python 3 (ipykernel)",
   "language": "python",
   "name": "python3"
  },
  "language_info": {
   "codemirror_mode": {
    "name": "ipython",
    "version": 3
   },
   "file_extension": ".py",
   "mimetype": "text/x-python",
   "name": "python",
   "nbconvert_exporter": "python",
   "pygments_lexer": "ipython3",
   "version": "3.9.7"
  }
 },
 "nbformat": 4,
 "nbformat_minor": 5
}
