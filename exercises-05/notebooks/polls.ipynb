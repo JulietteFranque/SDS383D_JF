{
 "cells": [
  {
   "cell_type": "code",
   "execution_count": 1,
   "id": "4db267b7",
   "metadata": {},
   "outputs": [],
   "source": [
    "import numpy as np\n",
    "import pandas as pd\n",
    "import matplotlib.pyplot as plt\n",
    "import os\n",
    "os.chdir('../')\n",
    "from python_code import model, pollsmodel\n",
    "os.chdir('notebooks')\n",
    "plt.style.use('ggplot')\n",
    "plt.rcParams.update({'font.size': 16})\n",
    "from sklearn.linear_model import LinearRegression\n",
    "from python_code import model"
   ]
  },
  {
   "cell_type": "code",
   "execution_count": 2,
   "id": "a7754e79",
   "metadata": {},
   "outputs": [],
   "source": [
    "df = pd.read_csv('../../data/polls.csv').dropna()\n",
    "age = pd.get_dummies(df['age'])\n",
    "edu = pd.get_dummies(df['edu'])\n",
    "df = df.join(age).join(edu)\n",
    "df.insert(0,'intercept',1)\n",
    "columns_to_remove = ['org', 'year', 'survey','age','edu']\n",
    "df = df.drop(columns=columns_to_remove)"
   ]
  },
  {
   "cell_type": "code",
   "execution_count": 3,
   "id": "6d04b127",
   "metadata": {},
   "outputs": [],
   "source": [
    "groups = df.groupby('state')\n",
    "states = list(groups.groups.keys())"
   ]
  },
  {
   "cell_type": "code",
   "execution_count": 4,
   "id": "5ae73854",
   "metadata": {},
   "outputs": [],
   "source": [
    "X_states = []\n",
    "y_states = []\n",
    "for state in states:\n",
    "    df_group = groups.get_group(state)\n",
    "    X_states.append(df_group.drop(columns=['state','bush']).to_numpy())\n",
    "    y_states.append(df_group['bush'].to_numpy())\n",
    "    "
   ]
  },
  {
   "cell_type": "code",
   "execution_count": 5,
   "id": "763ea1e3",
   "metadata": {},
   "outputs": [
    {
     "name": "stderr",
     "output_type": "stream",
     "text": [
      "100%|███████████████████████████████████████████████████████████████████████████████████████████████████████████████████████████| 3000/3000 [05:00<00:00,  9.99it/s]\n"
     ]
    }
   ],
   "source": [
    "model = pollsmodel.Model(X_states, y_states, n_iter=3000)\n",
    "model.fit()"
   ]
  },
  {
   "cell_type": "code",
   "execution_count": null,
   "id": "f6eb9c9c",
   "metadata": {},
   "outputs": [],
   "source": [
    "model.plot_all_histograms()"
   ]
  },
  {
   "cell_type": "code",
   "execution_count": null,
   "id": "eba9ca1c",
   "metadata": {},
   "outputs": [],
   "source": []
  },
  {
   "cell_type": "code",
   "execution_count": null,
   "id": "850419fd",
   "metadata": {},
   "outputs": [],
   "source": []
  }
 ],
 "metadata": {
  "kernelspec": {
   "display_name": "Python 3 (ipykernel)",
   "language": "python",
   "name": "python3"
  },
  "language_info": {
   "codemirror_mode": {
    "name": "ipython",
    "version": 3
   },
   "file_extension": ".py",
   "mimetype": "text/x-python",
   "name": "python",
   "nbconvert_exporter": "python",
   "pygments_lexer": "ipython3",
   "version": "3.9.7"
  }
 },
 "nbformat": 4,
 "nbformat_minor": 5
}
