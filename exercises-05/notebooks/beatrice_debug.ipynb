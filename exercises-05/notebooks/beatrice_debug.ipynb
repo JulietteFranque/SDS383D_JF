{
 "cells": [
  {
   "cell_type": "code",
   "execution_count": 46,
   "id": "e514dab3",
   "metadata": {},
   "outputs": [
    {
     "name": "stderr",
     "output_type": "stream",
     "text": [
      "  1%|▋                                                                                                                             | 8/1500 [00:01<03:45,  6.63it/s]/Users/juliette/opt/anaconda3/lib/python3.9/site-packages/scipy/stats/_multivariate.py:653: RuntimeWarning: covariance is not positive-semidefinite.\n",
      "  out = random_state.multivariate_normal(mean, cov, size)\n",
      "  1%|█▊                                                                                                                           | 21/1500 [00:03<03:40,  6.69it/s]\n"
     ]
    },
    {
     "ename": "LinAlgError",
     "evalue": "Singular matrix",
     "output_type": "error",
     "traceback": [
      "\u001b[0;31m---------------------------------------------------------------------------\u001b[0m",
      "\u001b[0;31mLinAlgError\u001b[0m                               Traceback (most recent call last)",
      "\u001b[0;32m/var/folders/5t/ltqvfkd124z1n5v3ntgw77d40000gn/T/ipykernel_13222/1855573834.py\u001b[0m in \u001b[0;36m<module>\u001b[0;34m\u001b[0m\n\u001b[1;32m    167\u001b[0m \u001b[0;31m#%%\u001b[0m\u001b[0;34m\u001b[0m\u001b[0;34m\u001b[0m\u001b[0m\n\u001b[1;32m    168\u001b[0m \u001b[0;34m\u001b[0m\u001b[0m\n\u001b[0;32m--> 169\u001b[0;31m \u001b[0mmodel\u001b[0m\u001b[0;34m.\u001b[0m\u001b[0mfit_GibbsSampler\u001b[0m\u001b[0;34m(\u001b[0m\u001b[0;36m1500\u001b[0m\u001b[0;34m,\u001b[0m \u001b[0;36m500\u001b[0m\u001b[0;34m)\u001b[0m\u001b[0;34m\u001b[0m\u001b[0;34m\u001b[0m\u001b[0m\n\u001b[0m\u001b[1;32m    170\u001b[0m \u001b[0;34m\u001b[0m\u001b[0m\n\u001b[1;32m    171\u001b[0m \u001b[0;31m#%%\u001b[0m\u001b[0;34m\u001b[0m\u001b[0;34m\u001b[0m\u001b[0m\n",
      "\u001b[0;32m/var/folders/5t/ltqvfkd124z1n5v3ntgw77d40000gn/T/ipykernel_13222/1855573834.py\u001b[0m in \u001b[0;36mfit_GibbsSampler\u001b[0;34m(self, n_iter, burn)\u001b[0m\n\u001b[1;32m    120\u001b[0m             \u001b[0mself\u001b[0m\u001b[0;34m.\u001b[0m\u001b[0m_update_m\u001b[0m\u001b[0;34m(\u001b[0m\u001b[0mself\u001b[0m\u001b[0;34m.\u001b[0m\u001b[0mtau_squared\u001b[0m\u001b[0;34m,\u001b[0m \u001b[0mself\u001b[0m\u001b[0;34m.\u001b[0m\u001b[0mgam\u001b[0m\u001b[0;34m)\u001b[0m\u001b[0;34m\u001b[0m\u001b[0;34m\u001b[0m\u001b[0m\n\u001b[1;32m    121\u001b[0m             \u001b[0mself\u001b[0m\u001b[0;34m.\u001b[0m\u001b[0m_update_tau_squared\u001b[0m\u001b[0;34m(\u001b[0m\u001b[0mself\u001b[0m\u001b[0;34m.\u001b[0m\u001b[0mgam\u001b[0m\u001b[0;34m,\u001b[0m \u001b[0mself\u001b[0m\u001b[0;34m.\u001b[0m\u001b[0mm\u001b[0m\u001b[0;34m)\u001b[0m\u001b[0;34m\u001b[0m\u001b[0;34m\u001b[0m\u001b[0m\n\u001b[0;32m--> 122\u001b[0;31m             \u001b[0mself\u001b[0m\u001b[0;34m.\u001b[0m\u001b[0m_update_gamma\u001b[0m\u001b[0;34m(\u001b[0m\u001b[0mself\u001b[0m\u001b[0;34m.\u001b[0m\u001b[0mtau_squared\u001b[0m\u001b[0;34m)\u001b[0m\u001b[0;34m\u001b[0m\u001b[0;34m\u001b[0m\u001b[0m\n\u001b[0m\u001b[1;32m    123\u001b[0m             \u001b[0mself\u001b[0m\u001b[0;34m.\u001b[0m\u001b[0m_update_z\u001b[0m\u001b[0;34m(\u001b[0m\u001b[0mself\u001b[0m\u001b[0;34m.\u001b[0m\u001b[0mgam\u001b[0m\u001b[0;34m)\u001b[0m\u001b[0;34m\u001b[0m\u001b[0;34m\u001b[0m\u001b[0m\n\u001b[1;32m    124\u001b[0m             \u001b[0mself\u001b[0m\u001b[0;34m.\u001b[0m\u001b[0m_update_traces\u001b[0m\u001b[0;34m(\u001b[0m\u001b[0mit\u001b[0m\u001b[0;34m)\u001b[0m\u001b[0;34m\u001b[0m\u001b[0;34m\u001b[0m\u001b[0m\n",
      "\u001b[0;32m/var/folders/5t/ltqvfkd124z1n5v3ntgw77d40000gn/T/ipykernel_13222/1855573834.py\u001b[0m in \u001b[0;36m_update_gamma\u001b[0;34m(self, tau_squared)\u001b[0m\n\u001b[1;32m     78\u001b[0m     \u001b[0;32mdef\u001b[0m \u001b[0m_update_gamma\u001b[0m\u001b[0;34m(\u001b[0m\u001b[0mself\u001b[0m\u001b[0;34m,\u001b[0m \u001b[0mtau_squared\u001b[0m\u001b[0;34m)\u001b[0m\u001b[0;34m:\u001b[0m\u001b[0;34m\u001b[0m\u001b[0;34m\u001b[0m\u001b[0m\n\u001b[1;32m     79\u001b[0m         \u001b[0;32mfor\u001b[0m \u001b[0ms\u001b[0m \u001b[0;32min\u001b[0m \u001b[0mrange\u001b[0m\u001b[0;34m(\u001b[0m\u001b[0;36m0\u001b[0m\u001b[0;34m,\u001b[0m \u001b[0mself\u001b[0m\u001b[0;34m.\u001b[0m\u001b[0mS\u001b[0m\u001b[0;34m)\u001b[0m\u001b[0;34m:\u001b[0m\u001b[0;34m\u001b[0m\u001b[0;34m\u001b[0m\u001b[0m\n\u001b[0;32m---> 80\u001b[0;31m             V = np.linalg.inv(self.X[s].T @ self.X[s] +\n\u001b[0m\u001b[1;32m     81\u001b[0m                               np.identity(self.n_par) / tau_squared)            \n\u001b[1;32m     82\u001b[0m             \u001b[0mm\u001b[0m \u001b[0;34m=\u001b[0m \u001b[0mV\u001b[0m \u001b[0;34m@\u001b[0m \u001b[0;34m(\u001b[0m\u001b[0;34m(\u001b[0m\u001b[0mself\u001b[0m\u001b[0;34m.\u001b[0m\u001b[0mX\u001b[0m\u001b[0;34m[\u001b[0m\u001b[0ms\u001b[0m\u001b[0;34m]\u001b[0m\u001b[0;34m.\u001b[0m\u001b[0mT\u001b[0m \u001b[0;34m@\u001b[0m \u001b[0mnp\u001b[0m\u001b[0;34m.\u001b[0m\u001b[0masarray\u001b[0m\u001b[0;34m(\u001b[0m\u001b[0mself\u001b[0m\u001b[0;34m.\u001b[0m\u001b[0mz\u001b[0m\u001b[0;34m[\u001b[0m\u001b[0ms\u001b[0m\u001b[0;34m]\u001b[0m\u001b[0;34m)\u001b[0m\u001b[0;34m)\u001b[0m\u001b[0;34m.\u001b[0m\u001b[0mreshape\u001b[0m\u001b[0;34m(\u001b[0m\u001b[0mself\u001b[0m\u001b[0;34m.\u001b[0m\u001b[0mX\u001b[0m\u001b[0;34m[\u001b[0m\u001b[0ms\u001b[0m\u001b[0;34m]\u001b[0m\u001b[0;34m.\u001b[0m\u001b[0mshape\u001b[0m\u001b[0;34m[\u001b[0m\u001b[0;36m1\u001b[0m\u001b[0;34m]\u001b[0m\u001b[0;34m,\u001b[0m\u001b[0;34m)\u001b[0m \u001b[0;34m+\u001b[0m \u001b[0mself\u001b[0m\u001b[0;34m.\u001b[0m\u001b[0mm\u001b[0m\u001b[0;34m/\u001b[0m\u001b[0;34m(\u001b[0m\u001b[0mtau_squared\u001b[0m\u001b[0;34m)\u001b[0m\u001b[0;34m)\u001b[0m\u001b[0;34m\u001b[0m\u001b[0;34m\u001b[0m\u001b[0m\n",
      "\u001b[0;32m<__array_function__ internals>\u001b[0m in \u001b[0;36minv\u001b[0;34m(*args, **kwargs)\u001b[0m\n",
      "\u001b[0;32m~/opt/anaconda3/lib/python3.9/site-packages/numpy/linalg/linalg.py\u001b[0m in \u001b[0;36minv\u001b[0;34m(a)\u001b[0m\n\u001b[1;32m    543\u001b[0m     \u001b[0msignature\u001b[0m \u001b[0;34m=\u001b[0m \u001b[0;34m'D->D'\u001b[0m \u001b[0;32mif\u001b[0m \u001b[0misComplexType\u001b[0m\u001b[0;34m(\u001b[0m\u001b[0mt\u001b[0m\u001b[0;34m)\u001b[0m \u001b[0;32melse\u001b[0m \u001b[0;34m'd->d'\u001b[0m\u001b[0;34m\u001b[0m\u001b[0;34m\u001b[0m\u001b[0m\n\u001b[1;32m    544\u001b[0m     \u001b[0mextobj\u001b[0m \u001b[0;34m=\u001b[0m \u001b[0mget_linalg_error_extobj\u001b[0m\u001b[0;34m(\u001b[0m\u001b[0m_raise_linalgerror_singular\u001b[0m\u001b[0;34m)\u001b[0m\u001b[0;34m\u001b[0m\u001b[0;34m\u001b[0m\u001b[0m\n\u001b[0;32m--> 545\u001b[0;31m     \u001b[0mainv\u001b[0m \u001b[0;34m=\u001b[0m \u001b[0m_umath_linalg\u001b[0m\u001b[0;34m.\u001b[0m\u001b[0minv\u001b[0m\u001b[0;34m(\u001b[0m\u001b[0ma\u001b[0m\u001b[0;34m,\u001b[0m \u001b[0msignature\u001b[0m\u001b[0;34m=\u001b[0m\u001b[0msignature\u001b[0m\u001b[0;34m,\u001b[0m \u001b[0mextobj\u001b[0m\u001b[0;34m=\u001b[0m\u001b[0mextobj\u001b[0m\u001b[0;34m)\u001b[0m\u001b[0;34m\u001b[0m\u001b[0;34m\u001b[0m\u001b[0m\n\u001b[0m\u001b[1;32m    546\u001b[0m     \u001b[0;32mreturn\u001b[0m \u001b[0mwrap\u001b[0m\u001b[0;34m(\u001b[0m\u001b[0mainv\u001b[0m\u001b[0;34m.\u001b[0m\u001b[0mastype\u001b[0m\u001b[0;34m(\u001b[0m\u001b[0mresult_t\u001b[0m\u001b[0;34m,\u001b[0m \u001b[0mcopy\u001b[0m\u001b[0;34m=\u001b[0m\u001b[0;32mFalse\u001b[0m\u001b[0;34m)\u001b[0m\u001b[0;34m)\u001b[0m\u001b[0;34m\u001b[0m\u001b[0;34m\u001b[0m\u001b[0m\n\u001b[1;32m    547\u001b[0m \u001b[0;34m\u001b[0m\u001b[0m\n",
      "\u001b[0;32m~/opt/anaconda3/lib/python3.9/site-packages/numpy/linalg/linalg.py\u001b[0m in \u001b[0;36m_raise_linalgerror_singular\u001b[0;34m(err, flag)\u001b[0m\n\u001b[1;32m     86\u001b[0m \u001b[0;34m\u001b[0m\u001b[0m\n\u001b[1;32m     87\u001b[0m \u001b[0;32mdef\u001b[0m \u001b[0m_raise_linalgerror_singular\u001b[0m\u001b[0;34m(\u001b[0m\u001b[0merr\u001b[0m\u001b[0;34m,\u001b[0m \u001b[0mflag\u001b[0m\u001b[0;34m)\u001b[0m\u001b[0;34m:\u001b[0m\u001b[0;34m\u001b[0m\u001b[0;34m\u001b[0m\u001b[0m\n\u001b[0;32m---> 88\u001b[0;31m     \u001b[0;32mraise\u001b[0m \u001b[0mLinAlgError\u001b[0m\u001b[0;34m(\u001b[0m\u001b[0;34m\"Singular matrix\"\u001b[0m\u001b[0;34m)\u001b[0m\u001b[0;34m\u001b[0m\u001b[0;34m\u001b[0m\u001b[0m\n\u001b[0m\u001b[1;32m     89\u001b[0m \u001b[0;34m\u001b[0m\u001b[0m\n\u001b[1;32m     90\u001b[0m \u001b[0;32mdef\u001b[0m \u001b[0m_raise_linalgerror_nonposdef\u001b[0m\u001b[0;34m(\u001b[0m\u001b[0merr\u001b[0m\u001b[0;34m,\u001b[0m \u001b[0mflag\u001b[0m\u001b[0;34m)\u001b[0m\u001b[0;34m:\u001b[0m\u001b[0;34m\u001b[0m\u001b[0;34m\u001b[0m\u001b[0m\n",
      "\u001b[0;31mLinAlgError\u001b[0m: Singular matrix"
     ]
    }
   ],
   "source": [
    "import numpy as np\n",
    "from scipy.stats import multivariate_normal, gamma, norm, bernoulli, truncnorm\n",
    "from tqdm import tqdm\n",
    "import pandas as pd\n",
    "\n",
    "# %% set graphs style\n",
    "import matplotlib.pyplot as plt\n",
    "import matplotlib.style as style\n",
    "import seaborn as sns\n",
    "plt.rcParams['xtick.labelsize'] = 16\n",
    "plt.rcParams['ytick.labelsize'] = 16\n",
    "plt.rcParams['lines.linewidth'] = 4\n",
    "style.use('ggplot')\n",
    "\n",
    "# %% Import data\n",
    "df = pd.read_csv('../../data/polls.csv')\n",
    "df = df.dropna()# drop rows with nan\n",
    "#drop the first three columns\n",
    "df = df.drop(columns=['org', 'year', 'survey'])\n",
    "#get dummies\n",
    "df = pd.get_dummies(df, prefix='education', prefix_sep='.', \n",
    "                            columns=['edu'])\n",
    "df = pd.get_dummies(df, prefix='age', prefix_sep='.', \n",
    "                            columns=['age'])\n",
    "# %% manipulate data to get design matrices\n",
    "states = df.groupby('state')\n",
    "st = list(states.groups.keys())\n",
    "states_X = []\n",
    "states_y = []\n",
    "for state in st:\n",
    "    df_state = states.get_group(state)\n",
    "    y = df_state['bush'].to_numpy()\n",
    "    #remove column name state and y\n",
    "    df_state = df_state.drop(columns=['bush', 'state'])\n",
    "    #get intercept and concatenate\n",
    "    interc = np.ones((df_state.shape[0],1))\n",
    "    rest = df_state.to_numpy()\n",
    "    X = np.concatenate([interc, rest], axis=1)   \n",
    "    #append to list\n",
    "    states_X.append(X)\n",
    "    states_y.append(y)\n",
    "    \n",
    "#%%\n",
    "\n",
    "class Hierarchical:\n",
    "    '''Takes list of design matrices (one per store)\n",
    "    and list of vectors (one per store)'''\n",
    "    # initialise the object\n",
    "    def __init__(self, X, y):\n",
    "        self.X = X\n",
    "        self.y = y\n",
    "        self.S = len(y)\n",
    "        self.n_par = X[0].shape[1]\n",
    "        \n",
    "\n",
    "    def initialise_parameters(self):\n",
    "        self.gam = np.zeros((self.n_par, self.S))\n",
    "        self.m = np.zeros(self.n_par)\n",
    "        self.tau_squared = 1\n",
    "        #for loop for z\n",
    "        self.z = []\n",
    "        for s in range(self.S):\n",
    "            self.z.append([bernoulli.rvs(p= 0.5,size= 1) for i in range(self.X[s].shape[0])])\n",
    "        \n",
    "        \n",
    "        \n",
    "    \n",
    "    def _update_z(self, gam): #super slow loop. maybe map function?or smarter way?\n",
    "        for s in range(self.S):\n",
    "            for i in range(self.X[s].shape[0]):\n",
    "                if self.y[s][i] == 0:\n",
    "                    self.z[s][i] = truncnorm.rvs(-np.inf,0, \n",
    "                                                loc=self.X[s][i] @ gam[:,s], scale=1)\n",
    "                if self.y[s][i] == 1:\n",
    "                    self.z[s][i] = truncnorm.rvs(0,np.inf, \n",
    "                                                loc =self.X[s][i] @ gam[:,s], scale=1)\n",
    "         \n",
    "    def _update_gamma(self, tau_squared):\n",
    "        for s in range(0, self.S):            \n",
    "            V = np.linalg.inv(self.X[s].T @ self.X[s] +\n",
    "                              np.identity(self.n_par) / tau_squared)            \n",
    "            m = V @ ((self.X[s].T @ np.asarray(self.z[s])).reshape(self.X[s].shape[1],) + self.m/(tau_squared))            \n",
    "            self.gam[:, s] = multivariate_normal.rvs(mean=m, cov=V)    \n",
    "\n",
    "    \n",
    "    def _update_m(self, tau_squared, g):\n",
    "        var = np.identity(self.n_par) * (tau_squared / self.S)\n",
    "        #var = (np.eye(12)@g).sum(axis=1) / tau_squared\n",
    "        mean = var @ (np.sum(np.array(g), axis=1)) / (tau_squared)\n",
    "        self.m = multivariate_normal.rvs(mean, var+np.diag(np.ones(var.shape[0])*1e-9))\n",
    "\n",
    "        \n",
    "    \n",
    "    def _update_tau_squared(self, gam, m):\n",
    "        alpha = (self.S + 1)/2\n",
    "        g_sum = 1\n",
    "        for s in range(0, self.S):\n",
    "            g_sum = g_sum + (gam[:, s] - m).T @ (gam[:, s] - m)\n",
    "        beta = 0.5 * (g_sum)\n",
    "        self.tau_squared = 1 / gamma.rvs(a=alpha, scale=1 / beta, size=1)\n",
    "        \n",
    "    def _update_traces(self, it):\n",
    "        self.traces['gammas'][it, :, :] = self.gam\n",
    "        self.traces['m'][it] = self.m\n",
    "        self.traces['tau_squared'][it] = self.tau_squared\n",
    "        #self.traces['z'] = self.z not necessary to store\n",
    "\n",
    "    def fit_GibbsSampler(self, n_iter, burn):\n",
    "        # initialize parameters:\n",
    "        self.initialise_parameters()\n",
    "        # housekeeping setup\n",
    "        self.n_iter = n_iter\n",
    "        self.burn = burn\n",
    "        self.traces = {'tau_squared': np.zeros(self.n_iter),\n",
    "                       'm': np.zeros((self.n_iter, self.n_par)),\n",
    "                       'gammas': np.zeros((self.n_iter, self.n_par, self.S)),\n",
    "                       }\n",
    "        # do gibbs steps:\n",
    "        for it in tqdm(range(self.n_iter)):\n",
    "            self._update_m(self.tau_squared, self.gam)\n",
    "            self._update_tau_squared(self.gam, self.m)\n",
    "            self._update_gamma(self.tau_squared)\n",
    "            self._update_z(self.gam)\n",
    "            self._update_traces(it)\n",
    "        # remove burnin:\n",
    "        for trace in self.traces.keys():\n",
    "            self.traces[trace] = self.traces[trace][self.burn:]\n",
    "        \n",
    "        '''Define plot functions'''    \n",
    "        def plot_gamma_histograms_1(self):        \n",
    "            for b in range(self.n_par): \n",
    "                traces = self.traces['gammas']\n",
    "                for group in range(self.S):\n",
    "                    plt.hist(traces[:, b, group], density=True, alpha=.5, bins=50)\n",
    "                plt.title(f'gamma {b} posteriors, all stores')\n",
    "                plt.figure()\n",
    "        \n",
    "            \n",
    "        def plot_m_histogram(self):\n",
    "            traces = self.traces['m']\n",
    "            for b in range(self.n_par):\n",
    "                plt.hist(traces[:, b], density= True, alpha=.5, bins=50)\n",
    "            plt.title('m posterior')\n",
    "            plt.figure()\n",
    "            \n",
    "\n",
    "        def plot_other_histograms(self, variable):\n",
    "            trace = self.traces[variable]\n",
    "            plt.hist(trace, density=True, alpha=.5, bins=50)\n",
    "            plt.title(f'{variable} posterior')\n",
    "            plt.figure()\n",
    "\n",
    "        def plot_all_posteriors(self):\n",
    "            self.plot_beta_histograms_1()\n",
    "            self.plot_m_histogram()\n",
    "            keys = list(self.traces.keys())\n",
    "            keys.remove('m')\n",
    "            keys.remove('gammas')\n",
    "            for trace in keys:\n",
    "                self.plot_other_histograms(trace)\n",
    "                \n",
    "        \n",
    "\n",
    "#%%\n",
    "model = Hierarchical(states_X, states_y)\n",
    "\n",
    "#%%\n",
    "        \n",
    "model.fit_GibbsSampler(1500, 500)   \n",
    "\n",
    "#%%\n",
    "model.plot_all_posteriors()     \n",
    "        \n",
    "        "
   ]
  },
  {
   "cell_type": "code",
   "execution_count": 49,
   "id": "5be9ae51",
   "metadata": {},
   "outputs": [
    {
     "data": {
      "text/plain": [
       "array([-1.2460836, -0.9041836])"
      ]
     },
     "execution_count": 49,
     "metadata": {},
     "output_type": "execute_result"
    }
   ],
   "source": [
    "truncnorm.rvs([-np.inf, -np.inf],[0,0], loc=0, scale=1)"
   ]
  },
  {
   "cell_type": "code",
   "execution_count": 54,
   "id": "c14c2ef0",
   "metadata": {},
   "outputs": [],
   "source": [
    "lis = np.random.choice([1,0], size=10, replace=True, p=None)"
   ]
  },
  {
   "cell_type": "code",
   "execution_count": 55,
   "id": "ba56185e",
   "metadata": {},
   "outputs": [
    {
     "data": {
      "text/plain": [
       "array([1, 1, 0, 1, 0, 0, 1, 1, 1, 1])"
      ]
     },
     "execution_count": 55,
     "metadata": {},
     "output_type": "execute_result"
    }
   ],
   "source": [
    "lis"
   ]
  },
  {
   "cell_type": "code",
   "execution_count": 56,
   "id": "2f56380d",
   "metadata": {},
   "outputs": [
    {
     "ename": "AttributeError",
     "evalue": "'numpy.ndarray' object has no attribute 'apply'",
     "output_type": "error",
     "traceback": [
      "\u001b[0;31m---------------------------------------------------------------------------\u001b[0m",
      "\u001b[0;31mAttributeError\u001b[0m                            Traceback (most recent call last)",
      "\u001b[0;32m/var/folders/5t/ltqvfkd124z1n5v3ntgw77d40000gn/T/ipykernel_13222/3613518706.py\u001b[0m in \u001b[0;36m<module>\u001b[0;34m\u001b[0m\n\u001b[0;32m----> 1\u001b[0;31m \u001b[0mlis\u001b[0m\u001b[0;34m.\u001b[0m\u001b[0mapply\u001b[0m\u001b[0;34m(\u001b[0m\u001b[0;32mlambda\u001b[0m \u001b[0mx\u001b[0m\u001b[0;34m:\u001b[0m \u001b[0;34m-\u001b[0m\u001b[0mnp\u001b[0m\u001b[0;34m.\u001b[0m\u001b[0minf\u001b[0m \u001b[0;32mif\u001b[0m \u001b[0mx\u001b[0m \u001b[0;34m==\u001b[0m \u001b[0;36m1\u001b[0m \u001b[0;32melse\u001b[0m \u001b[0;36m0\u001b[0m\u001b[0;34m)\u001b[0m\u001b[0;34m\u001b[0m\u001b[0;34m\u001b[0m\u001b[0m\n\u001b[0m",
      "\u001b[0;31mAttributeError\u001b[0m: 'numpy.ndarray' object has no attribute 'apply'"
     ]
    }
   ],
   "source": [
    "lis.apply(lambda x: -np.inf if x == 1 else 0)"
   ]
  },
  {
   "cell_type": "code",
   "execution_count": 66,
   "id": "03e74580",
   "metadata": {},
   "outputs": [],
   "source": []
  },
  {
   "cell_type": "code",
   "execution_count": 67,
   "id": "12f83d79",
   "metadata": {},
   "outputs": [
    {
     "data": {
      "text/plain": [
       "[0, 0, -inf, 0, -inf, -inf, 0, 0, 0, 0]"
      ]
     },
     "execution_count": 67,
     "metadata": {},
     "output_type": "execute_result"
    }
   ],
   "source": [
    "lower_bound"
   ]
  },
  {
   "cell_type": "code",
   "execution_count": 68,
   "id": "df5736a4",
   "metadata": {},
   "outputs": [
    {
     "data": {
      "text/plain": [
       "[inf, inf, 0, inf, 0, 0, inf, inf, inf, inf]"
      ]
     },
     "execution_count": 68,
     "metadata": {},
     "output_type": "execute_result"
    }
   ],
   "source": [
    "upper_bound"
   ]
  },
  {
   "cell_type": "code",
   "execution_count": 69,
   "id": "19e41b7a",
   "metadata": {},
   "outputs": [
    {
     "data": {
      "text/plain": [
       "array([1, 1, 0, 1, 0, 0, 1, 1, 1, 1])"
      ]
     },
     "execution_count": 69,
     "metadata": {},
     "output_type": "execute_result"
    }
   ],
   "source": [
    "lis"
   ]
  },
  {
   "cell_type": "code",
   "execution_count": null,
   "id": "1a436681",
   "metadata": {},
   "outputs": [],
   "source": []
  }
 ],
 "metadata": {
  "kernelspec": {
   "display_name": "Python 3 (ipykernel)",
   "language": "python",
   "name": "python3"
  },
  "language_info": {
   "codemirror_mode": {
    "name": "ipython",
    "version": 3
   },
   "file_extension": ".py",
   "mimetype": "text/x-python",
   "name": "python",
   "nbconvert_exporter": "python",
   "pygments_lexer": "ipython3",
   "version": "3.9.7"
  }
 },
 "nbformat": 4,
 "nbformat_minor": 5
}
